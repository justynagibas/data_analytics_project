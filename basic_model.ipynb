{
 "cells": [
  {
   "cell_type": "code",
   "execution_count": 115,
   "metadata": {},
   "outputs": [],
   "source": [
    "from cmdstanpy import CmdStanModel\n",
    "\n",
    "from seaborn import jointplot\n",
    "import arviz as az\n",
    "import numpy as np\n",
    "import scipy.stats as stats\n",
    "\n",
    "import matplotlib.pyplot as plt\n",
    "import pandas as pd"
   ]
  },
  {
   "cell_type": "code",
   "execution_count": 116,
   "metadata": {},
   "outputs": [
    {
     "name": "stderr",
     "output_type": "stream",
     "text": [
      "/tmp/ipykernel_372/1651812090.py:8: SettingWithCopyWarning: \n",
      "A value is trying to be set on a copy of a slice from a DataFrame.\n",
      "Try using .loc[row_indexer,col_indexer] = value instead\n",
      "\n",
      "See the caveats in the documentation: https://pandas.pydata.org/pandas-docs/stable/user_guide/indexing.html#returning-a-view-versus-a-copy\n",
      "  train_df[\"Mean speed\"] = train_df[\"Road distances [km]\"] / (train_df[\"Time_taken(min)\"] - train_df[\"Meal_preparation_time\"]) * 60\n"
     ]
    },
    {
     "data": {
      "text/plain": [
       "count    4425.000000\n",
       "mean       33.776533\n",
       "std        22.483143\n",
       "min         2.057143\n",
       "25%        16.233913\n",
       "50%        28.185000\n",
       "75%        46.780000\n",
       "max        99.960000\n",
       "Name: Mean speed, dtype: float64"
      ]
     },
     "execution_count": 116,
     "metadata": {},
     "output_type": "execute_result"
    },
    {
     "data": {
      "image/png": "[encoded data removed]",
      "text/plain": [
       "<Figure size 432x288 with 1 Axes>"
      ]
     },
     "metadata": {
      "needs_background": "light"
     },
     "output_type": "display_data"
    }
   ],
   "source": [
    "df = pd.read_csv('delivery_time_data.csv', delimiter=';', decimal=',')\n",
    "\n",
    "df = df[df[\"Road distances [km]\"] < 17.5]\n",
    "\n",
    "# display(df.describe())\n",
    "\n",
    "train_df = df.iloc[10000:15000, :]\n",
    "train_df[\"Mean speed\"] = train_df[\"Road distances [km]\"] / (train_df[\"Time_taken(min)\"] - train_df[\"Meal_preparation_time\"]) * 60\n",
    "train_df = train_df[train_df[\"Mean speed\"] < 100]\n",
    "plt.hist(train_df[\"Mean speed\"])\n",
    "train_df[\"Mean speed\"].describe()"
   ]
  },
  {
   "cell_type": "code",
   "execution_count": 117,
   "metadata": {},
   "outputs": [
    {
     "name": "stderr",
     "output_type": "stream",
     "text": [
      "INFO:cmdstanpy:found newer exe file, not recompiling\n",
      "INFO:cmdstanpy:CmdStan start processing\n",
      "chain 1 |\u001b[34m██████████\u001b[0m| 00:00 Sampling completed"
     ]
    },
    {
     "name": "stdout",
     "output_type": "stream",
     "text": [
      "                                                                                "
     ]
    },
    {
     "name": "stderr",
     "output_type": "stream",
     "text": [
      "\n",
      "INFO:cmdstanpy:CmdStan done processing.\n"
     ]
    },
    {
     "name": "stdout",
     "output_type": "stream",
     "text": [
      "\n"
     ]
    }
   ],
   "source": [
    "model_ppc=CmdStanModel(stan_file='basic_ppc.stan')\n",
    "\n",
    "sim=model_ppc.sample(data={\"N\": len(train_df), \"distance\": train_df[\"Road distances [km]\"].values,\"meal_preparation_time\": train_df[\"Meal_preparation_time\"].values}, \n",
    "                     iter_sampling=1,\n",
    "                     iter_warmup=0, \n",
    "                     chains=1, \n",
    "                     fixed_param=True,\n",
    "                     seed=29042020)\n",
    "prior_fit = sim.draws_pd()"
   ]
  },
  {
   "cell_type": "code",
   "execution_count": 118,
   "metadata": {},
   "outputs": [
    {
     "data": {
      "text/plain": [
       "<matplotlib.legend.Legend at 0x7f8075120100>"
      ]
     },
     "execution_count": 118,
     "metadata": {},
     "output_type": "execute_result"
    },
    {
     "data": {
      "image/png": "[encoded data removed]",
      "text/plain": [
       "<Figure size 432x288 with 1 Axes>"
      ]
     },
     "metadata": {
      "needs_background": "light"
     },
     "output_type": "display_data"
    }
   ],
   "source": [
    "bins = np.linspace(0,100,40)\n",
    "plt.hist(train_df[\"Time_taken(min)\"], bins=bins, alpha=0.5, label=\"Measured data\")\n",
    "plt.hist(prior_fit.iloc[:, 3:].values.flatten(), bins=bins, alpha=0.5, label=\"Simulated data\")\n",
    "plt.legend()"
   ]
  },
  {
   "cell_type": "code",
   "execution_count": 119,
   "metadata": {},
   "outputs": [
    {
     "name": "stdout",
     "output_type": "stream",
     "text": [
      "4425\n",
      "4425\n"
     ]
    }
   ],
   "source": [
    "print(len(prior_fit.iloc[:, 3:].values.flatten()))\n",
    "\n",
    "print(len(train_df[\"Time_taken(min)\"].values))\n",
    "\n"
   ]
  },
  {
   "cell_type": "code",
   "execution_count": 120,
   "metadata": {},
   "outputs": [],
   "source": [
    "train_df[\"Approx time[min]\"] = train_df[\"Road distances [km]\"] / (50/60)"
   ]
  },
  {
   "cell_type": "code",
   "execution_count": 121,
   "metadata": {},
   "outputs": [
    {
     "data": {
      "text/plain": [
       "count    4425.000000\n",
       "mean       10.534571\n",
       "std         5.488470\n",
       "min         1.849200\n",
       "25%         5.449200\n",
       "50%        10.294800\n",
       "75%        15.105600\n",
       "max        20.990400\n",
       "Name: Approx time[min], dtype: float64"
      ]
     },
     "execution_count": 121,
     "metadata": {},
     "output_type": "execute_result"
    }
   ],
   "source": [
    "train_df[\"Approx time[min]\"].describe()"
   ]
  }
 ],
 "metadata": {
  "kernelspec": {
   "display_name": "Python 3",
   "language": "python",
   "name": "python3"
  },
  "language_info": {
   "codemirror_mode": {
    "name": "ipython",
    "version": 3
   },
   "file_extension": ".py",
   "mimetype": "text/x-python",
   "name": "python",
   "nbconvert_exporter": "python",
   "pygments_lexer": "ipython3",
   "version": "3.9.11"
  },
  "orig_nbformat": 4
 },
 "nbformat": 4,
 "nbformat_minor": 2
}
