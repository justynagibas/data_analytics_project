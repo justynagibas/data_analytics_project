{
 "cells": [
  {
   "cell_type": "code",
   "execution_count": 1,
   "metadata": {},
   "outputs": [
    {
     "name": "stderr",
     "output_type": "stream",
     "text": [
      "/usr/local/lib/python3.9/site-packages/tqdm/auto.py:22: TqdmWarning: IProgress not found. Please update jupyter and ipywidgets. See https://ipywidgets.readthedocs.io/en/stable/user_install.html\n",
      "  from .autonotebook import tqdm as notebook_tqdm\n"
     ]
    }
   ],
   "source": [
    "from cmdstanpy import CmdStanModel\n",
    "\n",
    "from seaborn import jointplot\n",
    "import arviz as az\n",
    "import numpy as np\n",
    "import scipy.stats as stats\n",
    "\n",
    "import matplotlib.pyplot as plt\n",
    "import pandas as pd"
   ]
  },
  {
   "cell_type": "code",
   "execution_count": 2,
   "metadata": {},
   "outputs": [
    {
     "data": {
      "image/png": "[encoded data removed]",
      "text/plain": [
       "<Figure size 432x288 with 1 Axes>"
      ]
     },
     "metadata": {
      "needs_background": "light"
     },
     "output_type": "display_data"
    },
    {
     "data": {
      "image/png": "[encoded data removed]",
      "text/plain": [
       "<Figure size 432x288 with 1 Axes>"
      ]
     },
     "metadata": {
      "needs_background": "light"
     },
     "output_type": "display_data"
    },
    {
     "name": "stdout",
     "output_type": "stream",
     "text": [
      "9.230165999999999\n",
      "26.968\n"
     ]
    }
   ],
   "source": [
    "df = pd.read_csv('delivery_time_data.csv', delimiter=';', decimal=',')\n",
    "\n",
    "df = df[df[\"Road distances [km]\"] < 17.5]\n",
    "\n",
    "# display(df.describe())\n",
    "\n",
    "train_df = pd.DataFrame(df.iloc[:3000, :])\n",
    "# normalized distance\n",
    "train_df[\"Normalized distances\"] = (train_df[\"Road distances [km]\"] - train_df[\"Road distances [km]\"].mean()) / train_df[\"Road distances [km]\"].std()\n",
    "\n",
    "# normalized distance\n",
    "train_df[\"Normalized mealprep\"] = (train_df[\"Meal_preparation_time\"] - train_df[\"Meal_preparation_time\"].mean()) / train_df[\"Meal_preparation_time\"].std()\n",
    "\n",
    "# train_df = train_df[train_df[\"Mean speed\"] < 1.7]\n",
    "plt.hist(train_df[\"Normalized distances\"], bins=20)\n",
    "plt.title(\"Normalized distances\")\n",
    "plt.show()\n",
    "\n",
    "plt.hist(train_df[\"Normalized mealprep\"], bins=20)\n",
    "plt.title(\"Normalized meal preparation time\")\n",
    "plt.show()\n",
    "\n",
    "print(train_df[\"Road distances [km]\"].mean())\n",
    "print(train_df[\"Time_taken(min)\"].mean())\n",
    "\n",
    "# display(train_df[\"Road_traffic_density\"].value_counts())\n",
    "# plt.title(\"Count of density type\")\n",
    "# plt.show()\n",
    "\n",
    "# train_df[\"Mean speed\"].describe()\n",
    "# train_df[\"Time_taken(min)\"].describe()\n",
    "# train_df.head()\n",
    "\n",
    "road_density_map = {'Jam ':1, 'High ':2, 'Medium ':3, 'Low ':4}\n",
    "\n",
    "train_df[\"Road_traffic_density\"] = train_df[\"Road_traffic_density\"].apply(lambda x: road_density_map[x])\n"
   ]
  },
  {
   "attachments": {},
   "cell_type": "markdown",
   "metadata": {},
   "source": [
    "# PPC AND FIT WITH NORMALIZED DISTANCES"
   ]
  },
  {
   "cell_type": "code",
   "execution_count": 3,
   "metadata": {},
   "outputs": [
    {
     "name": "stderr",
     "output_type": "stream",
     "text": [
      "INFO:cmdstanpy:found newer exe file, not recompiling\n",
      "INFO:cmdstanpy:CmdStan start processing\n",
      "chain 1 |\u001b[34m██████████\u001b[0m| 00:03 Sampling completed                      "
     ]
    },
    {
     "name": "stdout",
     "output_type": "stream",
     "text": [
      "                                                                                "
     ]
    },
    {
     "name": "stderr",
     "output_type": "stream",
     "text": [
      "\n",
      "INFO:cmdstanpy:CmdStan done processing.\n"
     ]
    },
    {
     "name": "stdout",
     "output_type": "stream",
     "text": [
      "\n"
     ]
    }
   ],
   "source": [
    "model_ppc=CmdStanModel(stan_file='norm_ppc.stan')\n",
    "\n",
    "sim=model_ppc.sample(data={\"N\": len(train_df), \"distance\": train_df[\"Normalized distances\"].values,\n",
    "                           \"meal_preparation_time\": train_df[\"Normalized mealprep\"].values,\n",
    "                           \"traffic_level\" :train_df[\"Road_traffic_density\"].values}, \n",
    "                     iter_sampling=1000,\n",
    "                     iter_warmup=0, \n",
    "                     chains=1, \n",
    "                     fixed_param=True,\n",
    "                     seed=20230613)\n",
    "# ppc_df = sim.draws_pd()\n",
    "\n",
    "# bins = np.linspace(0,100,100)\n",
    "\n",
    "# mean_for_gamma = ppc_df.filter(regex=\"temp1.*\")\n",
    "\n",
    "# delivery = ppc_df.filter(regex=\"delivery_time.*\")\n",
    "# display(mean_for_gamma.iloc[0,:].describe())\n",
    "# # delivery.iloc[:,:].apply(pd.DataFrame.describe, axis=1)\n",
    "# # delivery['value'].describe()\n",
    "# # display(speed.loc[0,:].min())\n",
    "# plt.hist(mean_for_gamma.values.flatten(), alpha=0.5, label=\"Mu\")\n",
    "# plt.title(\"Argument exponenty\")\n",
    "# plt.show()\n",
    "\n",
    "# # mean_for_gamma = ppc_df.filter(regex=\"temp2.*\")\n",
    "\n",
    "# # delivery = ppc_df.filter(regex=\"delivery_time.*\")\n",
    "# # display(mean_for_gamma.iloc[0,:].describe())\n",
    "# # # delivery.iloc[:,:].apply(pd.DataFrame.describe, axis=1)\n",
    "# # # delivery['value'].describe()\n",
    "# # # display(speed.loc[0,:].min())\n",
    "# # plt.hist(mean_for_gamma.values.flatten(), alpha=0.5, label=\"Mu\")\n",
    "# # plt.title(\"Exponenta bez dodawania meal prepa\")\n",
    "# # plt.show()\n",
    "\n",
    "# mean_for_gamma1 = ppc_df.filter(regex=\"mu.*\")\n",
    "\n",
    "# # delivery = ppc_df.filter(regex=\"delivery_time.*\")\n",
    "# display(mean_for_gamma1.iloc[0,:].describe())\n",
    "# # delivery.iloc[:,:].apply(pd.DataFrame.describe, axis=1)\n",
    "# # delivery['value'].describe()\n",
    "# # display(speed.loc[0,:].min())\n",
    "# plt.hist(mean_for_gamma1.values.flatten(), alpha=0.5, label=\"Mu\")\n",
    "# plt.title(\"Wynik exponenty\")\n",
    "# plt.show()\n",
    "\n",
    "# # sigma = ppc_df.filter(regex=\"sigma.*\")\n",
    "# # print(f\"Odchylenie =  {sigma.values}\")\n",
    "\n",
    "# sigma = ppc_df.filter(regex=\"sigma.*\")\n",
    "\n",
    "# # delivery = ppc_df.filter(regex=\"delivery_time.*\")\n",
    "# display(sigma.iloc[:,:].describe())\n",
    "# # delivery.iloc[:,:].apply(pd.DataFrame.describe, axis=1)\n",
    "# # delivery['value'].describe()\n",
    "# # display(speed.loc[0,:].min())\n",
    "# plt.hist(sigma.values.flatten(), alpha=0.5, label=\"sigma\")\n",
    "# plt.title(\"Odchylenie\")\n",
    "# plt.show()\n",
    "\n",
    "# # sigma = ppc_df.filter(regex=\"distance_coeff.*\")\n",
    "# # print(f\"Wsp odległości =  {sigma.values}\")\n",
    "\n",
    "# # sigma = ppc_df.filter(regex=\"meal_prep_coeff.*\")\n",
    "# # print(f\"Wsp przygotowania posiłku =  {sigma.values}\")\n",
    "\n",
    "# mean_for_gamma2 = ppc_df.filter(regex=\"gamma_alpha.*\")\n",
    "# # delivery = ppc_df.filter(regex=\"delivery_time.*\")\n",
    "# display(mean_for_gamma2.iloc[0,:].describe())\n",
    "# # delivery.iloc[:,:].apply(pd.DataFrame.describe, axis=1)\n",
    "# # delivery['value'].describe()\n",
    "# # display(speed.loc[0,:].min())\n",
    "# plt.hist(mean_for_gamma2.values.flatten(), alpha=0.5, label=\"Mu\")\n",
    "# plt.title(\"gamma_alpha prior check\")\n",
    "# plt.show()\n",
    "\n",
    "# mean_for_gamma3 = ppc_df.filter(regex=\"gamma_beta.*\")\n",
    "# # delivery = ppc_df.filter(regex=\"delivery_time.*\")\n",
    "# display(mean_for_gamma3.iloc[0,:].describe())\n",
    "# # delivery.iloc[:,:].apply(pd.DataFrame.describe, axis=1)\n",
    "# # delivery['value'].describe()\n",
    "# # display(speed.loc[0,:].min())\n",
    "# plt.hist(mean_for_gamma3.values.flatten(), alpha=0.5, label=\"Mu\")\n",
    "# plt.title(\"gamma_beta prior check\")\n",
    "# plt.show()\n",
    "\n",
    "# print(delivery.iloc[0,:].describe())\n",
    "# plt.hist(train_df[\"Time_taken(min)\"],bins=bins ,alpha=0.5, label=\"Measured data\", density=True)\n",
    "# plt.hist(delivery.values.flatten(),bins=bins, alpha=0.5, label=\"Simulated data\", density=True)\n",
    "# plt.title(\"Time prior check\")\n",
    "# plt.legend()\n",
    "# plt.show()\n",
    "\n",
    "\n",
    "# print(f\"distance_coef {ppc_df.filter(regex='distance_coeff.*')}\")"
   ]
  },
  {
   "cell_type": "code",
   "execution_count": 4,
   "metadata": {},
   "outputs": [
    {
     "name": "stderr",
     "output_type": "stream",
     "text": [
      "INFO:cmdstanpy:found newer exe file, not recompiling\n",
      "INFO:cmdstanpy:CmdStan start processing\n",
      "chain 1 |\u001b[33m          \u001b[0m| 00:00 Status\n",
      "\u001b[A\n",
      "\n",
      "\u001b[A\u001b[A\n",
      "chain 1 |\u001b[33m▉         \u001b[0m| 00:00 Iteration:    1 / 2000 [  0%]  (Warmup)\n",
      "\n",
      "\u001b[A\u001b[A\n",
      "chain 1 |\u001b[33m█▎        \u001b[0m| 00:01 Iteration:  100 / 2000 [  5%]  (Warmup)\n",
      "\n",
      "chain 1 |\u001b[33m█▊        \u001b[0m| 00:01 Iteration:  200 / 2000 [ 10%]  (Warmup)\n",
      "\u001b[A\n",
      "\n",
      "chain 1 |\u001b[33m██▎       \u001b[0m| 00:01 Iteration:  300 / 2000 [ 15%]  (Warmup)\n",
      "\u001b[A\n",
      "\n",
      "chain 1 |\u001b[33m██▋       \u001b[0m| 00:02 Iteration:  400 / 2000 [ 20%]  (Warmup)\n",
      "\u001b[A\n",
      "\n",
      "chain 1 |\u001b[33m███▏      \u001b[0m| 00:02 Iteration:  500 / 2000 [ 25%]  (Warmup)\n",
      "\u001b[A\n",
      "\n",
      "chain 1 |\u001b[33m███▋      \u001b[0m| 00:02 Iteration:  600 / 2000 [ 30%]  (Warmup)\n",
      "\u001b[A\n",
      "\n",
      "chain 1 |\u001b[33m████      \u001b[0m| 00:03 Iteration:  700 / 2000 [ 35%]  (Warmup)\n",
      "\u001b[A\n",
      "\n",
      "chain 1 |\u001b[33m████▌     \u001b[0m| 00:03 Iteration:  800 / 2000 [ 40%]  (Warmup)\n",
      "\n",
      "\u001b[A\u001b[A\n",
      "chain 1 |\u001b[33m█████     \u001b[0m| 00:03 Iteration:  900 / 2000 [ 45%]  (Warmup)\n",
      "\n",
      "\u001b[A\u001b[A\n",
      "chain 1 |\u001b[34m█████▉    \u001b[0m| 00:04 Iteration: 1001 / 2000 [ 50%]  (Sampling)\n",
      "\n",
      "\u001b[A\u001b[A\n",
      "chain 1 |\u001b[34m██████▎   \u001b[0m| 00:05 Iteration: 1100 / 2000 [ 55%]  (Sampling)\n",
      "\n",
      "\u001b[A\u001b[A\n",
      "chain 1 |\u001b[34m██████▊   \u001b[0m| 00:05 Iteration: 1200 / 2000 [ 60%]  (Sampling)\n",
      "\n",
      "\u001b[A\u001b[A\n",
      "chain 1 |\u001b[34m███████▎  \u001b[0m| 00:06 Iteration: 1300 / 2000 [ 65%]  (Sampling)\n",
      "\n",
      "\u001b[A\u001b[A\n",
      "chain 1 |\u001b[34m███████▋  \u001b[0m| 00:07 Iteration: 1400 / 2000 [ 70%]  (Sampling)\n",
      "\n",
      "\u001b[A\u001b[A\n",
      "chain 1 |\u001b[34m████████▏ \u001b[0m| 00:08 Iteration: 1500 / 2000 [ 75%]  (Sampling)\n",
      "\n",
      "\u001b[A\u001b[A\n",
      "chain 1 |\u001b[34m████████▋ \u001b[0m| 00:08 Iteration: 1600 / 2000 [ 80%]  (Sampling)\n",
      "\n",
      "\u001b[A\u001b[A\n",
      "chain 1 |\u001b[34m█████████ \u001b[0m| 00:09 Iteration: 1700 / 2000 [ 85%]  (Sampling)\n",
      "\n",
      "\u001b[A\u001b[A\n",
      "chain 1 |\u001b[34m█████████▌\u001b[0m| 00:10 Iteration: 1800 / 2000 [ 90%]  (Sampling)\n",
      "\n",
      "\u001b[A\u001b[A\n",
      "chain 1 |\u001b[34m██████████\u001b[0m| 00:11 Iteration: 1900 / 2000 [ 95%]  (Sampling)\n",
      "\n",
      "\u001b[A\u001b[A\n",
      "chain 1 |\u001b[34m██████████\u001b[0m| 00:11 Sampling completed                       \n",
      "chain 2 |\u001b[34m██████████\u001b[0m| 00:11 Sampling completed                       \n",
      "chain 3 |\u001b[34m██████████\u001b[0m| 00:11 Sampling completed                       \n",
      "chain 4 |\u001b[34m██████████\u001b[0m| 00:11 Sampling completed                       "
     ]
    },
    {
     "name": "stdout",
     "output_type": "stream",
     "text": [
      "                                                                                                                                                                                                                                                                                                                                "
     ]
    },
    {
     "name": "stderr",
     "output_type": "stream",
     "text": [
      "\n",
      "INFO:cmdstanpy:CmdStan done processing.\n"
     ]
    },
    {
     "name": "stdout",
     "output_type": "stream",
     "text": [
      "\n"
     ]
    }
   ],
   "source": [
    "basic_fit=CmdStanModel(stan_file='norm_fit.stan')\n",
    "\n",
    "basic_sample=basic_fit.sample(data={\"N\": len(train_df), \n",
    "                                    \"distance\": train_df[\"Normalized distances\"].values,\n",
    "                                    \"meal_preparation_time\": train_df[\"Normalized mealprep\"].values, \n",
    "                                    \"delivery_times\": train_df[\"Time_taken(min)\"].values, \n",
    "                                    \"traffic_level\" :train_df[\"Road_traffic_density\"].values},\n",
    "                     iter_sampling=1000,\n",
    "                     iter_warmup=1000, \n",
    "                     chains=4,\n",
    "                         )\n",
    "\n",
    "\n",
    "df_fit = basic_sample.draws_pd()\n",
    "# display(df_fit)\n",
    "\n",
    "# traffib_level = df_fit.filter(regex=\"distance_coef.*\")\n",
    "# # df_fit.iloc[:, 8:]\n",
    "# # plt.hist(train_df[\"Time_taken(min)\"], bins=bins, alpha=0.5, label=\"Measured data\")\n",
    "# plt.hist(traffib_level.values.flatten(), alpha=0.5, label=\"Simulated data\")\n",
    "# plt.title(\"distance coef\")\n",
    "# plt.legend()\n",
    "# plt.show()\n",
    "\n",
    "# traffib_level = df_fit.filter(regex=\"meal_prep_coef.*\")\n",
    "# # df_fit.iloc[:, 8:]\n",
    "# # plt.hist(train_df[\"Time_taken(min)\"], bins=bins, alpha=0.5, label=\"Measured data\")\n",
    "# plt.hist(traffib_level.values.flatten(), alpha=0.5, label=\"Simulated data\")\n",
    "# plt.title(\"meal prep coef\")\n",
    "# plt.legend()\n",
    "# plt.show()\n",
    "\n",
    "\n",
    "# traffib_level = df_fit.filter(regex=\"traffic_level_coef.*\")\n",
    "# # df_fit.iloc[:, 8:]\n",
    "# # plt.hist(train_df[\"Time_taken(min)\"], bins=bins, alpha=0.5, label=\"Measured data\")\n",
    "# plt.hist(traffib_level.values.flatten(), alpha=0.5, label=\"Simulated data\")\n",
    "# plt.title(\"traffic level coef\")\n",
    "# plt.legend()\n",
    "# plt.show()\n",
    "\n",
    "# epx_argument = df_fit.filter(regex=\"exp_argument.*\")\n",
    "# # df_fit.iloc[:, 8:]\n",
    "# # plt.hist(train_df[\"Time_taken(min)\"], bins=bins, alpha=0.5, label=\"Measured data\")\n",
    "# plt.hist(epx_argument.values.flatten(), alpha=0.5, label=\"Simulated data\")\n",
    "# plt.title(\"exp_argument\")\n",
    "# plt.legend()\n",
    "# plt.show()\n",
    "\n",
    "# epx_argument = df_fit.filter(regex=\"exp_argument_with.*\")\n",
    "# # df_fit.iloc[:, 8:]\n",
    "# # plt.hist(train_df[\"Time_taken(min)\"], bins=bins, alpha=0.5, label=\"Measured data\")\n",
    "# plt.hist(epx_argument.values.flatten(), alpha=0.5, label=\"Simulated data\")\n",
    "# plt.title(\"exp_argument with meal\")\n",
    "# plt.legend()\n",
    "# plt.show()\n",
    "\n",
    "# mu = df_fit.filter(regex=\"mu.*\")\n",
    "# # df_fit.iloc[:, 8:]\n",
    "# # plt.hist(train_df[\"Time_taken(min)\"], bins=bins, alpha=0.5, label=\"Measured data\")\n",
    "# plt.hist(mu.values.flatten(),bins=bins, alpha=0.5, label=\"Simulated data\")\n",
    "# plt.title(\"mu\")\n",
    "# plt.legend()\n",
    "# plt.show()\n",
    "\n",
    "# # travel_time = df_fit.filter(regex=\"travel_time.*\")\n",
    "# # # df_fit.iloc[:, 8:]\n",
    "# # # plt.hist(train_df[\"Time_taken(min)\"], bins=bins, alpha=0.5, label=\"Measured data\")\n",
    "# # plt.hist(travel_time.values.flatten(),bins=np.linspace(0,100,100), alpha=0.5, label=\"Simulated data\")\n",
    "# # plt.title(\"travel time\")\n",
    "# # plt.legend()\n",
    "# # plt.show()\n",
    "\n",
    "# sigma = df_fit.filter(regex=\"sigma.*\")\n",
    "# # df_fit.iloc[:, 8:]\n",
    "# # plt.hist(train_df[\"Time_taken(min)\"], bins=bins, alpha=0.5, label=\"Measured data\")\n",
    "# plt.hist(sigma.values.flatten(), alpha=0.5, label=\"Simulated data\")\n",
    "# plt.title(\"sigma\")\n",
    "# plt.legend()\n",
    "# plt.show()\n",
    "\n",
    "\n",
    "\n",
    "# delivery_fit = df_fit.filter(regex=\"delivery_time.*\")\n",
    "# # df_fit.iloc[:, 8:]\n",
    "# plt.hist(train_df[\"Time_taken(min)\"], bins=bins,density=True, alpha=0.5, label=\"Measured data\")\n",
    "# plt.hist(delivery_fit.values.flatten(),bins=bins,density=True, alpha=0.5, label=\"Simulated data\")\n",
    "# plt.title(\"delivery time\")\n",
    "# plt.legend()\n",
    "# plt.show()\n",
    "\n",
    "# # print(f\"meal_prep_ceof {df_fit.filter(regex='meal_prep_coef.*')}\")\n",
    "# # print(f\"distance_coef {df_fit.filter(regex='distance_coeff.*')}\")\n",
    "temp=basic_sample.diagnose()\n",
    "with open(\"output.txt\", \"w\") as file:\n",
    "    file.write(temp)"
   ]
  },
  {
   "attachments": {},
   "cell_type": "markdown",
   "metadata": {},
   "source": [
    "# Model 2"
   ]
  },
  {
   "cell_type": "code",
   "execution_count": 5,
   "metadata": {},
   "outputs": [],
   "source": [
    "train_df[\"Normalized person_rating\"] = (train_df[\"Delivery_person_Ratings\"] - train_df[\"Delivery_person_Ratings\"].mean()) / train_df[\"Delivery_person_Ratings\"].std()\n",
    "\n",
    "# # train_df = train_df[train_df[\"Mean speed\"] < 1.7]\n",
    "# plt.hist(train_df[\"Normalized distances\"], bins=20)\n",
    "# plt.title(\"Normalized distances\")\n",
    "# plt.show()\n",
    "\n",
    "# plt.hist(train_df[\"Normalized mealprep\"], bins=20)\n",
    "# plt.title(\"Normalized meal preparation time\")\n",
    "# plt.show()\n",
    "\n",
    "# plt.hist(train_df[\"Normalized person_rating\"], bins=20)\n",
    "# plt.title(\"Normalized deliery person rating\")\n",
    "# plt.show()\n",
    "\n",
    "# print(train_df[\"Road distances [km]\"].mean())\n",
    "# print(train_df[\"Time_taken(min)\"].mean())\n",
    "# print(train_df[\"Delivery_person_Ratings\"].mean())\n",
    "\n",
    "\n",
    "train_df[\"multiple_deliveries\"] = train_df[\"multiple_deliveries\"]+1\n"
   ]
  },
  {
   "cell_type": "code",
   "execution_count": 6,
   "metadata": {},
   "outputs": [
    {
     "name": "stderr",
     "output_type": "stream",
     "text": [
      "INFO:cmdstanpy:found newer exe file, not recompiling\n",
      "INFO:cmdstanpy:CmdStan start processing\n",
      "chain 1 |\u001b[34m██████████\u001b[0m| 00:03 Sampling completed                      "
     ]
    },
    {
     "name": "stdout",
     "output_type": "stream",
     "text": [
      "                                                                                "
     ]
    },
    {
     "name": "stderr",
     "output_type": "stream",
     "text": [
      "\n",
      "INFO:cmdstanpy:CmdStan done processing.\n"
     ]
    },
    {
     "name": "stdout",
     "output_type": "stream",
     "text": [
      "\n"
     ]
    }
   ],
   "source": [
    "model_ppc=CmdStanModel(stan_file='model2_ppc.stan')\n",
    "\n",
    "sim=model_ppc.sample(data={\"N\": len(train_df), \"distance\": train_df[\"Normalized distances\"].values,\n",
    "                           \"meal_preparation_time\": train_df[\"Normalized mealprep\"].values,\n",
    "                           \"traffic_level\": train_df[\"Road_traffic_density\"].values,\n",
    "                           \"delivery_person_rating\": train_df[\"Normalized person_rating\"].values,\n",
    "                           \"number_of_deliveiers\": train_df[\"multiple_deliveries\"].values}, \n",
    "                     iter_sampling=1000,\n",
    "                     iter_warmup=0, \n",
    "                     chains=1, \n",
    "                     fixed_param=True,\n",
    "                     seed=20230613)\n",
    "ppc_df = sim.draws_pd()\n",
    "\n",
    "# bins = np.linspace(0,100,100)\n",
    "\n",
    "# mean_for_gamma = ppc_df.filter(regex=\"temp1.*\")\n",
    "\n",
    "# delivery = ppc_df.filter(regex=\"delivery_time.*\")\n",
    "# display(mean_for_gamma.iloc[:,:].describe())\n",
    "# # delivery.iloc[:,:].apply(pd.DataFrame.describe, axis=1)\n",
    "# # delivery['value'].describe()\n",
    "# # display(speed.loc[0,:].min())\n",
    "# plt.hist(mean_for_gamma.values.flatten(), alpha=0.5, label=\"Mu\")\n",
    "# plt.title(\"Argument exponenty\")\n",
    "# plt.show()\n",
    "\n",
    "# # mean_for_gamma = ppc_df.filter(regex=\"temp2.*\")\n",
    "\n",
    "# # delivery = ppc_df.filter(regex=\"delivery_time.*\")\n",
    "# # display(mean_for_gamma.iloc[0,:].describe())\n",
    "# # # delivery.iloc[:,:].apply(pd.DataFrame.describe, axis=1)\n",
    "# # # delivery['value'].describe()\n",
    "# # # display(speed.loc[0,:].min())\n",
    "# # plt.hist(mean_for_gamma.values.flatten(), alpha=0.5, label=\"Mu\")\n",
    "# # plt.title(\"Exponenta bez dodawania meal prepa\")\n",
    "# # plt.show()\n",
    "\n",
    "# mean_for_gamma1 = ppc_df.filter(regex=\"mu.*\")\n",
    "\n",
    "# # delivery = ppc_df.filter(regex=\"delivery_time.*\")\n",
    "# display(mean_for_gamma1.iloc[0,:].describe())\n",
    "# # delivery.iloc[:,:].apply(pd.DataFrame.describe, axis=1)\n",
    "# # delivery['value'].describe()\n",
    "# # display(speed.loc[0,:].min())\n",
    "# plt.hist(mean_for_gamma1.values.flatten(), alpha=0.5, label=\"Mu\")\n",
    "# plt.title(\"Wynik exponenty\")\n",
    "# plt.show()\n",
    "\n",
    "# # sigma = ppc_df.filter(regex=\"sigma.*\")\n",
    "# # print(f\"Odchylenie =  {sigma.values}\")\n",
    "\n",
    "# sigma = ppc_df.filter(regex=\"sigma.*\")\n",
    "\n",
    "# # delivery = ppc_df.filter(regex=\"delivery_time.*\")\n",
    "# display(sigma.iloc[:,:].describe())\n",
    "# # delivery.iloc[:,:].apply(pd.DataFrame.describe, axis=1)\n",
    "# # delivery['value'].describe()\n",
    "# # display(speed.loc[0,:].min())\n",
    "# plt.hist(sigma.values.flatten(), alpha=0.5, label=\"sigma\")\n",
    "# plt.title(\"Odchylenie\")\n",
    "# plt.show()\n",
    "\n",
    "# sigma = ppc_df.filter(regex=\"person_rating_coeff.*\")\n",
    "\n",
    "# # delivery = ppc_df.filter(regex=\"delivery_time.*\")\n",
    "# display(sigma.iloc[:,:].describe())\n",
    "# # delivery.iloc[:,:].apply(pd.DataFrame.describe, axis=1)\n",
    "# # delivery['value'].describe()\n",
    "# # display(speed.loc[0,:].min())\n",
    "# plt.hist(sigma.values.flatten(), alpha=0.5, label=\"sigma\")\n",
    "# plt.title(\"Delivery rating coeff\")\n",
    "# plt.show()\n",
    "\n",
    "# # sigma = ppc_df.filter(regex=\"distance_coeff.*\")\n",
    "# # print(f\"Wsp odległości =  {sigma.values}\")\n",
    "\n",
    "# # sigma = ppc_df.filter(regex=\"meal_prep_coeff.*\")\n",
    "# # print(f\"Wsp przygotowania posiłku =  {sigma.values}\")\n",
    "\n",
    "# # mean_for_gamma2 = ppc_df.filter(regex=\"gamma_alpha.*\")\n",
    "# # # delivery = ppc_df.filter(regex=\"delivery_time.*\")\n",
    "# # display(mean_for_gamma2.iloc[0,:].describe())\n",
    "# # # delivery.iloc[:,:].apply(pd.DataFrame.describe, axis=1)\n",
    "# # # delivery['value'].describe()\n",
    "# # # display(speed.loc[0,:].min())\n",
    "# # plt.hist(mean_for_gamma2.values.flatten(), alpha=0.5, label=\"Mu\")\n",
    "# # plt.title(\"gamma_alpha prior check\")\n",
    "# # plt.show()\n",
    "\n",
    "# # mean_for_gamma3 = ppc_df.filter(regex=\"gamma_beta.*\")\n",
    "# # # delivery = ppc_df.filter(regex=\"delivery_time.*\")\n",
    "# # display(mean_for_gamma3.iloc[0,:].describe())\n",
    "# # # delivery.iloc[:,:].apply(pd.DataFrame.describe, axis=1)\n",
    "# # # delivery['value'].describe()\n",
    "# # # display(speed.loc[0,:].min())\n",
    "# # plt.hist(mean_for_gamma3.values.flatten(), alpha=0.5, label=\"Mu\")\n",
    "# # plt.title(\"gamma_beta prior check\")\n",
    "# # plt.show()\n",
    "\n",
    "# print(delivery.iloc[0,:].describe())\n",
    "# plt.hist(train_df[\"Time_taken(min)\"],bins=bins ,alpha=0.5, label=\"Measured data\", density=True)\n",
    "# plt.hist(delivery.values.flatten(),bins=bins, alpha=0.5, label=\"Simulated data\", density=True)\n",
    "# plt.title(\"Time prior check\")\n",
    "# plt.legend()\n",
    "# plt.show()\n",
    "\n",
    "\n",
    "# print(f\"distance_coef {ppc_df.filter(regex='distance_coeff.*')}\")"
   ]
  },
  {
   "cell_type": "code",
   "execution_count": 7,
   "metadata": {},
   "outputs": [
    {
     "name": "stderr",
     "output_type": "stream",
     "text": [
      "INFO:cmdstanpy:found newer exe file, not recompiling\n",
      "INFO:cmdstanpy:CmdStan start processing\n",
      "chain 1 |\u001b[33m          \u001b[0m| 00:00 Status\n",
      "\u001b[A\n",
      "\n",
      "\u001b[A\u001b[A\n",
      "\n",
      "\u001b[A\u001b[A\n",
      "chain 1 |\u001b[33m▉         \u001b[0m| 00:01 Iteration:    1 / 2000 [  0%]  (Warmup)\n",
      "\n",
      "chain 1 |\u001b[33m█▎        \u001b[0m| 00:05 Iteration:  100 / 2000 [  5%]  (Warmup)\n",
      "\u001b[A\n",
      "\n",
      "\u001b[A\u001b[A\n",
      "chain 1 |\u001b[33m█▊        \u001b[0m| 00:10 Iteration:  200 / 2000 [ 10%]  (Warmup)\n",
      "\u001b[A\n",
      "\n",
      "chain 1 |\u001b[33m██▎       \u001b[0m| 00:13 Iteration:  300 / 2000 [ 15%]  (Warmup)\n",
      "\u001b[A\n",
      "\n",
      "chain 1 |\u001b[33m██▋       \u001b[0m| 00:17 Iteration:  400 / 2000 [ 20%]  (Warmup)\n",
      "chain 1 |\u001b[33m███▏      \u001b[0m| 00:21 Iteration:  500 / 2000 [ 25%]  (Warmup)\n",
      "\n",
      "\u001b[A\u001b[A\n",
      "chain 1 |\u001b[33m███▋      \u001b[0m| 00:24 Iteration:  600 / 2000 [ 30%]  (Warmup)\n",
      "\n",
      "\u001b[A\u001b[A\n",
      "chain 1 |\u001b[33m████      \u001b[0m| 00:27 Iteration:  700 / 2000 [ 35%]  (Warmup)\n",
      "\n",
      "\u001b[A\u001b[A\n",
      "chain 1 |\u001b[33m████▌     \u001b[0m| 00:30 Iteration:  800 / 2000 [ 40%]  (Warmup)\n",
      "\n",
      "\u001b[A\u001b[A\n",
      "\n",
      "\u001b[A\u001b[A\n",
      "chain 1 |\u001b[33m█████     \u001b[0m| 00:35 Iteration:  900 / 2000 [ 45%]  (Warmup)\n",
      "\n",
      "chain 1 |\u001b[34m█████▉    \u001b[0m| 00:40 Iteration: 1001 / 2000 [ 50%]  (Sampling)\n",
      "\u001b[A\n",
      "\n",
      "chain 1 |\u001b[34m██████▎   \u001b[0m| 00:45 Iteration: 1100 / 2000 [ 55%]  (Sampling)\n",
      "\u001b[A\n",
      "\n",
      "chain 1 |\u001b[34m██████▊   \u001b[0m| 00:50 Iteration: 1200 / 2000 [ 60%]  (Sampling)\n",
      "\u001b[A\n",
      "\n",
      "chain 1 |\u001b[34m███████▎  \u001b[0m| 00:55 Iteration: 1300 / 2000 [ 65%]  (Sampling)\n",
      "\u001b[A\n",
      "\n",
      "chain 1 |\u001b[34m███████▋  \u001b[0m| 01:00 Iteration: 1400 / 2000 [ 70%]  (Sampling)\n",
      "\u001b[A\n",
      "\n",
      "chain 1 |\u001b[34m████████▏ \u001b[0m| 01:05 Iteration: 1500 / 2000 [ 75%]  (Sampling)\n",
      "\u001b[A\n",
      "\n",
      "chain 1 |\u001b[34m████████▋ \u001b[0m| 01:10 Iteration: 1600 / 2000 [ 80%]  (Sampling)\n",
      "\n",
      "\u001b[A\u001b[A\n",
      "chain 1 |\u001b[34m█████████ \u001b[0m| 01:14 Iteration: 1700 / 2000 [ 85%]  (Sampling)\n",
      "\u001b[A\n",
      "\n",
      "chain 1 |\u001b[34m█████████▌\u001b[0m| 01:19 Iteration: 1800 / 2000 [ 90%]  (Sampling)\n",
      "\n",
      "\u001b[A\u001b[A\n",
      "chain 1 |\u001b[34m██████████\u001b[0m| 01:23 Iteration: 1900 / 2000 [ 95%]  (Sampling)\n",
      "chain 1 |\u001b[34m██████████\u001b[0m| 01:25 Sampling completed                       \n",
      "chain 2 |\u001b[34m██████████\u001b[0m| 01:25 Sampling completed                       \n",
      "chain 3 |\u001b[34m██████████\u001b[0m| 01:25 Sampling completed                       \n",
      "chain 4 |\u001b[34m██████████\u001b[0m| 01:25 Sampling completed                       "
     ]
    },
    {
     "name": "stdout",
     "output_type": "stream",
     "text": [
      "                                                                                                                                                                                                                                                                                                                                "
     ]
    },
    {
     "name": "stderr",
     "output_type": "stream",
     "text": [
      "\n",
      "INFO:cmdstanpy:CmdStan done processing.\n"
     ]
    },
    {
     "name": "stdout",
     "output_type": "stream",
     "text": [
      "\n"
     ]
    }
   ],
   "source": [
    "model2_fit=CmdStanModel(stan_file='model2_fit.stan')\n",
    "\n",
    "model2_sample=model2_fit.sample(data={\"N\": len(train_df), \n",
    "                                    \"distance\": train_df[\"Normalized distances\"].values,\n",
    "                                    \"meal_preparation_time\": train_df[\"Normalized mealprep\"].values, \n",
    "                                    \"delivery_times\": train_df[\"Time_taken(min)\"].values, \n",
    "                                    \"traffic_level\" :train_df[\"Road_traffic_density\"].values,\n",
    "                                    \"delivery_person_rating\": train_df[\"Normalized person_rating\"].values,\n",
    "                                    \"number_of_deliveiers\": train_df[\"multiple_deliveries\"].values}, \n",
    "                     iter_sampling=1000,\n",
    "                     iter_warmup=1000, \n",
    "                     chains=4,\n",
    "                         )\n",
    "\n",
    "\n",
    "df_fit = model2_sample.draws_pd()\n",
    "# display(df_fit)\n",
    "\n",
    "# traffib_level = df_fit.filter(regex=\"distance_coef.*\")\n",
    "# # df_fit.iloc[:, 8:]\n",
    "# # plt.hist(train_df[\"Time_taken(min)\"], bins=bins, alpha=0.5, label=\"Measured data\")\n",
    "# plt.hist(traffib_level.values.flatten(), alpha=0.5, label=\"Simulated data\")\n",
    "# plt.title(\"distance coef\")\n",
    "# plt.legend()\n",
    "# plt.show()\n",
    "\n",
    "# traffib_level = df_fit.filter(regex=\"meal_prep_coef.*\")\n",
    "# # df_fit.iloc[:, 8:]\n",
    "# # plt.hist(train_df[\"Time_taken(min)\"], bins=bins, alpha=0.5, label=\"Measured data\")\n",
    "# plt.hist(traffib_level.values.flatten(), alpha=0.5, label=\"Simulated data\")\n",
    "# plt.title(\"meal prep coef\")\n",
    "# plt.legend()\n",
    "# plt.show()\n",
    "\n",
    "# traffib_level = df_fit.filter(regex=\"deliveries_number_coef.*\")\n",
    "# # df_fit.iloc[:, 8:]\n",
    "# # plt.hist(train_df[\"Time_taken(min)\"], bins=bins, alpha=0.5, label=\"Measured data\")\n",
    "# plt.hist(traffib_level.values.flatten(), alpha=0.5, label=\"Simulated data\")\n",
    "# plt.title(\"Deliveries number coef\")\n",
    "# plt.legend()\n",
    "# plt.show()\n",
    "\n",
    "# traffib_level = df_fit.filter(regex=\"person_rating_coef.*\")\n",
    "# # df_fit.iloc[:, 8:]\n",
    "# # plt.hist(train_df[\"Time_taken(min)\"], bins=bins, alpha=0.5, label=\"Measured data\")\n",
    "# plt.hist(traffib_level.values.flatten(), alpha=0.5, label=\"Simulated data\")\n",
    "# plt.title(\"Delivery rating coef\")\n",
    "# plt.legend()\n",
    "# plt.show()\n",
    "\n",
    "\n",
    "# traffib_level = df_fit.filter(regex=\"traffic_level_coef.*\")\n",
    "# # df_fit.iloc[:, 8:]\n",
    "# # plt.hist(train_df[\"Time_taken(min)\"], bins=bins, alpha=0.5, label=\"Measured data\")\n",
    "# plt.hist(traffib_level.values.flatten(), alpha=0.5, label=\"Simulated data\")\n",
    "# plt.title(\"traffic level coef\")\n",
    "# plt.legend()\n",
    "# plt.show()\n",
    "\n",
    "# epx_argument = df_fit.filter(regex=\"exp_argument.*\")\n",
    "# # df_fit.iloc[:, 8:]\n",
    "# # plt.hist(train_df[\"Time_taken(min)\"], bins=bins, alpha=0.5, label=\"Measured data\")\n",
    "# plt.hist(epx_argument.values.flatten(), alpha=0.5, label=\"Simulated data\")\n",
    "# plt.title(\"exp_argument\")\n",
    "# plt.legend()\n",
    "# plt.show()\n",
    "\n",
    "# epx_argument = df_fit.filter(regex=\"exp_argument_with.*\")\n",
    "# # df_fit.iloc[:, 8:]\n",
    "# # plt.hist(train_df[\"Time_taken(min)\"], bins=bins, alpha=0.5, label=\"Measured data\")\n",
    "# plt.hist(epx_argument.values.flatten(), alpha=0.5, label=\"Simulated data\")\n",
    "# plt.title(\"exp_argument with meal\")\n",
    "# plt.legend()\n",
    "# plt.show()\n",
    "\n",
    "# mu = df_fit.filter(regex=\"mu.*\")\n",
    "# # df_fit.iloc[:, 8:]\n",
    "# # plt.hist(train_df[\"Time_taken(min)\"], bins=bins, alpha=0.5, label=\"Measured data\")\n",
    "# plt.hist(mu.values.flatten(),bins=bins, alpha=0.5, label=\"Simulated data\")\n",
    "# plt.title(\"mu\")\n",
    "# plt.legend()\n",
    "# plt.show()\n",
    "\n",
    "# # travel_time = df_fit.filter(regex=\"travel_time.*\")\n",
    "# # # df_fit.iloc[:, 8:]\n",
    "# # # plt.hist(train_df[\"Time_taken(min)\"], bins=bins, alpha=0.5, label=\"Measured data\")\n",
    "# # plt.hist(travel_time.values.flatten(),bins=np.linspace(0,100,100), alpha=0.5, label=\"Simulated data\")\n",
    "# # plt.title(\"travel time\")\n",
    "# # plt.legend()\n",
    "# # plt.show()\n",
    "\n",
    "# sigma = df_fit.filter(regex=\"sigma.*\")\n",
    "# # df_fit.iloc[:, 8:]\n",
    "# # plt.hist(train_df[\"Time_taken(min)\"], bins=bins, alpha=0.5, label=\"Measured data\")\n",
    "# plt.hist(sigma.values.flatten(), alpha=0.5, label=\"Simulated data\")\n",
    "# plt.title(\"sigma\")\n",
    "# plt.legend()\n",
    "# plt.show()\n",
    "\n",
    "\n",
    "\n",
    "# delivery_fit = df_fit.filter(regex=\"delivery_time.*\")\n",
    "# # df_fit.iloc[:, 8:]\n",
    "# plt.hist(train_df[\"Time_taken(min)\"], bins=bins,density=True, alpha=0.5, label=\"Measured data\")\n",
    "# plt.hist(delivery_fit.values.flatten(),bins=bins,density=True, alpha=0.5, label=\"Simulated data\")\n",
    "# plt.title(\"delivery time\")\n",
    "# plt.legend()\n",
    "# plt.show()\n",
    "\n",
    "# # print(f\"meal_prep_ceof {df_fit.filter(regex='meal_prep_coef.*')}\")\n",
    "# # print(f\"distance_coef {df_fit.filter(regex='distance_coeff.*')}\")\n",
    "temp=model2_sample.diagnose()\n",
    "with open(\"output2.txt\", \"w\") as file:\n",
    "    file.write(temp)"
   ]
  },
  {
   "attachments": {},
   "cell_type": "markdown",
   "metadata": {},
   "source": [
    "# Plots"
   ]
  },
  {
   "cell_type": "code",
   "execution_count": 12,
   "metadata": {},
   "outputs": [
    {
     "data": {
      "image/png": "[encoded data removed]",
      "text/plain": [
       "<Figure size 432x288 with 1 Axes>"
      ]
     },
     "metadata": {
      "needs_background": "light"
     },
     "output_type": "display_data"
    },
    {
     "data": {
      "image/png": "[encoded data removed]",
      "text/plain": [
       "<Figure size 432x288 with 1 Axes>"
      ]
     },
     "metadata": {
      "needs_background": "light"
     },
     "output_type": "display_data"
    }
   ],
   "source": [
    "model1_fit = basic_sample.draws_pd()\n",
    "model2_fit = model2_sample.draws_pd()\n",
    "\n",
    "bins = np.linspace(1,100,100)\n",
    "\n",
    "delivery_fit = model1_fit.filter(regex=\"delivery_time.*\")\n",
    "# df_fit.iloc[:, 8:]\n",
    "plt.hist(train_df[\"Time_taken(min)\"], bins=bins,density=True, alpha=0.5, label=\"Measured data\")\n",
    "plt.hist(delivery_fit.values.flatten(),bins=bins,density=True, alpha=0.5, label=\"Simulated data\")\n",
    "plt.title(\"delivery time\")\n",
    "plt.legend()\n",
    "plt.show()\n",
    "\n",
    "delivery_fit = model2_fit.filter(regex=\"delivery_time.*\")\n",
    "# df_fit.iloc[:, 8:]\n",
    "plt.hist(train_df[\"Time_taken(min)\"], bins=bins,density=True, alpha=0.5, label=\"Measured data\")\n",
    "plt.hist(delivery_fit.values.flatten(),bins=bins,density=True, alpha=0.5, label=\"Simulated data\")\n",
    "plt.title(\"delivery time\")\n",
    "plt.legend()\n",
    "plt.show()"
   ]
  },
  {
   "attachments": {},
   "cell_type": "markdown",
   "metadata": {},
   "source": [
    "# Comparison"
   ]
  },
  {
   "cell_type": "code",
   "execution_count": 8,
   "metadata": {},
   "outputs": [],
   "source": [
    "model1_az = az.from_cmdstanpy(\n",
    "    posterior=basic_sample,\n",
    ")\n",
    "\n",
    "model2_az = az.from_cmdstanpy(\n",
    "    posterior=model2_sample,\n",
    ")"
   ]
  },
  {
   "cell_type": "code",
   "execution_count": 9,
   "metadata": {},
   "outputs": [
    {
     "name": "stderr",
     "output_type": "stream",
     "text": [
      "arviz - WARNING - Array contains NaN-value.\n",
      "/usr/local/lib/python3.9/site-packages/arviz/stats/stats.py:811: UserWarning: Estimated shape parameter of Pareto distribution is greater than 0.7 for one or more samples. You should consider using a more robust model, this is because importance sampling is less likely to work well if the marginal posterior and LOO posterior are very different. This is more likely to happen with a non-robust model and highly influential observations.\n",
      "  warnings.warn(\n"
     ]
    },
    {
     "data": {
      "text/html": [
       "<div>\n",
       "<style scoped>\n",
       "    .dataframe tbody tr th:only-of-type {\n",
       "        vertical-align: middle;\n",
       "    }\n",
       "\n",
       "    .dataframe tbody tr th {\n",
       "        vertical-align: top;\n",
       "    }\n",
       "\n",
       "    .dataframe thead th {\n",
       "        text-align: right;\n",
       "    }\n",
       "</style>\n",
       "<table border=\"1\" class=\"dataframe\">\n",
       "  <thead>\n",
       "    <tr style=\"text-align: right;\">\n",
       "      <th></th>\n",
       "      <th>rank</th>\n",
       "      <th>loo</th>\n",
       "      <th>p_loo</th>\n",
       "      <th>d_loo</th>\n",
       "      <th>weight</th>\n",
       "      <th>se</th>\n",
       "      <th>dse</th>\n",
       "      <th>warning</th>\n",
       "      <th>loo_scale</th>\n",
       "    </tr>\n",
       "  </thead>\n",
       "  <tbody>\n",
       "    <tr>\n",
       "      <th>model2_1</th>\n",
       "      <td>0</td>\n",
       "      <td>-6747.645770</td>\n",
       "      <td>17.296264</td>\n",
       "      <td>0.000000</td>\n",
       "      <td>0.981171</td>\n",
       "      <td>38.058102</td>\n",
       "      <td>0.000000</td>\n",
       "      <td>True</td>\n",
       "      <td>log</td>\n",
       "    </tr>\n",
       "    <tr>\n",
       "      <th>model_1</th>\n",
       "      <td>1</td>\n",
       "      <td>-7083.980872</td>\n",
       "      <td>9.146481</td>\n",
       "      <td>336.335102</td>\n",
       "      <td>0.018829</td>\n",
       "      <td>32.960138</td>\n",
       "      <td>25.126862</td>\n",
       "      <td>False</td>\n",
       "      <td>log</td>\n",
       "    </tr>\n",
       "  </tbody>\n",
       "</table>\n",
       "</div>"
      ],
      "text/plain": [
       "          rank          loo      p_loo       d_loo    weight         se  \\\n",
       "model2_1     0 -6747.645770  17.296264    0.000000  0.981171  38.058102   \n",
       "model_1      1 -7083.980872   9.146481  336.335102  0.018829  32.960138   \n",
       "\n",
       "                dse  warning loo_scale  \n",
       "model2_1   0.000000     True       log  \n",
       "model_1   25.126862    False       log  "
      ]
     },
     "metadata": {},
     "output_type": "display_data"
    },
    {
     "data": {
      "text/plain": [
       "Text(0.5, 1.0, 'Comparison of models with LOO criterion')"
      ]
     },
     "execution_count": 9,
     "metadata": {},
     "output_type": "execute_result"
    },
    {
     "data": {
      "image/png": "[encoded data removed]",
      "text/plain": [
       "<Figure size 432x144 with 1 Axes>"
      ]
     },
     "metadata": {
      "needs_background": "light"
     },
     "output_type": "display_data"
    }
   ],
   "source": [
    "compare_dict = {\"model_1\": model1_az, \"model2_1\": model2_az}\n",
    "\n",
    "loo_diff = az.compare(compare_dict=compare_dict, ic=\"loo\")\n",
    "display(loo_diff)\n",
    "\n",
    "ax = az.plot_compare(loo_diff)\n",
    "ax.set_title(\"Comparison of models with LOO criterion\")"
   ]
  },
  {
   "cell_type": "code",
   "execution_count": 10,
   "metadata": {},
   "outputs": [
    {
     "name": "stderr",
     "output_type": "stream",
     "text": [
      "/usr/local/lib/python3.9/site-packages/arviz/stats/stats.py:1635: UserWarning: For one or more samples the posterior variance of the log predictive densities exceeds 0.4. This could be indication of WAIC starting to fail. \n",
      "See http://arxiv.org/abs/1507.04544 for details\n",
      "  warnings.warn(\n"
     ]
    },
    {
     "data": {
      "text/html": [
       "<div>\n",
       "<style scoped>\n",
       "    .dataframe tbody tr th:only-of-type {\n",
       "        vertical-align: middle;\n",
       "    }\n",
       "\n",
       "    .dataframe tbody tr th {\n",
       "        vertical-align: top;\n",
       "    }\n",
       "\n",
       "    .dataframe thead th {\n",
       "        text-align: right;\n",
       "    }\n",
       "</style>\n",
       "<table border=\"1\" class=\"dataframe\">\n",
       "  <thead>\n",
       "    <tr style=\"text-align: right;\">\n",
       "      <th></th>\n",
       "      <th>rank</th>\n",
       "      <th>waic</th>\n",
       "      <th>p_waic</th>\n",
       "      <th>d_waic</th>\n",
       "      <th>weight</th>\n",
       "      <th>se</th>\n",
       "      <th>dse</th>\n",
       "      <th>warning</th>\n",
       "      <th>waic_scale</th>\n",
       "    </tr>\n",
       "  </thead>\n",
       "  <tbody>\n",
       "    <tr>\n",
       "      <th>model2_1</th>\n",
       "      <td>0</td>\n",
       "      <td>-6747.304835</td>\n",
       "      <td>16.955328</td>\n",
       "      <td>0.000000</td>\n",
       "      <td>0.981168</td>\n",
       "      <td>37.957831</td>\n",
       "      <td>0.000000</td>\n",
       "      <td>True</td>\n",
       "      <td>log</td>\n",
       "    </tr>\n",
       "    <tr>\n",
       "      <th>model_1</th>\n",
       "      <td>1</td>\n",
       "      <td>-7083.981370</td>\n",
       "      <td>9.146978</td>\n",
       "      <td>336.676535</td>\n",
       "      <td>0.018832</td>\n",
       "      <td>32.960224</td>\n",
       "      <td>24.982687</td>\n",
       "      <td>False</td>\n",
       "      <td>log</td>\n",
       "    </tr>\n",
       "  </tbody>\n",
       "</table>\n",
       "</div>"
      ],
      "text/plain": [
       "          rank         waic     p_waic      d_waic    weight         se  \\\n",
       "model2_1     0 -6747.304835  16.955328    0.000000  0.981168  37.957831   \n",
       "model_1      1 -7083.981370   9.146978  336.676535  0.018832  32.960224   \n",
       "\n",
       "                dse  warning waic_scale  \n",
       "model2_1   0.000000     True        log  \n",
       "model_1   24.982687    False        log  "
      ]
     },
     "metadata": {},
     "output_type": "display_data"
    },
    {
     "data": {
      "text/plain": [
       "Text(0.5, 1.0, 'Comparison of models with LOO criterion')"
      ]
     },
     "execution_count": 10,
     "metadata": {},
     "output_type": "execute_result"
    },
    {
     "data": {
      "image/png": "[encoded data removed]",
      "text/plain": [
       "<Figure size 432x144 with 1 Axes>"
      ]
     },
     "metadata": {
      "needs_background": "light"
     },
     "output_type": "display_data"
    }
   ],
   "source": [
    "compare_dict = {\"model_1\": model1_az, \"model2_1\": model2_az}\n",
    "\n",
    "loo_diff = az.compare(compare_dict=compare_dict, ic=\"waic\")\n",
    "display(loo_diff)\n",
    "\n",
    "ax = az.plot_compare(loo_diff)\n",
    "ax.set_title(\"Comparison of models with LOO criterion\")"
   ]
  }
 ],
 "metadata": {
  "kernelspec": {
   "display_name": "Python 3",
   "language": "python",
   "name": "python3"
  },
  "language_info": {
   "codemirror_mode": {
    "name": "ipython",
    "version": 3
   },
   "file_extension": ".py",
   "mimetype": "text/x-python",
   "name": "python",
   "nbconvert_exporter": "python",
   "pygments_lexer": "ipython3",
   "version": "3.9.11"
  },
  "orig_nbformat": 4
 },
 "nbformat": 4,
 "nbformat_minor": 2
}
