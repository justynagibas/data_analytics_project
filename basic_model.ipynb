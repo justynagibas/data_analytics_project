{
 "cells": [
  {
   "cell_type": "code",
   "execution_count": 1,
   "metadata": {},
   "outputs": [
    {
     "name": "stderr",
     "output_type": "stream",
     "text": [
      "/usr/local/lib/python3.9/site-packages/tqdm/auto.py:22: TqdmWarning: IProgress not found. Please update jupyter and ipywidgets. See https://ipywidgets.readthedocs.io/en/stable/user_install.html\n",
      "  from .autonotebook import tqdm as notebook_tqdm\n"
     ]
    }
   ],
   "source": [
    "from cmdstanpy import CmdStanModel\n",
    "\n",
    "from seaborn import jointplot\n",
    "import arviz as az\n",
    "import numpy as np\n",
    "import scipy.stats as stats\n",
    "\n",
    "import matplotlib.pyplot as plt\n",
    "import pandas as pd"
   ]
  },
  {
   "cell_type": "code",
   "execution_count": 2,
   "metadata": {},
   "outputs": [
    {
     "data": {
      "image/png": "[encoded data removed]",
      "text/plain": [
       "<Figure size 432x288 with 1 Axes>"
      ]
     },
     "metadata": {
      "needs_background": "light"
     },
     "output_type": "display_data"
    }
   ],
   "source": [
    "df = pd.read_csv('delivery_time_data.csv', delimiter=';', decimal=',')\n",
    "\n",
    "df = df[df[\"Road distances [km]\"] < 17.5]\n",
    "\n",
    "# display(df.describe())\n",
    "\n",
    "train_df = pd.DataFrame(df.iloc[:1000, :])\n",
    "# normalized distance\n",
    "train_df[\"Normalized distances\"] = (train_df[\"Road distances [km]\"] - train_df[\"Road distances [km]\"].min()) / (train_df[\"Road distances [km]\"].max() - train_df[\"Road distances [km]\"].min())\n",
    "# train_df = train_df[train_df[\"Mean speed\"] < 1.7]\n",
    "plt.hist(train_df[\"Normalized distances\"], bins=20)\n",
    "plt.title(\"Normalized distances\")\n",
    "plt.show()\n",
    "# display(train_df[\"Road_traffic_density\"].value_counts())\n",
    "# plt.title(\"Count of density type\")\n",
    "# plt.show()\n",
    "\n",
    "# train_df[\"Mean speed\"].describe()\n",
    "# train_df[\"Time_taken(min)\"].describe()\n",
    "# train_df.head()\n",
    "\n",
    "road_density_map = {'Jam ':1, 'High ':2, 'Medium ':3, 'Low ':4}\n",
    "\n",
    "train_df[\"Road_traffic_density\"] = train_df[\"Road_traffic_density\"].apply(lambda x: road_density_map[x])\n"
   ]
  },
  {
   "attachments": {},
   "cell_type": "markdown",
   "metadata": {},
   "source": [
    "# PPC CHECKS"
   ]
  },
  {
   "cell_type": "code",
   "execution_count": 3,
   "metadata": {},
   "outputs": [
    {
     "name": "stderr",
     "output_type": "stream",
     "text": [
      "INFO:cmdstanpy:found newer exe file, not recompiling\n",
      "INFO:cmdstanpy:CmdStan start processing\n",
      "chain 1 |\u001b[34m██████████\u001b[0m| 00:00 Sampling completed"
     ]
    },
    {
     "name": "stdout",
     "output_type": "stream",
     "text": [
      "                                                                                "
     ]
    },
    {
     "name": "stderr",
     "output_type": "stream",
     "text": [
      "\n",
      "INFO:cmdstanpy:CmdStan done processing.\n"
     ]
    },
    {
     "name": "stdout",
     "output_type": "stream",
     "text": [
      "\n"
     ]
    },
    {
     "data": {
      "text/plain": [
       "count    1000.000000\n",
       "mean        1.879422\n",
       "std         0.593195\n",
       "min         0.719856\n",
       "25%         1.380720\n",
       "50%         1.882990\n",
       "75%         2.384635\n",
       "max         3.001520\n",
       "Name: 0, dtype: float64"
      ]
     },
     "metadata": {},
     "output_type": "display_data"
    },
    {
     "data": {
      "image/png": "[encoded data removed]",
      "text/plain": [
       "<Figure size 432x288 with 1 Axes>"
      ]
     },
     "metadata": {
      "needs_background": "light"
     },
     "output_type": "display_data"
    },
    {
     "data": {
      "text/plain": [
       "count    1000.000000\n",
       "mean        7.768166\n",
       "std         4.511996\n",
       "min         2.054140\n",
       "25%         3.977770\n",
       "50%         6.573160\n",
       "75%        10.855150\n",
       "max        20.116100\n",
       "Name: 0, dtype: float64"
      ]
     },
     "metadata": {},
     "output_type": "display_data"
    },
    {
     "data": {
      "image/png": "[encoded data removed]",
      "text/plain": [
       "<Figure size 432x288 with 1 Axes>"
      ]
     },
     "metadata": {
      "needs_background": "light"
     },
     "output_type": "display_data"
    },
    {
     "data": {
      "text/plain": [
       "count    1000.000000\n",
       "mean       23.703912\n",
       "std        18.006057\n",
       "min         3.589080\n",
       "25%        11.069450\n",
       "50%        17.995550\n",
       "75%        31.028275\n",
       "max        95.552300\n",
       "Name: 0, dtype: float64"
      ]
     },
     "metadata": {},
     "output_type": "display_data"
    },
    {
     "data": {
      "image/png": "[encoded data removed]",
      "text/plain": [
       "<Figure size 432x288 with 1 Axes>"
      ]
     },
     "metadata": {
      "needs_background": "light"
     },
     "output_type": "display_data"
    },
    {
     "name": "stdout",
     "output_type": "stream",
     "text": [
      "Odchylenie =  [[1.54846]]\n"
     ]
    },
    {
     "data": {
      "text/plain": [
       "count    1000.000000\n",
       "mean      369.419398\n",
       "std       599.884988\n",
       "min         5.372350\n",
       "25%        51.103400\n",
       "50%       135.061000\n",
       "75%       401.527250\n",
       "max      3807.860000\n",
       "Name: 0, dtype: float64"
      ]
     },
     "metadata": {},
     "output_type": "display_data"
    },
    {
     "data": {
      "image/png": "[encoded data removed]",
      "text/plain": [
       "<Figure size 432x288 with 1 Axes>"
      ]
     },
     "metadata": {
      "needs_background": "light"
     },
     "output_type": "display_data"
    },
    {
     "data": {
      "text/plain": [
       "count    1000.000000\n",
       "mean        9.885964\n",
       "std         7.509615\n",
       "min         1.496860\n",
       "25%         4.616623\n",
       "50%         7.505250\n",
       "75%        12.940675\n",
       "max        39.851100\n",
       "Name: 0, dtype: float64"
      ]
     },
     "metadata": {},
     "output_type": "display_data"
    },
    {
     "data": {
      "image/png": "[encoded data removed]",
      "text/plain": [
       "<Figure size 432x288 with 1 Axes>"
      ]
     },
     "metadata": {
      "needs_background": "light"
     },
     "output_type": "display_data"
    },
    {
     "name": "stdout",
     "output_type": "stream",
     "text": [
      "count    1000.000000\n",
      "mean       23.711499\n",
      "std        18.087611\n",
      "min         1.670490\n",
      "25%        10.867075\n",
      "50%        18.235350\n",
      "75%        31.088550\n",
      "max        96.943600\n",
      "Name: 0, dtype: float64\n"
     ]
    },
    {
     "data": {
      "image/png": "[encoded data removed]",
      "text/plain": [
       "<Figure size 432x288 with 1 Axes>"
      ]
     },
     "metadata": {
      "needs_background": "light"
     },
     "output_type": "display_data"
    },
    {
     "name": "stdout",
     "output_type": "stream",
     "text": [
      "distance_coef    distance_coeff\n",
      "0        0.127082\n"
     ]
    }
   ],
   "source": [
    "model_ppc=CmdStanModel(stan_file='basic_ppc.stan')\n",
    "\n",
    "sim=model_ppc.sample(data={\"N\": len(train_df), \"distance\": train_df[\"Road distances [km]\"].values,\"meal_preparation_time\": train_df[\"Meal_preparation_time\"].values,\"traffic_level\" :train_df[\"Road_traffic_density\"].values}, \n",
    "                     iter_sampling=1,\n",
    "                     iter_warmup=0, \n",
    "                     chains=1, \n",
    "                     fixed_param=True,\n",
    "                     seed=29042020)\n",
    "ppc_df = sim.draws_pd()\n",
    "\n",
    "bins = np.linspace(0,100,100)\n",
    "\n",
    "# speed_bins = np.linspace(0,2.5,100)\n",
    "# speed = ppc_df.filter(regex=\"speed.*\")\n",
    "# plt.hist(train_df[\"Mean speed\"],bins=speed_bins ,alpha=0.5, label=\"Measured data\")\n",
    "# plt.hist(speed.values.flatten(),bins=speed_bins, alpha=0.5, label=\"Simulated data\")\n",
    "# plt.title(\"Speed prior check\")\n",
    "# plt.legend()\n",
    "# plt.show()\n",
    "\n",
    "mean_for_gamma = ppc_df.filter(regex=\"temp1.*\")\n",
    "\n",
    "delivery = ppc_df.filter(regex=\"delivery_time.*\")\n",
    "display(mean_for_gamma.iloc[0,:].describe())\n",
    "# delivery.iloc[:,:].apply(pd.DataFrame.describe, axis=1)\n",
    "# delivery['value'].describe()\n",
    "# display(speed.loc[0,:].min())\n",
    "plt.hist(mean_for_gamma.values.flatten(), alpha=0.5, label=\"Mu\")\n",
    "plt.title(\"Argument exponenty\")\n",
    "plt.show()\n",
    "\n",
    "mean_for_gamma = ppc_df.filter(regex=\"temp2.*\")\n",
    "\n",
    "delivery = ppc_df.filter(regex=\"delivery_time.*\")\n",
    "display(mean_for_gamma.iloc[0,:].describe())\n",
    "# delivery.iloc[:,:].apply(pd.DataFrame.describe, axis=1)\n",
    "# delivery['value'].describe()\n",
    "# display(speed.loc[0,:].min())\n",
    "plt.hist(mean_for_gamma.values.flatten(), alpha=0.5, label=\"Mu\")\n",
    "plt.title(\"Exponenta bez dodawania meal prepa\")\n",
    "plt.show()\n",
    "\n",
    "mean_for_gamma1 = ppc_df.filter(regex=\"mu.*\")\n",
    "\n",
    "# delivery = ppc_df.filter(regex=\"delivery_time.*\")\n",
    "display(mean_for_gamma1.iloc[0,:].describe())\n",
    "# delivery.iloc[:,:].apply(pd.DataFrame.describe, axis=1)\n",
    "# delivery['value'].describe()\n",
    "# display(speed.loc[0,:].min())\n",
    "plt.hist(mean_for_gamma1.values.flatten(), alpha=0.5, label=\"Mu\")\n",
    "plt.title(\"Wynik exponenty\")\n",
    "plt.show()\n",
    "\n",
    "sigma = ppc_df.filter(regex=\"sigma.*\")\n",
    "print(f\"Odchylenie =  {sigma.values}\")\n",
    "\n",
    "mean_for_gamma2 = ppc_df.filter(regex=\"gamma_alpha.*\")\n",
    "# delivery = ppc_df.filter(regex=\"delivery_time.*\")\n",
    "display(mean_for_gamma2.iloc[0,:].describe())\n",
    "# delivery.iloc[:,:].apply(pd.DataFrame.describe, axis=1)\n",
    "# delivery['value'].describe()\n",
    "# display(speed.loc[0,:].min())\n",
    "plt.hist(mean_for_gamma2.values.flatten(), alpha=0.5, label=\"Mu\")\n",
    "plt.title(\"gamma_alpha prior check\")\n",
    "plt.show()\n",
    "\n",
    "mean_for_gamma3 = ppc_df.filter(regex=\"gamma_beta.*\")\n",
    "# delivery = ppc_df.filter(regex=\"delivery_time.*\")\n",
    "display(mean_for_gamma3.iloc[0,:].describe())\n",
    "# delivery.iloc[:,:].apply(pd.DataFrame.describe, axis=1)\n",
    "# delivery['value'].describe()\n",
    "# display(speed.loc[0,:].min())\n",
    "plt.hist(mean_for_gamma3.values.flatten(), alpha=0.5, label=\"Mu\")\n",
    "plt.title(\"gamma_beta prior check\")\n",
    "plt.show()\n",
    "\n",
    "print(delivery.iloc[0,:].describe())\n",
    "plt.hist(train_df[\"Time_taken(min)\"],bins=bins ,alpha=0.5, label=\"Measured data\")\n",
    "plt.hist(delivery.values.flatten(),bins=bins, alpha=0.5, label=\"Simulated data\")\n",
    "plt.title(\"Time prior check\")\n",
    "plt.legend()\n",
    "plt.show()\n",
    "\n",
    "\n",
    "print(f\"distance_coef {ppc_df.filter(regex='distance_coeff.*')}\")\n"
   ]
  },
  {
   "cell_type": "code",
   "execution_count": 4,
   "metadata": {},
   "outputs": [
    {
     "data": {
      "text/plain": [
       "count    1000.000000\n",
       "mean        9.305281\n",
       "std         4.524166\n",
       "min         1.572000\n",
       "25%         5.525500\n",
       "50%         9.228000\n",
       "75%        13.171000\n",
       "max        17.433000\n",
       "Name: Road distances [km], dtype: float64"
      ]
     },
     "metadata": {},
     "output_type": "display_data"
    },
    {
     "data": {
      "text/plain": [
       "count    1000.000000\n",
       "mean        9.800000\n",
       "std         4.071434\n",
       "min         5.000000\n",
       "25%         5.000000\n",
       "50%        10.000000\n",
       "75%        15.000000\n",
       "max        15.000000\n",
       "Name: Meal_preparation_time, dtype: float64"
      ]
     },
     "metadata": {},
     "output_type": "display_data"
    },
    {
     "data": {
      "text/plain": [
       "4    343\n",
       "1    324\n",
       "3    234\n",
       "2     99\n",
       "Name: Road_traffic_density, dtype: int64"
      ]
     },
     "metadata": {},
     "output_type": "display_data"
    }
   ],
   "source": [
    "data={\"N\": len(train_df), \"distance\": train_df[\"Road distances [km]\"].values,\"meal_preparation_time\": train_df[\"Meal_preparation_time\"].values,\"traffic_level\" :train_df[\"Road_traffic_density\"].values}\n",
    "\n",
    "display(train_df[\"Road distances [km]\"].describe())\n",
    "display(train_df[\"Meal_preparation_time\"].describe())\n",
    "display(train_df[\"Road_traffic_density\"].value_counts())"
   ]
  },
  {
   "attachments": {},
   "cell_type": "markdown",
   "metadata": {},
   "source": [
    "## Model fit"
   ]
  },
  {
   "cell_type": "code",
   "execution_count": 5,
   "metadata": {},
   "outputs": [
    {
     "name": "stderr",
     "output_type": "stream",
     "text": [
      "INFO:cmdstanpy:found newer exe file, not recompiling\n",
      "INFO:cmdstanpy:CmdStan start processing\n",
      "chain 1 |\u001b[33m          \u001b[0m| 00:00 Status\n",
      "\u001b[A\n",
      "\n",
      "\u001b[A\u001b[A\n",
      "\n",
      "chain 1 |\u001b[34m███▎      \u001b[0m| 00:00 Status\n",
      "\u001b[A\n",
      "\n",
      "chain 1 |\u001b[34m██████▋   \u001b[0m| 00:00 Iteration:  1 / 100 [  1%]  (Sampling)\n",
      "chain 1 |\u001b[34m██████████\u001b[0m| 00:00 Sampling completed                    \n",
      "chain 2 |\u001b[34m██████████\u001b[0m| 00:00 Sampling completed                    \n",
      "chain 3 |\u001b[34m██████████\u001b[0m| 00:00 Sampling completed                    \n",
      "chain 4 |\u001b[34m██████████\u001b[0m| 00:00 Sampling completed                    "
     ]
    },
    {
     "name": "stdout",
     "output_type": "stream",
     "text": [
      "                                                                                                                                                                                                                                                                                                                                "
     ]
    },
    {
     "name": "stderr",
     "output_type": "stream",
     "text": [
      "\n",
      "INFO:cmdstanpy:CmdStan done processing.\n"
     ]
    },
    {
     "name": "stdout",
     "output_type": "stream",
     "text": [
      "\n"
     ]
    },
    {
     "data": {
      "text/html": [
       "<div>\n",
       "<style scoped>\n",
       "    .dataframe tbody tr th:only-of-type {\n",
       "        vertical-align: middle;\n",
       "    }\n",
       "\n",
       "    .dataframe tbody tr th {\n",
       "        vertical-align: top;\n",
       "    }\n",
       "\n",
       "    .dataframe thead th {\n",
       "        text-align: right;\n",
       "    }\n",
       "</style>\n",
       "<table border=\"1\" class=\"dataframe\">\n",
       "  <thead>\n",
       "    <tr style=\"text-align: right;\">\n",
       "      <th></th>\n",
       "      <th>lp__</th>\n",
       "      <th>accept_stat__</th>\n",
       "      <th>distance_coeff_raw</th>\n",
       "      <th>traffic_level_coeff[1]</th>\n",
       "      <th>traffic_level_coeff[2]</th>\n",
       "      <th>traffic_level_coeff[3]</th>\n",
       "      <th>traffic_level_coeff[4]</th>\n",
       "      <th>meal_prep_coeff</th>\n",
       "      <th>sigma</th>\n",
       "      <th>distance_coeff</th>\n",
       "      <th>...</th>\n",
       "      <th>exp_argument[991]</th>\n",
       "      <th>exp_argument[992]</th>\n",
       "      <th>exp_argument[993]</th>\n",
       "      <th>exp_argument[994]</th>\n",
       "      <th>exp_argument[995]</th>\n",
       "      <th>exp_argument[996]</th>\n",
       "      <th>exp_argument[997]</th>\n",
       "      <th>exp_argument[998]</th>\n",
       "      <th>exp_argument[999]</th>\n",
       "      <th>exp_argument[1000]</th>\n",
       "    </tr>\n",
       "  </thead>\n",
       "  <tbody>\n",
       "    <tr>\n",
       "      <th>0</th>\n",
       "      <td>0.0</td>\n",
       "      <td>0.0</td>\n",
       "      <td>-0.063851</td>\n",
       "      <td>0.069542</td>\n",
       "      <td>0.032588</td>\n",
       "      <td>0.084294</td>\n",
       "      <td>0.026439</td>\n",
       "      <td>0.068354</td>\n",
       "      <td>0.422528</td>\n",
       "      <td>0.063851</td>\n",
       "      <td>...</td>\n",
       "      <td>0.647191</td>\n",
       "      <td>1.43289</td>\n",
       "      <td>0.503379</td>\n",
       "      <td>1.64502</td>\n",
       "      <td>1.00676</td>\n",
       "      <td>0.962274</td>\n",
       "      <td>1.02791</td>\n",
       "      <td>0.5574</td>\n",
       "      <td>2.11039</td>\n",
       "      <td>0.879056</td>\n",
       "    </tr>\n",
       "    <tr>\n",
       "      <th>1</th>\n",
       "      <td>0.0</td>\n",
       "      <td>0.0</td>\n",
       "      <td>-0.063851</td>\n",
       "      <td>0.069542</td>\n",
       "      <td>0.032588</td>\n",
       "      <td>0.084294</td>\n",
       "      <td>0.026439</td>\n",
       "      <td>0.068354</td>\n",
       "      <td>0.422528</td>\n",
       "      <td>0.063851</td>\n",
       "      <td>...</td>\n",
       "      <td>0.647191</td>\n",
       "      <td>1.43289</td>\n",
       "      <td>0.503379</td>\n",
       "      <td>1.64502</td>\n",
       "      <td>1.00676</td>\n",
       "      <td>0.962274</td>\n",
       "      <td>1.02791</td>\n",
       "      <td>0.5574</td>\n",
       "      <td>2.11039</td>\n",
       "      <td>0.879056</td>\n",
       "    </tr>\n",
       "    <tr>\n",
       "      <th>2</th>\n",
       "      <td>0.0</td>\n",
       "      <td>0.0</td>\n",
       "      <td>-0.063851</td>\n",
       "      <td>0.069542</td>\n",
       "      <td>0.032588</td>\n",
       "      <td>0.084294</td>\n",
       "      <td>0.026439</td>\n",
       "      <td>0.068354</td>\n",
       "      <td>0.422528</td>\n",
       "      <td>0.063851</td>\n",
       "      <td>...</td>\n",
       "      <td>0.647191</td>\n",
       "      <td>1.43289</td>\n",
       "      <td>0.503379</td>\n",
       "      <td>1.64502</td>\n",
       "      <td>1.00676</td>\n",
       "      <td>0.962274</td>\n",
       "      <td>1.02791</td>\n",
       "      <td>0.5574</td>\n",
       "      <td>2.11039</td>\n",
       "      <td>0.879056</td>\n",
       "    </tr>\n",
       "    <tr>\n",
       "      <th>3</th>\n",
       "      <td>0.0</td>\n",
       "      <td>0.0</td>\n",
       "      <td>-0.063851</td>\n",
       "      <td>0.069542</td>\n",
       "      <td>0.032588</td>\n",
       "      <td>0.084294</td>\n",
       "      <td>0.026439</td>\n",
       "      <td>0.068354</td>\n",
       "      <td>0.422528</td>\n",
       "      <td>0.063851</td>\n",
       "      <td>...</td>\n",
       "      <td>0.647191</td>\n",
       "      <td>1.43289</td>\n",
       "      <td>0.503379</td>\n",
       "      <td>1.64502</td>\n",
       "      <td>1.00676</td>\n",
       "      <td>0.962274</td>\n",
       "      <td>1.02791</td>\n",
       "      <td>0.5574</td>\n",
       "      <td>2.11039</td>\n",
       "      <td>0.879056</td>\n",
       "    </tr>\n",
       "    <tr>\n",
       "      <th>4</th>\n",
       "      <td>0.0</td>\n",
       "      <td>0.0</td>\n",
       "      <td>-0.063851</td>\n",
       "      <td>0.069542</td>\n",
       "      <td>0.032588</td>\n",
       "      <td>0.084294</td>\n",
       "      <td>0.026439</td>\n",
       "      <td>0.068354</td>\n",
       "      <td>0.422528</td>\n",
       "      <td>0.063851</td>\n",
       "      <td>...</td>\n",
       "      <td>0.647191</td>\n",
       "      <td>1.43289</td>\n",
       "      <td>0.503379</td>\n",
       "      <td>1.64502</td>\n",
       "      <td>1.00676</td>\n",
       "      <td>0.962274</td>\n",
       "      <td>1.02791</td>\n",
       "      <td>0.5574</td>\n",
       "      <td>2.11039</td>\n",
       "      <td>0.879056</td>\n",
       "    </tr>\n",
       "  </tbody>\n",
       "</table>\n",
       "<p>5 rows × 3010 columns</p>\n",
       "</div>"
      ],
      "text/plain": [
       "   lp__  accept_stat__  distance_coeff_raw  traffic_level_coeff[1]  \\\n",
       "0   0.0            0.0           -0.063851                0.069542   \n",
       "1   0.0            0.0           -0.063851                0.069542   \n",
       "2   0.0            0.0           -0.063851                0.069542   \n",
       "3   0.0            0.0           -0.063851                0.069542   \n",
       "4   0.0            0.0           -0.063851                0.069542   \n",
       "\n",
       "   traffic_level_coeff[2]  traffic_level_coeff[3]  traffic_level_coeff[4]  \\\n",
       "0                0.032588                0.084294                0.026439   \n",
       "1                0.032588                0.084294                0.026439   \n",
       "2                0.032588                0.084294                0.026439   \n",
       "3                0.032588                0.084294                0.026439   \n",
       "4                0.032588                0.084294                0.026439   \n",
       "\n",
       "   meal_prep_coeff     sigma  distance_coeff  ...  exp_argument[991]  \\\n",
       "0         0.068354  0.422528        0.063851  ...           0.647191   \n",
       "1         0.068354  0.422528        0.063851  ...           0.647191   \n",
       "2         0.068354  0.422528        0.063851  ...           0.647191   \n",
       "3         0.068354  0.422528        0.063851  ...           0.647191   \n",
       "4         0.068354  0.422528        0.063851  ...           0.647191   \n",
       "\n",
       "   exp_argument[992]  exp_argument[993]  exp_argument[994]  exp_argument[995]  \\\n",
       "0            1.43289           0.503379            1.64502            1.00676   \n",
       "1            1.43289           0.503379            1.64502            1.00676   \n",
       "2            1.43289           0.503379            1.64502            1.00676   \n",
       "3            1.43289           0.503379            1.64502            1.00676   \n",
       "4            1.43289           0.503379            1.64502            1.00676   \n",
       "\n",
       "   exp_argument[996]  exp_argument[997]  exp_argument[998]  exp_argument[999]  \\\n",
       "0           0.962274            1.02791             0.5574            2.11039   \n",
       "1           0.962274            1.02791             0.5574            2.11039   \n",
       "2           0.962274            1.02791             0.5574            2.11039   \n",
       "3           0.962274            1.02791             0.5574            2.11039   \n",
       "4           0.962274            1.02791             0.5574            2.11039   \n",
       "\n",
       "   exp_argument[1000]  \n",
       "0            0.879056  \n",
       "1            0.879056  \n",
       "2            0.879056  \n",
       "3            0.879056  \n",
       "4            0.879056  \n",
       "\n",
       "[5 rows x 3010 columns]"
      ]
     },
     "metadata": {},
     "output_type": "display_data"
    },
    {
     "data": {
      "image/png": "[encoded data removed]",
      "text/plain": [
       "<Figure size 432x288 with 1 Axes>"
      ]
     },
     "metadata": {
      "needs_background": "light"
     },
     "output_type": "display_data"
    },
    {
     "data": {
      "image/png": "[encoded data removed]",
      "text/plain": [
       "<Figure size 432x288 with 1 Axes>"
      ]
     },
     "metadata": {
      "needs_background": "light"
     },
     "output_type": "display_data"
    },
    {
     "data": {
      "image/png": "[encoded data removed]",
      "text/plain": [
       "<Figure size 432x288 with 1 Axes>"
      ]
     },
     "metadata": {
      "needs_background": "light"
     },
     "output_type": "display_data"
    },
    {
     "data": {
      "image/png": "[encoded data removed]",
      "text/plain": [
       "<Figure size 432x288 with 1 Axes>"
      ]
     },
     "metadata": {
      "needs_background": "light"
     },
     "output_type": "display_data"
    },
    {
     "data": {
      "image/png": "[encoded data removed]",
      "text/plain": [
       "<Figure size 432x288 with 1 Axes>"
      ]
     },
     "metadata": {
      "needs_background": "light"
     },
     "output_type": "display_data"
    }
   ],
   "source": [
    "basic_fit=CmdStanModel(stan_file='basic_fit.stan')\n",
    "\n",
    "basic_sample=basic_fit.sample(data={\"N\": len(train_df), \n",
    "                                    \"distance\": train_df[\"Road distances [km]\"].values,\n",
    "                                    \"meal_preparation_time\": train_df[\"Meal_preparation_time\"].values, \n",
    "                                    \"delivery_times\": train_df[\"Time_taken(min)\"].values, \n",
    "                                    \"traffic_level\" :train_df[\"Road_traffic_density\"].values},\n",
    "                              iter_sampling=100,\n",
    "                              chains=4,\n",
    "                              iter_warmup=0,\n",
    "                              fixed_param=True,\n",
    "                         )\n",
    "\n",
    "\n",
    "df_fit = basic_sample.draws_pd()\n",
    "display(df_fit.head())\n",
    "\n",
    "\n",
    "traffib_level = df_fit.filter(regex=\"traffic_level_coef.*\")\n",
    "# df_fit.iloc[:, 8:]\n",
    "# plt.hist(train_df[\"Time_taken(min)\"], bins=bins, alpha=0.5, label=\"Measured data\")\n",
    "plt.hist(traffib_level.values.flatten(), alpha=0.5, label=\"Simulated data\")\n",
    "plt.title(\"traffic level coef\")\n",
    "plt.legend()\n",
    "plt.show()\n",
    "\n",
    "epx_argument = df_fit.filter(regex=\"exp_argument.*\")\n",
    "# df_fit.iloc[:, 8:]\n",
    "# plt.hist(train_df[\"Time_taken(min)\"], bins=bins, alpha=0.5, label=\"Measured data\")\n",
    "plt.hist(epx_argument.values.flatten(), alpha=0.5, label=\"Simulated data\")\n",
    "plt.title(\"exp_argument\")\n",
    "plt.legend()\n",
    "plt.show()\n",
    "\n",
    "mu = df_fit.filter(regex=\"mu.*\")\n",
    "# df_fit.iloc[:, 8:]\n",
    "# plt.hist(train_df[\"Time_taken(min)\"], bins=bins, alpha=0.5, label=\"Measured data\")\n",
    "plt.hist(mu.values.flatten(),bins=bins, alpha=0.5, label=\"Simulated data\")\n",
    "plt.title(\"mu\")\n",
    "plt.legend()\n",
    "plt.show()\n",
    "\n",
    "# travel_time = df_fit.filter(regex=\"travel_time.*\")\n",
    "# # df_fit.iloc[:, 8:]\n",
    "# # plt.hist(train_df[\"Time_taken(min)\"], bins=bins, alpha=0.5, label=\"Measured data\")\n",
    "# plt.hist(travel_time.values.flatten(),bins=np.linspace(0,100,100), alpha=0.5, label=\"Simulated data\")\n",
    "# plt.title(\"travel time\")\n",
    "# plt.legend()\n",
    "# plt.show()\n",
    "\n",
    "sigma = df_fit.filter(regex=\"sigma.*\")\n",
    "# df_fit.iloc[:, 8:]\n",
    "# plt.hist(train_df[\"Time_taken(min)\"], bins=bins, alpha=0.5, label=\"Measured data\")\n",
    "plt.hist(sigma.values.flatten(), alpha=0.5, label=\"Simulated data\")\n",
    "plt.title(\"sigma\")\n",
    "plt.legend()\n",
    "plt.show()\n",
    "\n",
    "\n",
    "\n",
    "delivery_fit = df_fit.filter(regex=\"delivery_time.*\")\n",
    "# df_fit.iloc[:, 8:]\n",
    "plt.hist(train_df[\"Time_taken(min)\"], bins=bins,density=True, alpha=0.5, label=\"Measured data\")\n",
    "plt.hist(delivery_fit.values.flatten(),bins=bins,density=True, alpha=0.5, label=\"Simulated data\")\n",
    "plt.title(\"delivery time\")\n",
    "plt.legend()\n",
    "plt.show()\n",
    "\n",
    "# print(f\"meal_prep_ceof {df_fit.filter(regex='meal_prep_coef.*')}\")\n",
    "# print(f\"distance_coef {df_fit.filter(regex='distance_coeff.*')}\")"
   ]
  },
  {
   "attachments": {},
   "cell_type": "markdown",
   "metadata": {},
   "source": [
    "# PPC AND FIT WITH NORMALIZED DISTANCES"
   ]
  },
  {
   "cell_type": "code",
   "execution_count": 6,
   "metadata": {},
   "outputs": [
    {
     "name": "stderr",
     "output_type": "stream",
     "text": [
      "INFO:cmdstanpy:found newer exe file, not recompiling\n",
      "INFO:cmdstanpy:CmdStan start processing\n",
      "chain 1 |\u001b[34m██████████\u001b[0m| 00:00 Sampling completed"
     ]
    },
    {
     "name": "stdout",
     "output_type": "stream",
     "text": [
      "                                                                                "
     ]
    },
    {
     "name": "stderr",
     "output_type": "stream",
     "text": [
      "\n",
      "INFO:cmdstanpy:CmdStan done processing.\n"
     ]
    },
    {
     "name": "stdout",
     "output_type": "stream",
     "text": [
      "\n"
     ]
    },
    {
     "data": {
      "text/plain": [
       "count    1000.000000\n",
       "mean       16.370201\n",
       "std         5.995674\n",
       "min         7.635350\n",
       "25%         9.937188\n",
       "50%        16.558850\n",
       "75%        23.073025\n",
       "max        25.747700\n",
       "Name: 0, dtype: float64"
      ]
     },
     "metadata": {},
     "output_type": "display_data"
    },
    {
     "data": {
      "image/png": "[encoded data removed]",
      "text/plain": [
       "<Figure size 432x288 with 1 Axes>"
      ]
     },
     "metadata": {
      "needs_background": "light"
     },
     "output_type": "display_data"
    },
    {
     "data": {
      "text/plain": [
       "count    1000.000000\n",
       "mean       11.699967\n",
       "std        10.343510\n",
       "min         1.351410\n",
       "25%         3.912760\n",
       "50%         8.418400\n",
       "75%        15.863025\n",
       "max        49.415300\n",
       "Name: 0, dtype: float64"
      ]
     },
     "metadata": {},
     "output_type": "display_data"
    },
    {
     "data": {
      "image/png": "[encoded data removed]",
      "text/plain": [
       "<Figure size 432x288 with 1 Axes>"
      ]
     },
     "metadata": {
      "needs_background": "light"
     },
     "output_type": "display_data"
    },
    {
     "data": {
      "text/plain": [
       "count    1000.000000\n",
       "mean       25.979955\n",
       "std        11.922069\n",
       "min         8.704270\n",
       "25%        17.334075\n",
       "50%        24.544400\n",
       "75%        31.697225\n",
       "max        70.795500\n",
       "Name: 0, dtype: float64"
      ]
     },
     "metadata": {},
     "output_type": "display_data"
    },
    {
     "data": {
      "image/png": "[encoded data removed]",
      "text/plain": [
       "<Figure size 432x288 with 1 Axes>"
      ]
     },
     "metadata": {
      "needs_background": "light"
     },
     "output_type": "display_data"
    },
    {
     "name": "stdout",
     "output_type": "stream",
     "text": [
      "Odchylenie =  [[0.0892689]]\n"
     ]
    },
    {
     "data": {
      "text/plain": [
       "count      1000.000000\n",
       "mean     102517.025840\n",
       "std       98857.179051\n",
       "min        9507.450000\n",
       "25%       37705.150000\n",
       "50%       75596.800000\n",
       "75%      126079.000000\n",
       "max      628943.000000\n",
       "Name: 0, dtype: float64"
      ]
     },
     "metadata": {},
     "output_type": "display_data"
    },
    {
     "data": {
      "image/png": "[encoded data removed]",
      "text/plain": [
       "<Figure size 432x288 with 1 Axes>"
      ]
     },
     "metadata": {
      "needs_background": "light"
     },
     "output_type": "display_data"
    },
    {
     "data": {
      "text/plain": [
       "count    1000.000000\n",
       "mean     3260.153500\n",
       "std      1496.068049\n",
       "min      1092.270000\n",
       "25%      2175.202500\n",
       "50%      3080.005000\n",
       "75%      3977.595000\n",
       "max      8883.940000\n",
       "Name: 0, dtype: float64"
      ]
     },
     "metadata": {},
     "output_type": "display_data"
    },
    {
     "data": {
      "image/png": "[encoded data removed]",
      "text/plain": [
       "<Figure size 432x288 with 1 Axes>"
      ]
     },
     "metadata": {
      "needs_background": "light"
     },
     "output_type": "display_data"
    },
    {
     "name": "stdout",
     "output_type": "stream",
     "text": [
      "count    1000.000000\n",
      "mean       25.982481\n",
      "std        11.922973\n",
      "min         8.656330\n",
      "25%        17.305500\n",
      "50%        24.567700\n",
      "75%        31.684900\n",
      "max        70.795700\n",
      "Name: 0, dtype: float64\n"
     ]
    },
    {
     "data": {
      "image/png": "[encoded data removed]",
      "text/plain": [
       "<Figure size 432x288 with 1 Axes>"
      ]
     },
     "metadata": {
      "needs_background": "light"
     },
     "output_type": "display_data"
    },
    {
     "name": "stdout",
     "output_type": "stream",
     "text": [
      "distance_coef    distance_coeff\n",
      "0         2.79691\n"
     ]
    }
   ],
   "source": [
    "model_ppc=CmdStanModel(stan_file='norm_ppc.stan')\n",
    "\n",
    "sim=model_ppc.sample(data={\"N\": len(train_df), \"distance\": train_df[\"Normalized distances\"].values,\n",
    "                           \"meal_preparation_time\": train_df[\"Meal_preparation_time\"].values,\n",
    "                           \"traffic_level\" :train_df[\"Road_traffic_density\"].values}, \n",
    "                     iter_sampling=1,\n",
    "                     iter_warmup=0, \n",
    "                     chains=1, \n",
    "                     fixed_param=True,\n",
    "                     seed=20230613)\n",
    "ppc_df = sim.draws_pd()\n",
    "\n",
    "bins = np.linspace(0,100,100)\n",
    "\n",
    "mean_for_gamma = ppc_df.filter(regex=\"temp1.*\")\n",
    "\n",
    "delivery = ppc_df.filter(regex=\"delivery_time.*\")\n",
    "display(mean_for_gamma.iloc[0,:].describe())\n",
    "# delivery.iloc[:,:].apply(pd.DataFrame.describe, axis=1)\n",
    "# delivery['value'].describe()\n",
    "# display(speed.loc[0,:].min())\n",
    "plt.hist(mean_for_gamma.values.flatten(), alpha=0.5, label=\"Mu\")\n",
    "plt.title(\"Argument exponenty\")\n",
    "plt.show()\n",
    "\n",
    "mean_for_gamma = ppc_df.filter(regex=\"temp2.*\")\n",
    "\n",
    "delivery = ppc_df.filter(regex=\"delivery_time.*\")\n",
    "display(mean_for_gamma.iloc[0,:].describe())\n",
    "# delivery.iloc[:,:].apply(pd.DataFrame.describe, axis=1)\n",
    "# delivery['value'].describe()\n",
    "# display(speed.loc[0,:].min())\n",
    "plt.hist(mean_for_gamma.values.flatten(), alpha=0.5, label=\"Mu\")\n",
    "plt.title(\"Exponenta bez dodawania meal prepa\")\n",
    "plt.show()\n",
    "\n",
    "mean_for_gamma1 = ppc_df.filter(regex=\"mu.*\")\n",
    "\n",
    "# delivery = ppc_df.filter(regex=\"delivery_time.*\")\n",
    "display(mean_for_gamma1.iloc[0,:].describe())\n",
    "# delivery.iloc[:,:].apply(pd.DataFrame.describe, axis=1)\n",
    "# delivery['value'].describe()\n",
    "# display(speed.loc[0,:].min())\n",
    "plt.hist(mean_for_gamma1.values.flatten(), alpha=0.5, label=\"Mu\")\n",
    "plt.title(\"Wynik exponenty\")\n",
    "plt.show()\n",
    "\n",
    "sigma = ppc_df.filter(regex=\"sigma.*\")\n",
    "print(f\"Odchylenie =  {sigma.values}\")\n",
    "\n",
    "mean_for_gamma2 = ppc_df.filter(regex=\"gamma_alpha.*\")\n",
    "# delivery = ppc_df.filter(regex=\"delivery_time.*\")\n",
    "display(mean_for_gamma2.iloc[0,:].describe())\n",
    "# delivery.iloc[:,:].apply(pd.DataFrame.describe, axis=1)\n",
    "# delivery['value'].describe()\n",
    "# display(speed.loc[0,:].min())\n",
    "plt.hist(mean_for_gamma2.values.flatten(), alpha=0.5, label=\"Mu\")\n",
    "plt.title(\"gamma_alpha prior check\")\n",
    "plt.show()\n",
    "\n",
    "mean_for_gamma3 = ppc_df.filter(regex=\"gamma_beta.*\")\n",
    "# delivery = ppc_df.filter(regex=\"delivery_time.*\")\n",
    "display(mean_for_gamma3.iloc[0,:].describe())\n",
    "# delivery.iloc[:,:].apply(pd.DataFrame.describe, axis=1)\n",
    "# delivery['value'].describe()\n",
    "# display(speed.loc[0,:].min())\n",
    "plt.hist(mean_for_gamma3.values.flatten(), alpha=0.5, label=\"Mu\")\n",
    "plt.title(\"gamma_beta prior check\")\n",
    "plt.show()\n",
    "\n",
    "print(delivery.iloc[0,:].describe())\n",
    "plt.hist(train_df[\"Time_taken(min)\"],bins=bins ,alpha=0.5, label=\"Measured data\")\n",
    "plt.hist(delivery.values.flatten(),bins=bins, alpha=0.5, label=\"Simulated data\")\n",
    "plt.title(\"Time prior check\")\n",
    "plt.legend()\n",
    "plt.show()\n",
    "\n",
    "\n",
    "print(f\"distance_coef {ppc_df.filter(regex='distance_coeff.*')}\")"
   ]
  },
  {
   "cell_type": "code",
   "execution_count": 14,
   "metadata": {},
   "outputs": [
    {
     "name": "stderr",
     "output_type": "stream",
     "text": [
      "INFO:cmdstanpy:compiling stan file /home/project_repo/data_analytics_project/norm_fit.stan to exe file /home/project_repo/data_analytics_project/norm_fit\n",
      "INFO:cmdstanpy:compiled model executable: /home/project_repo/data_analytics_project/norm_fit\n",
      "INFO:cmdstanpy:CmdStan start processing\n",
      "chain 1 |\u001b[33m          \u001b[0m| 00:00 Status\n",
      "\u001b[A\n",
      "\n",
      "\u001b[A\u001b[A\n",
      "\n",
      "\u001b[A\u001b[A\n",
      "\n",
      "\u001b[A\u001b[A\n",
      "chain 1 |\u001b[33m▉         \u001b[0m| 00:00 Iteration:    1 / 2000 [  0%]  (Warmup)\n",
      "\n",
      "\u001b[A\u001b[A\n",
      "chain 1 |\u001b[33m█▎        \u001b[0m| 00:01 Iteration:  100 / 2000 [  5%]  (Warmup)\n",
      "\n",
      "\u001b[A\u001b[A\n",
      "chain 1 |\u001b[33m█▊        \u001b[0m| 00:01 Iteration:  200 / 2000 [ 10%]  (Warmup)\n",
      "\n",
      "\u001b[A\u001b[A\n",
      "chain 1 |\u001b[33m██▎       \u001b[0m| 00:01 Iteration:  300 / 2000 [ 15%]  (Warmup)\n",
      "\n",
      "\u001b[A\u001b[A\n",
      "\u001b[A\n",
      "\n",
      "chain 1 |\u001b[33m██▋       \u001b[0m| 00:01 Iteration:  400 / 2000 [ 20%]  (Warmup)\n",
      "\u001b[A\n",
      "\n",
      "chain 1 |\u001b[33m███▏      \u001b[0m| 00:02 Iteration:  500 / 2000 [ 25%]  (Warmup)\n",
      "\u001b[A\n",
      "\n",
      "chain 1 |\u001b[33m███▋      \u001b[0m| 00:02 Iteration:  600 / 2000 [ 30%]  (Warmup)\n",
      "chain 1 |\u001b[33m████      \u001b[0m| 00:02 Iteration:  700 / 2000 [ 35%]  (Warmup)\n",
      "\n",
      "\u001b[A\u001b[A\n",
      "chain 1 |\u001b[33m████▌     \u001b[0m| 00:02 Iteration:  800 / 2000 [ 40%]  (Warmup)\n",
      "chain 1 |\u001b[33m█████     \u001b[0m| 00:02 Iteration:  900 / 2000 [ 45%]  (Warmup)\n",
      "\n",
      "\u001b[A\u001b[A\n",
      "chain 1 |\u001b[34m█████▉    \u001b[0m| 00:03 Iteration: 1001 / 2000 [ 50%]  (Sampling)\n",
      "\n",
      "\u001b[A\u001b[A\n",
      "chain 1 |\u001b[34m██████▎   \u001b[0m| 00:03 Iteration: 1100 / 2000 [ 55%]  (Sampling)\n",
      "\n",
      "\u001b[A\u001b[A\n",
      "chain 1 |\u001b[34m██████▊   \u001b[0m| 00:03 Iteration: 1200 / 2000 [ 60%]  (Sampling)\n",
      "\n",
      "\u001b[A\u001b[A\n",
      "chain 1 |\u001b[34m███████▎  \u001b[0m| 00:04 Iteration: 1300 / 2000 [ 65%]  (Sampling)\n",
      "\n",
      "chain 1 |\u001b[34m███████▋  \u001b[0m| 00:04 Iteration: 1400 / 2000 [ 70%]  (Sampling)\n",
      "\u001b[A\n",
      "\n",
      "chain 1 |\u001b[34m████████▏ \u001b[0m| 00:04 Iteration: 1500 / 2000 [ 75%]  (Sampling)\n",
      "\u001b[A\n",
      "\n",
      "chain 1 |\u001b[34m████████▋ \u001b[0m| 00:05 Iteration: 1600 / 2000 [ 80%]  (Sampling)\n",
      "\u001b[A\n",
      "\n",
      "chain 1 |\u001b[34m█████████ \u001b[0m| 00:05 Iteration: 1700 / 2000 [ 85%]  (Sampling)\n",
      "\u001b[A\n",
      "\n",
      "chain 1 |\u001b[34m█████████▌\u001b[0m| 00:05 Iteration: 1800 / 2000 [ 90%]  (Sampling)\n",
      "\u001b[A\n",
      "\n",
      "chain 1 |\u001b[34m██████████\u001b[0m| 00:06 Iteration: 1900 / 2000 [ 95%]  (Sampling)\n",
      "chain 1 |\u001b[34m██████████\u001b[0m| 00:06 Sampling completed                       \n",
      "chain 2 |\u001b[34m██████████\u001b[0m| 00:06 Sampling completed                       \n",
      "chain 3 |\u001b[34m██████████\u001b[0m| 00:06 Sampling completed                       \n",
      "chain 4 |\u001b[34m██████████\u001b[0m| 00:06 Sampling completed                       "
     ]
    },
    {
     "name": "stdout",
     "output_type": "stream",
     "text": [
      "                                                                                                                                                                                                                                                                                                                                "
     ]
    },
    {
     "name": "stderr",
     "output_type": "stream",
     "text": [
      "\n",
      "INFO:cmdstanpy:CmdStan done processing.\n"
     ]
    },
    {
     "name": "stdout",
     "output_type": "stream",
     "text": [
      "\n"
     ]
    },
    {
     "data": {
      "text/html": [
       "<div>\n",
       "<style scoped>\n",
       "    .dataframe tbody tr th:only-of-type {\n",
       "        vertical-align: middle;\n",
       "    }\n",
       "\n",
       "    .dataframe tbody tr th {\n",
       "        vertical-align: top;\n",
       "    }\n",
       "\n",
       "    .dataframe thead th {\n",
       "        text-align: right;\n",
       "    }\n",
       "</style>\n",
       "<table border=\"1\" class=\"dataframe\">\n",
       "  <thead>\n",
       "    <tr style=\"text-align: right;\">\n",
       "      <th></th>\n",
       "      <th>lp__</th>\n",
       "      <th>accept_stat__</th>\n",
       "      <th>stepsize__</th>\n",
       "      <th>treedepth__</th>\n",
       "      <th>n_leapfrog__</th>\n",
       "      <th>divergent__</th>\n",
       "      <th>energy__</th>\n",
       "      <th>distance_coeff_raw</th>\n",
       "      <th>traffic_level_coeff[1]</th>\n",
       "      <th>traffic_level_coeff[2]</th>\n",
       "      <th>...</th>\n",
       "      <th>exp_argument_withMeal[991]</th>\n",
       "      <th>exp_argument_withMeal[992]</th>\n",
       "      <th>exp_argument_withMeal[993]</th>\n",
       "      <th>exp_argument_withMeal[994]</th>\n",
       "      <th>exp_argument_withMeal[995]</th>\n",
       "      <th>exp_argument_withMeal[996]</th>\n",
       "      <th>exp_argument_withMeal[997]</th>\n",
       "      <th>exp_argument_withMeal[998]</th>\n",
       "      <th>exp_argument_withMeal[999]</th>\n",
       "      <th>exp_argument_withMeal[1000]</th>\n",
       "    </tr>\n",
       "  </thead>\n",
       "  <tbody>\n",
       "    <tr>\n",
       "      <th>0</th>\n",
       "      <td>-6541.80</td>\n",
       "      <td>0.924682</td>\n",
       "      <td>0.431455</td>\n",
       "      <td>3.0</td>\n",
       "      <td>15.0</td>\n",
       "      <td>0.0</td>\n",
       "      <td>6544.85</td>\n",
       "      <td>1.34156</td>\n",
       "      <td>0.704141</td>\n",
       "      <td>0.458648</td>\n",
       "      <td>...</td>\n",
       "      <td>5.70144</td>\n",
       "      <td>11.2728</td>\n",
       "      <td>5.47986</td>\n",
       "      <td>11.5848</td>\n",
       "      <td>10.9359</td>\n",
       "      <td>6.08776</td>\n",
       "      <td>6.17471</td>\n",
       "      <td>5.77903</td>\n",
       "      <td>16.7318</td>\n",
       "      <td>10.7667</td>\n",
       "    </tr>\n",
       "    <tr>\n",
       "      <th>1</th>\n",
       "      <td>-6539.47</td>\n",
       "      <td>0.985037</td>\n",
       "      <td>0.431455</td>\n",
       "      <td>4.0</td>\n",
       "      <td>15.0</td>\n",
       "      <td>0.0</td>\n",
       "      <td>6545.80</td>\n",
       "      <td>1.50131</td>\n",
       "      <td>0.448307</td>\n",
       "      <td>0.625922</td>\n",
       "      <td>...</td>\n",
       "      <td>5.92150</td>\n",
       "      <td>11.3207</td>\n",
       "      <td>5.40944</td>\n",
       "      <td>11.9340</td>\n",
       "      <td>10.7554</td>\n",
       "      <td>6.08972</td>\n",
       "      <td>6.18703</td>\n",
       "      <td>5.55600</td>\n",
       "      <td>16.8583</td>\n",
       "      <td>10.5661</td>\n",
       "    </tr>\n",
       "    <tr>\n",
       "      <th>2</th>\n",
       "      <td>-6541.42</td>\n",
       "      <td>0.887198</td>\n",
       "      <td>0.431455</td>\n",
       "      <td>3.0</td>\n",
       "      <td>15.0</td>\n",
       "      <td>0.0</td>\n",
       "      <td>6543.44</td>\n",
       "      <td>1.42801</td>\n",
       "      <td>0.519282</td>\n",
       "      <td>0.378592</td>\n",
       "      <td>...</td>\n",
       "      <td>5.62650</td>\n",
       "      <td>11.2641</td>\n",
       "      <td>5.43066</td>\n",
       "      <td>11.5563</td>\n",
       "      <td>10.7449</td>\n",
       "      <td>6.07772</td>\n",
       "      <td>6.17027</td>\n",
       "      <td>5.58848</td>\n",
       "      <td>16.7423</td>\n",
       "      <td>10.5649</td>\n",
       "    </tr>\n",
       "    <tr>\n",
       "      <th>3</th>\n",
       "      <td>-6541.81</td>\n",
       "      <td>0.871666</td>\n",
       "      <td>0.431455</td>\n",
       "      <td>3.0</td>\n",
       "      <td>15.0</td>\n",
       "      <td>0.0</td>\n",
       "      <td>6545.94</td>\n",
       "      <td>1.41803</td>\n",
       "      <td>0.645086</td>\n",
       "      <td>0.625995</td>\n",
       "      <td>...</td>\n",
       "      <td>5.87573</td>\n",
       "      <td>11.2851</td>\n",
       "      <td>5.45386</td>\n",
       "      <td>11.8026</td>\n",
       "      <td>10.8763</td>\n",
       "      <td>6.09640</td>\n",
       "      <td>6.18831</td>\n",
       "      <td>5.71736</td>\n",
       "      <td>16.7634</td>\n",
       "      <td>10.6975</td>\n",
       "    </tr>\n",
       "    <tr>\n",
       "      <th>4</th>\n",
       "      <td>-6540.52</td>\n",
       "      <td>0.982138</td>\n",
       "      <td>0.431455</td>\n",
       "      <td>3.0</td>\n",
       "      <td>7.0</td>\n",
       "      <td>0.0</td>\n",
       "      <td>6544.16</td>\n",
       "      <td>1.46369</td>\n",
       "      <td>0.523973</td>\n",
       "      <td>0.600500</td>\n",
       "      <td>...</td>\n",
       "      <td>5.90837</td>\n",
       "      <td>11.2968</td>\n",
       "      <td>5.38870</td>\n",
       "      <td>11.9152</td>\n",
       "      <td>10.8628</td>\n",
       "      <td>6.05193</td>\n",
       "      <td>6.14680</td>\n",
       "      <td>5.64866</td>\n",
       "      <td>16.8406</td>\n",
       "      <td>10.6782</td>\n",
       "    </tr>\n",
       "    <tr>\n",
       "      <th>...</th>\n",
       "      <td>...</td>\n",
       "      <td>...</td>\n",
       "      <td>...</td>\n",
       "      <td>...</td>\n",
       "      <td>...</td>\n",
       "      <td>...</td>\n",
       "      <td>...</td>\n",
       "      <td>...</td>\n",
       "      <td>...</td>\n",
       "      <td>...</td>\n",
       "      <td>...</td>\n",
       "      <td>...</td>\n",
       "      <td>...</td>\n",
       "      <td>...</td>\n",
       "      <td>...</td>\n",
       "      <td>...</td>\n",
       "      <td>...</td>\n",
       "      <td>...</td>\n",
       "      <td>...</td>\n",
       "      <td>...</td>\n",
       "      <td>...</td>\n",
       "    </tr>\n",
       "    <tr>\n",
       "      <th>3995</th>\n",
       "      <td>-6542.06</td>\n",
       "      <td>0.905532</td>\n",
       "      <td>0.386726</td>\n",
       "      <td>3.0</td>\n",
       "      <td>15.0</td>\n",
       "      <td>0.0</td>\n",
       "      <td>6548.12</td>\n",
       "      <td>1.37923</td>\n",
       "      <td>0.432788</td>\n",
       "      <td>0.616638</td>\n",
       "      <td>...</td>\n",
       "      <td>5.85606</td>\n",
       "      <td>11.2800</td>\n",
       "      <td>5.47504</td>\n",
       "      <td>11.7541</td>\n",
       "      <td>10.6507</td>\n",
       "      <td>6.10000</td>\n",
       "      <td>6.18939</td>\n",
       "      <td>5.49960</td>\n",
       "      <td>16.7418</td>\n",
       "      <td>10.4768</td>\n",
       "    </tr>\n",
       "    <tr>\n",
       "      <th>3996</th>\n",
       "      <td>-6539.74</td>\n",
       "      <td>1.000000</td>\n",
       "      <td>0.386726</td>\n",
       "      <td>3.0</td>\n",
       "      <td>7.0</td>\n",
       "      <td>0.0</td>\n",
       "      <td>6543.44</td>\n",
       "      <td>1.50834</td>\n",
       "      <td>0.547636</td>\n",
       "      <td>0.462178</td>\n",
       "      <td>...</td>\n",
       "      <td>5.75475</td>\n",
       "      <td>11.2983</td>\n",
       "      <td>5.38726</td>\n",
       "      <td>11.7676</td>\n",
       "      <td>10.8474</td>\n",
       "      <td>6.07072</td>\n",
       "      <td>6.16848</td>\n",
       "      <td>5.65144</td>\n",
       "      <td>16.8341</td>\n",
       "      <td>10.6572</td>\n",
       "    </tr>\n",
       "    <tr>\n",
       "      <th>3997</th>\n",
       "      <td>-6540.74</td>\n",
       "      <td>0.948083</td>\n",
       "      <td>0.386726</td>\n",
       "      <td>4.0</td>\n",
       "      <td>15.0</td>\n",
       "      <td>0.0</td>\n",
       "      <td>6542.29</td>\n",
       "      <td>1.44730</td>\n",
       "      <td>0.606652</td>\n",
       "      <td>0.752046</td>\n",
       "      <td>...</td>\n",
       "      <td>6.00152</td>\n",
       "      <td>11.3222</td>\n",
       "      <td>5.47921</td>\n",
       "      <td>11.9421</td>\n",
       "      <td>10.8318</td>\n",
       "      <td>6.13502</td>\n",
       "      <td>6.22882</td>\n",
       "      <td>5.67499</td>\n",
       "      <td>16.8050</td>\n",
       "      <td>10.6493</td>\n",
       "    </tr>\n",
       "    <tr>\n",
       "      <th>3998</th>\n",
       "      <td>-6539.93</td>\n",
       "      <td>0.987429</td>\n",
       "      <td>0.386726</td>\n",
       "      <td>4.0</td>\n",
       "      <td>15.0</td>\n",
       "      <td>0.0</td>\n",
       "      <td>6542.82</td>\n",
       "      <td>1.52431</td>\n",
       "      <td>0.565463</td>\n",
       "      <td>0.471737</td>\n",
       "      <td>...</td>\n",
       "      <td>5.80349</td>\n",
       "      <td>11.4574</td>\n",
       "      <td>5.50058</td>\n",
       "      <td>11.8631</td>\n",
       "      <td>10.9406</td>\n",
       "      <td>6.19128</td>\n",
       "      <td>6.29008</td>\n",
       "      <td>5.70645</td>\n",
       "      <td>17.0349</td>\n",
       "      <td>10.7484</td>\n",
       "    </tr>\n",
       "    <tr>\n",
       "      <th>3999</th>\n",
       "      <td>-6538.63</td>\n",
       "      <td>1.000000</td>\n",
       "      <td>0.386726</td>\n",
       "      <td>3.0</td>\n",
       "      <td>15.0</td>\n",
       "      <td>0.0</td>\n",
       "      <td>6540.93</td>\n",
       "      <td>1.59019</td>\n",
       "      <td>0.463687</td>\n",
       "      <td>0.571556</td>\n",
       "      <td>...</td>\n",
       "      <td>5.86175</td>\n",
       "      <td>11.3547</td>\n",
       "      <td>5.41247</td>\n",
       "      <td>11.9113</td>\n",
       "      <td>10.7432</td>\n",
       "      <td>6.13303</td>\n",
       "      <td>6.23609</td>\n",
       "      <td>5.55486</td>\n",
       "      <td>16.9013</td>\n",
       "      <td>10.5427</td>\n",
       "    </tr>\n",
       "  </tbody>\n",
       "</table>\n",
       "<p>4000 rows × 4015 columns</p>\n",
       "</div>"
      ],
      "text/plain": [
       "         lp__  accept_stat__  stepsize__  treedepth__  n_leapfrog__  \\\n",
       "0    -6541.80       0.924682    0.431455          3.0          15.0   \n",
       "1    -6539.47       0.985037    0.431455          4.0          15.0   \n",
       "2    -6541.42       0.887198    0.431455          3.0          15.0   \n",
       "3    -6541.81       0.871666    0.431455          3.0          15.0   \n",
       "4    -6540.52       0.982138    0.431455          3.0           7.0   \n",
       "...       ...            ...         ...          ...           ...   \n",
       "3995 -6542.06       0.905532    0.386726          3.0          15.0   \n",
       "3996 -6539.74       1.000000    0.386726          3.0           7.0   \n",
       "3997 -6540.74       0.948083    0.386726          4.0          15.0   \n",
       "3998 -6539.93       0.987429    0.386726          4.0          15.0   \n",
       "3999 -6538.63       1.000000    0.386726          3.0          15.0   \n",
       "\n",
       "      divergent__  energy__  distance_coeff_raw  traffic_level_coeff[1]  \\\n",
       "0             0.0   6544.85             1.34156                0.704141   \n",
       "1             0.0   6545.80             1.50131                0.448307   \n",
       "2             0.0   6543.44             1.42801                0.519282   \n",
       "3             0.0   6545.94             1.41803                0.645086   \n",
       "4             0.0   6544.16             1.46369                0.523973   \n",
       "...           ...       ...                 ...                     ...   \n",
       "3995          0.0   6548.12             1.37923                0.432788   \n",
       "3996          0.0   6543.44             1.50834                0.547636   \n",
       "3997          0.0   6542.29             1.44730                0.606652   \n",
       "3998          0.0   6542.82             1.52431                0.565463   \n",
       "3999          0.0   6540.93             1.59019                0.463687   \n",
       "\n",
       "      traffic_level_coeff[2]  ...  exp_argument_withMeal[991]  \\\n",
       "0                   0.458648  ...                     5.70144   \n",
       "1                   0.625922  ...                     5.92150   \n",
       "2                   0.378592  ...                     5.62650   \n",
       "3                   0.625995  ...                     5.87573   \n",
       "4                   0.600500  ...                     5.90837   \n",
       "...                      ...  ...                         ...   \n",
       "3995                0.616638  ...                     5.85606   \n",
       "3996                0.462178  ...                     5.75475   \n",
       "3997                0.752046  ...                     6.00152   \n",
       "3998                0.471737  ...                     5.80349   \n",
       "3999                0.571556  ...                     5.86175   \n",
       "\n",
       "      exp_argument_withMeal[992]  exp_argument_withMeal[993]  \\\n",
       "0                        11.2728                     5.47986   \n",
       "1                        11.3207                     5.40944   \n",
       "2                        11.2641                     5.43066   \n",
       "3                        11.2851                     5.45386   \n",
       "4                        11.2968                     5.38870   \n",
       "...                          ...                         ...   \n",
       "3995                     11.2800                     5.47504   \n",
       "3996                     11.2983                     5.38726   \n",
       "3997                     11.3222                     5.47921   \n",
       "3998                     11.4574                     5.50058   \n",
       "3999                     11.3547                     5.41247   \n",
       "\n",
       "      exp_argument_withMeal[994]  exp_argument_withMeal[995]  \\\n",
       "0                        11.5848                     10.9359   \n",
       "1                        11.9340                     10.7554   \n",
       "2                        11.5563                     10.7449   \n",
       "3                        11.8026                     10.8763   \n",
       "4                        11.9152                     10.8628   \n",
       "...                          ...                         ...   \n",
       "3995                     11.7541                     10.6507   \n",
       "3996                     11.7676                     10.8474   \n",
       "3997                     11.9421                     10.8318   \n",
       "3998                     11.8631                     10.9406   \n",
       "3999                     11.9113                     10.7432   \n",
       "\n",
       "      exp_argument_withMeal[996]  exp_argument_withMeal[997]  \\\n",
       "0                        6.08776                     6.17471   \n",
       "1                        6.08972                     6.18703   \n",
       "2                        6.07772                     6.17027   \n",
       "3                        6.09640                     6.18831   \n",
       "4                        6.05193                     6.14680   \n",
       "...                          ...                         ...   \n",
       "3995                     6.10000                     6.18939   \n",
       "3996                     6.07072                     6.16848   \n",
       "3997                     6.13502                     6.22882   \n",
       "3998                     6.19128                     6.29008   \n",
       "3999                     6.13303                     6.23609   \n",
       "\n",
       "      exp_argument_withMeal[998]  exp_argument_withMeal[999]  \\\n",
       "0                        5.77903                     16.7318   \n",
       "1                        5.55600                     16.8583   \n",
       "2                        5.58848                     16.7423   \n",
       "3                        5.71736                     16.7634   \n",
       "4                        5.64866                     16.8406   \n",
       "...                          ...                         ...   \n",
       "3995                     5.49960                     16.7418   \n",
       "3996                     5.65144                     16.8341   \n",
       "3997                     5.67499                     16.8050   \n",
       "3998                     5.70645                     17.0349   \n",
       "3999                     5.55486                     16.9013   \n",
       "\n",
       "      exp_argument_withMeal[1000]  \n",
       "0                         10.7667  \n",
       "1                         10.5661  \n",
       "2                         10.5649  \n",
       "3                         10.6975  \n",
       "4                         10.6782  \n",
       "...                           ...  \n",
       "3995                      10.4768  \n",
       "3996                      10.6572  \n",
       "3997                      10.6493  \n",
       "3998                      10.7484  \n",
       "3999                      10.5427  \n",
       "\n",
       "[4000 rows x 4015 columns]"
      ]
     },
     "metadata": {},
     "output_type": "display_data"
    },
    {
     "data": {
      "image/png": "[encoded data removed]",
      "text/plain": [
       "<Figure size 432x288 with 1 Axes>"
      ]
     },
     "metadata": {
      "needs_background": "light"
     },
     "output_type": "display_data"
    },
    {
     "data": {
      "image/png": "[encoded data removed]",
      "text/plain": [
       "<Figure size 432x288 with 1 Axes>"
      ]
     },
     "metadata": {
      "needs_background": "light"
     },
     "output_type": "display_data"
    },
    {
     "data": {
      "image/png": "[encoded data removed]",
      "text/plain": [
       "<Figure size 432x288 with 1 Axes>"
      ]
     },
     "metadata": {
      "needs_background": "light"
     },
     "output_type": "display_data"
    },
    {
     "data": {
      "image/png": "[encoded data removed]",
      "text/plain": [
       "<Figure size 432x288 with 1 Axes>"
      ]
     },
     "metadata": {
      "needs_background": "light"
     },
     "output_type": "display_data"
    },
    {
     "data": {
      "image/png": "[encoded data removed]",
      "text/plain": [
       "<Figure size 432x288 with 1 Axes>"
      ]
     },
     "metadata": {
      "needs_background": "light"
     },
     "output_type": "display_data"
    },
    {
     "data": {
      "image/png": "[encoded data removed]",
      "text/plain": [
       "<Figure size 432x288 with 1 Axes>"
      ]
     },
     "metadata": {
      "needs_background": "light"
     },
     "output_type": "display_data"
    }
   ],
   "source": [
    "basic_fit=CmdStanModel(stan_file='norm_fit.stan')\n",
    "\n",
    "basic_sample=basic_fit.sample(data={\"N\": len(train_df), \n",
    "                                    \"distance\": train_df[\"Normalized distances\"].values,\n",
    "                                    \"meal_preparation_time\": train_df[\"Meal_preparation_time\"].values, \n",
    "                                    \"delivery_times\": train_df[\"Time_taken(min)\"].values, \n",
    "                                    \"traffic_level\" :train_df[\"Road_traffic_density\"].values},\n",
    "                     iter_sampling=1000,\n",
    "                     iter_warmup=1000, \n",
    "                     chains=4,\n",
    "                         )\n",
    "\n",
    "\n",
    "df_fit = basic_sample.draws_pd()\n",
    "display(df_fit)\n",
    "\n",
    "\n",
    "traffib_level = df_fit.filter(regex=\"traffic_level_coef.*\")\n",
    "# df_fit.iloc[:, 8:]\n",
    "# plt.hist(train_df[\"Time_taken(min)\"], bins=bins, alpha=0.5, label=\"Measured data\")\n",
    "plt.hist(traffib_level.values.flatten(), alpha=0.5, label=\"Simulated data\")\n",
    "plt.title(\"traffic level coef\")\n",
    "plt.legend()\n",
    "plt.show()\n",
    "\n",
    "epx_argument = df_fit.filter(regex=\"exp_argument.*\")\n",
    "# df_fit.iloc[:, 8:]\n",
    "# plt.hist(train_df[\"Time_taken(min)\"], bins=bins, alpha=0.5, label=\"Measured data\")\n",
    "plt.hist(epx_argument.values.flatten(), alpha=0.5, label=\"Simulated data\")\n",
    "plt.title(\"exp_argument\")\n",
    "plt.legend()\n",
    "plt.show()\n",
    "\n",
    "epx_argument = df_fit.filter(regex=\"exp_argument_with.*\")\n",
    "# df_fit.iloc[:, 8:]\n",
    "# plt.hist(train_df[\"Time_taken(min)\"], bins=bins, alpha=0.5, label=\"Measured data\")\n",
    "plt.hist(epx_argument.values.flatten(), alpha=0.5, label=\"Simulated data\")\n",
    "plt.title(\"exp_argument with meal\")\n",
    "plt.legend()\n",
    "plt.show()\n",
    "\n",
    "mu = df_fit.filter(regex=\"mu.*\")\n",
    "# df_fit.iloc[:, 8:]\n",
    "# plt.hist(train_df[\"Time_taken(min)\"], bins=bins, alpha=0.5, label=\"Measured data\")\n",
    "plt.hist(mu.values.flatten(),bins=bins, alpha=0.5, label=\"Simulated data\")\n",
    "plt.title(\"mu\")\n",
    "plt.legend()\n",
    "plt.show()\n",
    "\n",
    "# travel_time = df_fit.filter(regex=\"travel_time.*\")\n",
    "# # df_fit.iloc[:, 8:]\n",
    "# # plt.hist(train_df[\"Time_taken(min)\"], bins=bins, alpha=0.5, label=\"Measured data\")\n",
    "# plt.hist(travel_time.values.flatten(),bins=np.linspace(0,100,100), alpha=0.5, label=\"Simulated data\")\n",
    "# plt.title(\"travel time\")\n",
    "# plt.legend()\n",
    "# plt.show()\n",
    "\n",
    "sigma = df_fit.filter(regex=\"sigma.*\")\n",
    "# df_fit.iloc[:, 8:]\n",
    "# plt.hist(train_df[\"Time_taken(min)\"], bins=bins, alpha=0.5, label=\"Measured data\")\n",
    "plt.hist(sigma.values.flatten(), alpha=0.5, label=\"Simulated data\")\n",
    "plt.title(\"sigma\")\n",
    "plt.legend()\n",
    "plt.show()\n",
    "\n",
    "\n",
    "\n",
    "delivery_fit = df_fit.filter(regex=\"delivery_time.*\")\n",
    "# df_fit.iloc[:, 8:]\n",
    "plt.hist(train_df[\"Time_taken(min)\"], bins=bins,density=True, alpha=0.5, label=\"Measured data\")\n",
    "plt.hist(delivery_fit.values.flatten(),bins=bins,density=True, alpha=0.5, label=\"Simulated data\")\n",
    "plt.title(\"delivery time\")\n",
    "plt.legend()\n",
    "plt.show()\n",
    "\n",
    "# print(f\"meal_prep_ceof {df_fit.filter(regex='meal_prep_coef.*')}\")\n",
    "# print(f\"distance_coef {df_fit.filter(regex='distance_coeff.*')}\")"
   ]
  },
  {
   "cell_type": "code",
   "execution_count": 15,
   "metadata": {},
   "outputs": [],
   "source": [
    "temp=basic_sample.diagnose()\n",
    "with open(\"output.txt\", \"w\") as file:\n",
    "    file.write(temp)"
   ]
  },
  {
   "cell_type": "code",
   "execution_count": 9,
   "metadata": {},
   "outputs": [
    {
     "data": {
      "text/plain": [
       "9.41413"
      ]
     },
     "metadata": {},
     "output_type": "display_data"
    }
   ],
   "source": [
    "\n",
    "display(mu.values.flatten().min())"
   ]
  }
 ],
 "metadata": {
  "kernelspec": {
   "display_name": "Python 3",
   "language": "python",
   "name": "python3"
  },
  "language_info": {
   "codemirror_mode": {
    "name": "ipython",
    "version": 3
   },
   "file_extension": ".py",
   "mimetype": "text/x-python",
   "name": "python",
   "nbconvert_exporter": "python",
   "pygments_lexer": "ipython3",
   "version": "3.9.11"
  },
  "orig_nbformat": 4
 },
 "nbformat": 4,
 "nbformat_minor": 2
}
