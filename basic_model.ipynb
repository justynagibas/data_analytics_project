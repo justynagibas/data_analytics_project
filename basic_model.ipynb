{
 "cells": [
  {
   "cell_type": "code",
   "execution_count": 1,
   "metadata": {},
   "outputs": [
    {
     "name": "stderr",
     "output_type": "stream",
     "text": [
      "/usr/local/lib/python3.9/site-packages/tqdm/auto.py:22: TqdmWarning: IProgress not found. Please update jupyter and ipywidgets. See https://ipywidgets.readthedocs.io/en/stable/user_install.html\n",
      "  from .autonotebook import tqdm as notebook_tqdm\n"
     ]
    }
   ],
   "source": [
    "from cmdstanpy import CmdStanModel\n",
    "\n",
    "from seaborn import jointplot\n",
    "import arviz as az\n",
    "import numpy as np\n",
    "import scipy.stats as stats\n",
    "\n",
    "import matplotlib.pyplot as plt\n",
    "import pandas as pd"
   ]
  },
  {
   "cell_type": "code",
   "execution_count": 2,
   "metadata": {},
   "outputs": [],
   "source": [
    "# load data\n",
    "df = pd.read_csv('delivery_time_data.csv', delimiter=';', decimal=',')\n",
    "\n",
    "df = df[df[\"Road distances [km]\"] < 20]\n",
    "\n",
    "# TEMP: only for testing plots and functions\n",
    "train_df = pd.DataFrame(df.iloc[:1000, :])\n",
    "\n",
    "# normalized distance\n",
    "train_df[\"Normalized distances\"] = (train_df[\"Road distances [km]\"] - train_df[\"Road distances [km]\"].mean()) / train_df[\"Road distances [km]\"].std()\n",
    "\n",
    "# normalized meal preparation time\n",
    "train_df[\"Normalized mealprep\"] = (train_df[\"Meal_preparation_time\"] - train_df[\"Meal_preparation_time\"].mean()) / train_df[\"Meal_preparation_time\"].std()\n",
    "\n",
    "# map categorical traffic density to numbers\n",
    "road_density_map = {'Jam ':1, 'High ':2, 'Medium ':3, 'Low ':4}\n",
    "\n",
    "train_df[\"Road_traffic_density\"] = train_df[\"Road_traffic_density\"].apply(lambda x: road_density_map[x])\n"
   ]
  },
  {
   "attachments": {},
   "cell_type": "markdown",
   "metadata": {},
   "source": [
    "# PPC AND FIT - MODEL 1"
   ]
  },
  {
   "cell_type": "code",
   "execution_count": 14,
   "metadata": {},
   "outputs": [
    {
     "name": "stderr",
     "output_type": "stream",
     "text": [
      "INFO:cmdstanpy:found newer exe file, not recompiling\n",
      "INFO:cmdstanpy:CmdStan start processing\n",
      "chain 1 |\u001b[34m██████████\u001b[0m| 00:01 Sampling completed                     "
     ]
    },
    {
     "name": "stdout",
     "output_type": "stream",
     "text": [
      "                                                                                "
     ]
    },
    {
     "name": "stderr",
     "output_type": "stream",
     "text": [
      "\n",
      "INFO:cmdstanpy:CmdStan done processing.\n"
     ]
    },
    {
     "name": "stdout",
     "output_type": "stream",
     "text": [
      "\n",
      "72.389008\n"
     ]
    },
    {
     "data": {
      "image/png": "[encoded data removed]",
      "text/plain": [
       "<Figure size 432x288 with 1 Axes>"
      ]
     },
     "metadata": {
      "needs_background": "light"
     },
     "output_type": "display_data"
    },
    {
     "data": {
      "text/html": [
       "<div>\n",
       "<style scoped>\n",
       "    .dataframe tbody tr th:only-of-type {\n",
       "        vertical-align: middle;\n",
       "    }\n",
       "\n",
       "    .dataframe tbody tr th {\n",
       "        vertical-align: top;\n",
       "    }\n",
       "\n",
       "    .dataframe thead th {\n",
       "        text-align: right;\n",
       "    }\n",
       "</style>\n",
       "<table border=\"1\" class=\"dataframe\">\n",
       "  <thead>\n",
       "    <tr style=\"text-align: right;\">\n",
       "      <th></th>\n",
       "      <th>Mean</th>\n",
       "      <th>MCSE</th>\n",
       "      <th>StdDev</th>\n",
       "      <th>5%</th>\n",
       "      <th>50%</th>\n",
       "      <th>95%</th>\n",
       "      <th>N_Eff</th>\n",
       "      <th>N_Eff/s</th>\n",
       "      <th>R_hat</th>\n",
       "    </tr>\n",
       "    <tr>\n",
       "      <th>name</th>\n",
       "      <th></th>\n",
       "      <th></th>\n",
       "      <th></th>\n",
       "      <th></th>\n",
       "      <th></th>\n",
       "      <th></th>\n",
       "      <th></th>\n",
       "      <th></th>\n",
       "      <th></th>\n",
       "    </tr>\n",
       "  </thead>\n",
       "  <tbody>\n",
       "    <tr>\n",
       "      <th>lp__</th>\n",
       "      <td>0.00000</td>\n",
       "      <td>NaN</td>\n",
       "      <td>0.00</td>\n",
       "      <td>0.00</td>\n",
       "      <td>0.00000</td>\n",
       "      <td>0.00</td>\n",
       "      <td>NaN</td>\n",
       "      <td>NaN</td>\n",
       "      <td>NaN</td>\n",
       "    </tr>\n",
       "    <tr>\n",
       "      <th>distance_coeff</th>\n",
       "      <td>0.00088</td>\n",
       "      <td>0.0098</td>\n",
       "      <td>0.31</td>\n",
       "      <td>-0.50</td>\n",
       "      <td>-0.00370</td>\n",
       "      <td>0.52</td>\n",
       "      <td>980.0</td>\n",
       "      <td>600.0</td>\n",
       "      <td>1.0</td>\n",
       "    </tr>\n",
       "    <tr>\n",
       "      <th>meal_prep_coeff</th>\n",
       "      <td>0.00280</td>\n",
       "      <td>0.0095</td>\n",
       "      <td>0.30</td>\n",
       "      <td>-0.47</td>\n",
       "      <td>0.00058</td>\n",
       "      <td>0.49</td>\n",
       "      <td>980.0</td>\n",
       "      <td>610.0</td>\n",
       "      <td>1.0</td>\n",
       "    </tr>\n",
       "    <tr>\n",
       "      <th>mean</th>\n",
       "      <td>3.00000</td>\n",
       "      <td>0.0034</td>\n",
       "      <td>0.10</td>\n",
       "      <td>2.80</td>\n",
       "      <td>3.00000</td>\n",
       "      <td>3.20</td>\n",
       "      <td>890.0</td>\n",
       "      <td>550.0</td>\n",
       "      <td>1.0</td>\n",
       "    </tr>\n",
       "    <tr>\n",
       "      <th>traffic_level_coeff[1]</th>\n",
       "      <td>-0.01000</td>\n",
       "      <td>0.0098</td>\n",
       "      <td>0.31</td>\n",
       "      <td>-0.52</td>\n",
       "      <td>-0.00400</td>\n",
       "      <td>0.51</td>\n",
       "      <td>1008.0</td>\n",
       "      <td>624.0</td>\n",
       "      <td>1.0</td>\n",
       "    </tr>\n",
       "    <tr>\n",
       "      <th>...</th>\n",
       "      <td>...</td>\n",
       "      <td>...</td>\n",
       "      <td>...</td>\n",
       "      <td>...</td>\n",
       "      <td>...</td>\n",
       "      <td>...</td>\n",
       "      <td>...</td>\n",
       "      <td>...</td>\n",
       "      <td>...</td>\n",
       "    </tr>\n",
       "    <tr>\n",
       "      <th>delivery_times[996]</th>\n",
       "      <td>22.00000</td>\n",
       "      <td>0.3200</td>\n",
       "      <td>10.00</td>\n",
       "      <td>9.70</td>\n",
       "      <td>20.00000</td>\n",
       "      <td>41.00</td>\n",
       "      <td>978.0</td>\n",
       "      <td>605.0</td>\n",
       "      <td>1.0</td>\n",
       "    </tr>\n",
       "    <tr>\n",
       "      <th>delivery_times[997]</th>\n",
       "      <td>21.00000</td>\n",
       "      <td>0.2500</td>\n",
       "      <td>7.90</td>\n",
       "      <td>11.00</td>\n",
       "      <td>20.00000</td>\n",
       "      <td>36.00</td>\n",
       "      <td>993.0</td>\n",
       "      <td>614.0</td>\n",
       "      <td>1.0</td>\n",
       "    </tr>\n",
       "    <tr>\n",
       "      <th>delivery_times[998]</th>\n",
       "      <td>22.00000</td>\n",
       "      <td>0.3300</td>\n",
       "      <td>11.00</td>\n",
       "      <td>9.50</td>\n",
       "      <td>20.00000</td>\n",
       "      <td>42.00</td>\n",
       "      <td>1036.0</td>\n",
       "      <td>641.0</td>\n",
       "      <td>1.0</td>\n",
       "    </tr>\n",
       "    <tr>\n",
       "      <th>delivery_times[999]</th>\n",
       "      <td>23.00000</td>\n",
       "      <td>0.3500</td>\n",
       "      <td>11.00</td>\n",
       "      <td>8.20</td>\n",
       "      <td>21.00000</td>\n",
       "      <td>44.00</td>\n",
       "      <td>1064.0</td>\n",
       "      <td>658.0</td>\n",
       "      <td>1.0</td>\n",
       "    </tr>\n",
       "    <tr>\n",
       "      <th>delivery_times[1000]</th>\n",
       "      <td>22.00000</td>\n",
       "      <td>0.3800</td>\n",
       "      <td>12.00</td>\n",
       "      <td>7.80</td>\n",
       "      <td>20.00000</td>\n",
       "      <td>44.00</td>\n",
       "      <td>1042.0</td>\n",
       "      <td>644.0</td>\n",
       "      <td>1.0</td>\n",
       "    </tr>\n",
       "  </tbody>\n",
       "</table>\n",
       "<p>2009 rows × 9 columns</p>\n",
       "</div>"
      ],
      "text/plain": [
       "                            Mean    MCSE  StdDev     5%       50%    95%  \\\n",
       "name                                                                       \n",
       "lp__                     0.00000     NaN    0.00   0.00   0.00000   0.00   \n",
       "distance_coeff           0.00088  0.0098    0.31  -0.50  -0.00370   0.52   \n",
       "meal_prep_coeff          0.00280  0.0095    0.30  -0.47   0.00058   0.49   \n",
       "mean                     3.00000  0.0034    0.10   2.80   3.00000   3.20   \n",
       "traffic_level_coeff[1]  -0.01000  0.0098    0.31  -0.52  -0.00400   0.51   \n",
       "...                          ...     ...     ...    ...       ...    ...   \n",
       "delivery_times[996]     22.00000  0.3200   10.00   9.70  20.00000  41.00   \n",
       "delivery_times[997]     21.00000  0.2500    7.90  11.00  20.00000  36.00   \n",
       "delivery_times[998]     22.00000  0.3300   11.00   9.50  20.00000  42.00   \n",
       "delivery_times[999]     23.00000  0.3500   11.00   8.20  21.00000  44.00   \n",
       "delivery_times[1000]    22.00000  0.3800   12.00   7.80  20.00000  44.00   \n",
       "\n",
       "                         N_Eff  N_Eff/s  R_hat  \n",
       "name                                            \n",
       "lp__                       NaN      NaN    NaN  \n",
       "distance_coeff           980.0    600.0    1.0  \n",
       "meal_prep_coeff          980.0    610.0    1.0  \n",
       "mean                     890.0    550.0    1.0  \n",
       "traffic_level_coeff[1]  1008.0    624.0    1.0  \n",
       "...                        ...      ...    ...  \n",
       "delivery_times[996]      978.0    605.0    1.0  \n",
       "delivery_times[997]      993.0    614.0    1.0  \n",
       "delivery_times[998]     1036.0    641.0    1.0  \n",
       "delivery_times[999]     1064.0    658.0    1.0  \n",
       "delivery_times[1000]    1042.0    644.0    1.0  \n",
       "\n",
       "[2009 rows x 9 columns]"
      ]
     },
     "execution_count": 14,
     "metadata": {},
     "output_type": "execute_result"
    }
   ],
   "source": [
    "model1_ppc=CmdStanModel(stan_file='model1_ppc.stan')\n",
    "\n",
    "model1_ppc_sim=model1_ppc.sample(data={\"N\": len(train_df), \"distance\": train_df[\"Normalized distances\"].values,\n",
    "                           \"meal_preparation_time\": train_df[\"Normalized mealprep\"].values,\n",
    "                           \"traffic_level\" :train_df[\"Road_traffic_density\"].values}, \n",
    "                     iter_sampling=999,\n",
    "                     iter_warmup=0, \n",
    "                     chains=1, \n",
    "                     fixed_param=True,\n",
    "                     seed=20230613,\n",
    "                     output_dir='models_output/model1/ppc/')\n",
    "model1_ppc_df = model1_ppc_sim.draws_pd()\n",
    "\n",
    "# get measurements\n",
    "model1_ppc_measurements = model1_ppc_sim.stan_variable('delivery_times').flatten()  # flatten makes it row/column vector (one of these)\n",
    "\n",
    "# set bins\n",
    "bins = np.linspace(0, 120, 120)\n",
    "print(np.quantile(model1_ppc_measurements, 0.99))\n",
    "\n",
    "# plot measurements\n",
    "plt.hist(model1_ppc_measurements, density=True, bins=bins, alpha=0.5, label=\"Generated data\")\n",
    "\n",
    "# compare with real data, density set to True because each data point sampled 999 times\n",
    "plt.hist(train_df[\"Time_taken(min)\"], density=True, bins=bins, alpha=0.5, label=\"Measured data\")\n",
    "\n",
    "# plot customization\n",
    "plt.legend()\n",
    "plt.title(\"Normalized histogram of ppc measurements\")\n",
    "plt.show()\n",
    "\n",
    "# display summary\n",
    "model1_ppc_sim.summary()"
   ]
  },
  {
   "cell_type": "code",
   "execution_count": 16,
   "metadata": {},
   "outputs": [
    {
     "data": {
      "image/png": "[encoded data removed]",
      "text/plain": [
       "<Figure size 432x288 with 1 Axes>"
      ]
     },
     "metadata": {
      "needs_background": "light"
     },
     "output_type": "display_data"
    },
    {
     "data": {
      "image/png": "[encoded data removed]",
      "text/plain": [
       "<Figure size 432x288 with 1 Axes>"
      ]
     },
     "metadata": {
      "needs_background": "light"
     },
     "output_type": "display_data"
    }
   ],
   "source": [
    "# get distance coeff\n",
    "model1_ppc_distance_coeff = model1_ppc_sim.stan_variable('distance_coeff')\n",
    "\n",
    "# plot traffic coeff\n",
    "plt.hist(model1_ppc_distance_coeff,label=\"Distance coefficient\", bins=np.linspace(-1.2,1.2,100))\n",
    "\n",
    "\n",
    "# plot customization\n",
    "plt.legend()\n",
    "plt.title(\"Histogram of ppc distance coefficients\")\n",
    "plt.show()\n",
    "\n",
    "# get traffic level coeff\n",
    "model1_ppc_traffic_coeff = model1_ppc_sim.stan_variable('traffic_level_coeff')\n",
    "\n",
    "# plot traffic coeff\n",
    "plt.hist(model1_ppc_traffic_coeff[:,0],label=\"Jam\", alpha=0.3, bins=np.linspace(-1.2,1.2,100))\n",
    "plt.hist(model1_ppc_traffic_coeff[:,1],label=\"High\", alpha=0.3, bins=np.linspace(-1.2,1.2,100))\n",
    "plt.hist(model1_ppc_traffic_coeff[:,2],label=\"Medium\", alpha=0.3, bins=np.linspace(-1.2,1.2,100))\n",
    "plt.hist(model1_ppc_traffic_coeff[:,3],label=\"Low\", alpha=0.3, bins=np.linspace(-1.2,1.2,100))\n",
    "\n",
    "# plot customization\n",
    "plt.legend()\n",
    "plt.title(\"Histogram of ppc traffic level coefficients\")\n",
    "plt.show()\n"
   ]
  },
  {
   "cell_type": "code",
   "execution_count": 15,
   "metadata": {},
   "outputs": [
    {
     "name": "stderr",
     "output_type": "stream",
     "text": [
      "INFO:cmdstanpy:compiling stan file /home/project_repo/data_analytics_project/norm_fit.stan to exe file /home/project_repo/data_analytics_project/norm_fit\n"
     ]
    },
    {
     "name": "stderr",
     "output_type": "stream",
     "text": [
      "INFO:cmdstanpy:compiled model executable: /home/project_repo/data_analytics_project/norm_fit\n",
      "INFO:cmdstanpy:CmdStan start processing\n",
      "chain 1 |\u001b[33m          \u001b[0m| 00:00 Status\n",
      "\u001b[A\n",
      "\n",
      "\u001b[A\u001b[A\n",
      "\n",
      "\u001b[A\u001b[A\n",
      "chain 1 |\u001b[33m▉         \u001b[0m| 00:01 Iteration:    1 / 2000 [  0%]  (Warmup)\n",
      "\n",
      "\u001b[A\u001b[A\n",
      "\u001b[A\n",
      "chain 1 |\u001b[33m█▎        \u001b[0m| 00:14 Iteration:  100 / 2000 [  5%]  (Warmup)\n",
      "\n",
      "\u001b[A\u001b[A\n",
      "\u001b[A\n",
      "\n",
      "\u001b[A\u001b[A\n",
      "chain 1 |\u001b[33m██▎       \u001b[0m| 00:37 Iteration:  300 / 2000 [ 15%]  (Warmup)\n",
      "\n",
      "\u001b[A\u001b[A\n",
      "chain 1 |\u001b[33m██▋       \u001b[0m| 00:46 Iteration:  400 / 2000 [ 20%]  (Warmup)\n",
      "\n",
      "\u001b[A\u001b[A\n",
      "chain 1 |\u001b[33m███▏      \u001b[0m| 00:57 Iteration:  500 / 2000 [ 25%]  (Warmup)\n",
      "\u001b[A\n",
      "\n",
      "chain 1 |\u001b[33m███▋      \u001b[0m| 01:06 Iteration:  600 / 2000 [ 30%]  (Warmup)\n",
      "\u001b[A\n",
      "\n",
      "\u001b[A\u001b[A\n",
      "chain 1 |\u001b[33m████      \u001b[0m| 01:15 Iteration:  700 / 2000 [ 35%]  (Warmup)\n",
      "\n",
      "chain 1 |\u001b[33m████▌     \u001b[0m| 01:22 Iteration:  800 / 2000 [ 40%]  (Warmup)\n",
      "\u001b[A\n",
      "\n",
      "\u001b[A\u001b[A\n",
      "chain 1 |\u001b[33m█████     \u001b[0m| 01:31 Iteration:  900 / 2000 [ 45%]  (Warmup)\n",
      "\n",
      "\u001b[A\u001b[A\n",
      "\n",
      "\u001b[A\u001b[A\n",
      "\u001b[A\n",
      "\n",
      "chain 1 |\u001b[34m█████▉    \u001b[0m| 01:45 Iteration: 1001 / 2000 [ 50%]  (Sampling)\n",
      "\u001b[A\n",
      "\n",
      "\u001b[A\u001b[A\n",
      "chain 1 |\u001b[34m██████▎   \u001b[0m| 01:58 Iteration: 1100 / 2000 [ 55%]  (Sampling)\n",
      "\u001b[A\n",
      "\n",
      "chain 1 |\u001b[34m██████▊   \u001b[0m| 02:12 Iteration: 1200 / 2000 [ 60%]  (Sampling)\n",
      "\u001b[A\n",
      "\n",
      "\u001b[A\u001b[A\n",
      "chain 1 |\u001b[34m███████▎  \u001b[0m| 02:26 Iteration: 1300 / 2000 [ 65%]  (Sampling)\n",
      "\n",
      "\u001b[A\u001b[A\n",
      "chain 1 |\u001b[34m███████▋  \u001b[0m| 02:42 Iteration: 1400 / 2000 [ 70%]  (Sampling)\n",
      "\n",
      "\u001b[A\u001b[A\n",
      "\u001b[A\n",
      "chain 1 |\u001b[34m████████▏ \u001b[0m| 02:55 Iteration: 1500 / 2000 [ 75%]  (Sampling)\n",
      "\n",
      "\u001b[A\u001b[A\n",
      "\n",
      "chain 1 |\u001b[34m████████▋ \u001b[0m| 03:07 Iteration: 1600 / 2000 [ 80%]  (Sampling)\n",
      "\n",
      "chain 1 |\u001b[34m█████████ \u001b[0m| 03:18 Iteration: 1700 / 2000 [ 85%]  (Sampling)\n",
      "\n",
      "chain 1 |\u001b[34m██████████\u001b[0m| 03:39 Sampling completed                       \n",
      "chain 2 |\u001b[34m██████████\u001b[0m| 03:39 Sampling completed                       \n",
      "chain 3 |\u001b[34m██████████\u001b[0m| 03:39 Sampling completed                       \n",
      "chain 4 |\u001b[34m██████████\u001b[0m| 03:39 Sampling completed                       "
     ]
    },
    {
     "name": "stdout",
     "output_type": "stream",
     "text": [
      "                                                                                                                                                                                                                                                                                                                                "
     ]
    },
    {
     "name": "stderr",
     "output_type": "stream",
     "text": [
      "\n",
      "INFO:cmdstanpy:CmdStan done processing.\n"
     ]
    },
    {
     "name": "stdout",
     "output_type": "stream",
     "text": [
      "\n"
     ]
    },
    {
     "data": {
      "image/png": "[encoded data removed]",
      "text/plain": [
       "<Figure size 432x288 with 1 Axes>"
      ]
     },
     "metadata": {
      "needs_background": "light"
     },
     "output_type": "display_data"
    }
   ],
   "source": [
    "basic_fit=CmdStanModel(stan_file='norm_fit.stan')\n",
    "\n",
    "basic_sample=basic_fit.sample(data={\"N\": len(train_df), \n",
    "                                    \"distance\": train_df[\"Normalized distances\"].values,\n",
    "                                    \"meal_preparation_time\": train_df[\"Normalized mealprep\"].values, \n",
    "                                    \"delivery_times\": train_df[\"Time_taken(min)\"].values, \n",
    "                                    \"traffic_level\" :train_df[\"Road_traffic_density\"].values},\n",
    "                     iter_sampling=1000,\n",
    "                     iter_warmup=1000, \n",
    "                     chains=4,\n",
    "                         )\n",
    "\n",
    "\n",
    "df_fit = basic_sample.draws_pd()\n",
    "\n",
    "temp=basic_sample.diagnose()\n",
    "with open(\"output.txt\", \"w\") as file:\n",
    "    file.write(temp)"
   ]
  },
  {
   "cell_type": "code",
   "execution_count": 18,
   "metadata": {},
   "outputs": [
    {
     "data": {
      "image/png": "[encoded data removed]",
      "text/plain": [
       "<Figure size 432x288 with 1 Axes>"
      ]
     },
     "metadata": {
      "needs_background": "light"
     },
     "output_type": "display_data"
    }
   ],
   "source": [
    "delivery_fit = df_fit.filter(regex=\"delivery_time.*\")\n",
    "# df_fit.iloc[:, 8:]\n",
    "plt.hist(train_df[\"Time_taken(min)\"], bins=bins,density=True, alpha=0.5, label=\"Measured data\")\n",
    "plt.hist(delivery_fit.values.flatten(),bins=bins,density=True, alpha=0.5, label=\"Simulated data\")\n",
    "plt.title(\"delivery time\")\n",
    "plt.legend()\n",
    "plt.show()"
   ]
  },
  {
   "attachments": {},
   "cell_type": "markdown",
   "metadata": {},
   "source": [
    "# Model 2"
   ]
  },
  {
   "cell_type": "code",
   "execution_count": 16,
   "metadata": {},
   "outputs": [],
   "source": [
    "train_df[\"Normalized person_rating\"] = (train_df[\"Delivery_person_Ratings\"] - train_df[\"Delivery_person_Ratings\"].mean()) / train_df[\"Delivery_person_Ratings\"].std()\n",
    "\n",
    "# # train_df = train_df[train_df[\"Mean speed\"] < 1.7]\n",
    "# plt.hist(train_df[\"Normalized distances\"], bins=20)\n",
    "# plt.title(\"Normalized distances\")\n",
    "# plt.show()\n",
    "\n",
    "# plt.hist(train_df[\"Normalized mealprep\"], bins=20)\n",
    "# plt.title(\"Normalized meal preparation time\")\n",
    "# plt.show()\n",
    "\n",
    "# plt.hist(train_df[\"Normalized person_rating\"], bins=20)\n",
    "# plt.title(\"Normalized deliery person rating\")\n",
    "# plt.show()\n",
    "\n",
    "# print(train_df[\"Road distances [km]\"].mean())\n",
    "# print(train_df[\"Time_taken(min)\"].mean())\n",
    "# print(train_df[\"Delivery_person_Ratings\"].mean())\n",
    "\n",
    "\n",
    "train_df[\"multiple_deliveries\"] = train_df[\"multiple_deliveries\"]+1\n"
   ]
  },
  {
   "cell_type": "code",
   "execution_count": 17,
   "metadata": {},
   "outputs": [
    {
     "name": "stderr",
     "output_type": "stream",
     "text": [
      "INFO:cmdstanpy:compiling stan file /home/project_repo/data_analytics_project/model2_ppc.stan to exe file /home/project_repo/data_analytics_project/model2_ppc\n"
     ]
    },
    {
     "name": "stderr",
     "output_type": "stream",
     "text": [
      "ERROR:cmdstanpy:Stan program failed to compile:\n",
      "WARNING:cmdstanpy:\n",
      "--- Translating Stan model to C++ code ---\n",
      "bin/stanc  --o=/home/project_repo/data_analytics_project/model2_ppc.hpp /home/project_repo/data_analytics_project/model2_ppc.stan\n",
      "Syntax error in '/home/project_repo/data_analytics_project/model2_ppc.stan', line 37, column 3 to column 6, parsing error:\n",
      "   -------------------------------------------------\n",
      "    35:     real mean = normal_rng(3, 0.2)\n",
      "    36:  \n",
      "    37:     for (i in 1:N){\n",
      "            ^\n",
      "    38:        temp1[i] = distance_coeff*distance[i] + traffic_level_coeff[traffic_level[i]]+meal_prep_coeff*meal_preparation_time[i]+person_rating_coeff*delivery_person_rating[i]+deliveries_number_coeff[number_of_deliveiers[i]]+mean;\n",
      "    39:        mu[i] = exp(distance_coeff*distance[i] + traffic_level_coeff[traffic_level[i]]+meal_prep_coeff*meal_preparation_time[i]+person_rating_coeff*delivery_person_rating[i]+deliveries_number_coeff[number_of_deliveiers[i]]+mean);\n",
      "   -------------------------------------------------\n",
      "\n",
      "Ill-formed expression. Expression followed by \";\" expected after \"=\".\n",
      "make: *** [make/program:50: /home/project_repo/data_analytics_project/model2_ppc.hpp] Error 1\n",
      "\n",
      "Command ['make', '/home/project_repo/data_analytics_project/model2_ppc']\n",
      "\terror during processing No such file or directory\n",
      "\n"
     ]
    },
    {
     "ename": "ValueError",
     "evalue": "Unable to compile Stan model file: /home/project_repo/data_analytics_project/model2_ppc.stan.",
     "output_type": "error",
     "traceback": [
      "\u001b[0;31m---------------------------------------------------------------------------\u001b[0m",
      "\u001b[0;31mValueError\u001b[0m                                Traceback (most recent call last)",
      "\u001b[1;32m/home/project_repo/data_analytics_project/basic_model.ipynb Cell 8\u001b[0m in \u001b[0;36m<cell line: 1>\u001b[0;34m()\u001b[0m\n\u001b[0;32m----> <a href='vscode-notebook-cell://attached-container%2B7b22636f6e7461696e65724e616d65223a222f64615f636f6e7461696e6572227d/home/project_repo/data_analytics_project/basic_model.ipynb#X10sdnNjb2RlLXJlbW90ZQ%3D%3D?line=0'>1</a>\u001b[0m model_ppc\u001b[39m=\u001b[39mCmdStanModel(stan_file\u001b[39m=\u001b[39;49m\u001b[39m'\u001b[39;49m\u001b[39mmodel2_ppc.stan\u001b[39;49m\u001b[39m'\u001b[39;49m)\n\u001b[1;32m      <a href='vscode-notebook-cell://attached-container%2B7b22636f6e7461696e65724e616d65223a222f64615f636f6e7461696e6572227d/home/project_repo/data_analytics_project/basic_model.ipynb#X10sdnNjb2RlLXJlbW90ZQ%3D%3D?line=2'>3</a>\u001b[0m sim\u001b[39m=\u001b[39mmodel_ppc\u001b[39m.\u001b[39msample(data\u001b[39m=\u001b[39m{\u001b[39m\"\u001b[39m\u001b[39mN\u001b[39m\u001b[39m\"\u001b[39m: \u001b[39mlen\u001b[39m(train_df), \u001b[39m\"\u001b[39m\u001b[39mdistance\u001b[39m\u001b[39m\"\u001b[39m: train_df[\u001b[39m\"\u001b[39m\u001b[39mNormalized distances\u001b[39m\u001b[39m\"\u001b[39m]\u001b[39m.\u001b[39mvalues,\n\u001b[1;32m      <a href='vscode-notebook-cell://attached-container%2B7b22636f6e7461696e65724e616d65223a222f64615f636f6e7461696e6572227d/home/project_repo/data_analytics_project/basic_model.ipynb#X10sdnNjb2RlLXJlbW90ZQ%3D%3D?line=3'>4</a>\u001b[0m                            \u001b[39m\"\u001b[39m\u001b[39mmeal_preparation_time\u001b[39m\u001b[39m\"\u001b[39m: train_df[\u001b[39m\"\u001b[39m\u001b[39mNormalized mealprep\u001b[39m\u001b[39m\"\u001b[39m]\u001b[39m.\u001b[39mvalues,\n\u001b[1;32m      <a href='vscode-notebook-cell://attached-container%2B7b22636f6e7461696e65724e616d65223a222f64615f636f6e7461696e6572227d/home/project_repo/data_analytics_project/basic_model.ipynb#X10sdnNjb2RlLXJlbW90ZQ%3D%3D?line=4'>5</a>\u001b[0m                            \u001b[39m\"\u001b[39m\u001b[39mtraffic_level\u001b[39m\u001b[39m\"\u001b[39m: train_df[\u001b[39m\"\u001b[39m\u001b[39mRoad_traffic_density\u001b[39m\u001b[39m\"\u001b[39m]\u001b[39m.\u001b[39mvalues,\n\u001b[0;32m   (...)\u001b[0m\n\u001b[1;32m     <a href='vscode-notebook-cell://attached-container%2B7b22636f6e7461696e65724e616d65223a222f64615f636f6e7461696e6572227d/home/project_repo/data_analytics_project/basic_model.ipynb#X10sdnNjb2RlLXJlbW90ZQ%3D%3D?line=10'>11</a>\u001b[0m                      fixed_param\u001b[39m=\u001b[39m\u001b[39mTrue\u001b[39;00m,\n\u001b[1;32m     <a href='vscode-notebook-cell://attached-container%2B7b22636f6e7461696e65724e616d65223a222f64615f636f6e7461696e6572227d/home/project_repo/data_analytics_project/basic_model.ipynb#X10sdnNjb2RlLXJlbW90ZQ%3D%3D?line=11'>12</a>\u001b[0m                      seed\u001b[39m=\u001b[39m\u001b[39m20230613\u001b[39m)\n\u001b[1;32m     <a href='vscode-notebook-cell://attached-container%2B7b22636f6e7461696e65724e616d65223a222f64615f636f6e7461696e6572227d/home/project_repo/data_analytics_project/basic_model.ipynb#X10sdnNjb2RlLXJlbW90ZQ%3D%3D?line=12'>13</a>\u001b[0m ppc_df \u001b[39m=\u001b[39m sim\u001b[39m.\u001b[39mdraws_pd()\n",
      "File \u001b[0;32m/usr/local/lib/python3.9/site-packages/cmdstanpy/model.py:210\u001b[0m, in \u001b[0;36mCmdStanModel.__init__\u001b[0;34m(self, model_name, stan_file, exe_file, compile, stanc_options, cpp_options, user_header)\u001b[0m\n\u001b[1;32m    208\u001b[0m \u001b[39mself\u001b[39m\u001b[39m.\u001b[39mcompile(force\u001b[39m=\u001b[39m\u001b[39mstr\u001b[39m(\u001b[39mcompile\u001b[39m)\u001b[39m.\u001b[39mlower() \u001b[39m==\u001b[39m \u001b[39m'\u001b[39m\u001b[39mforce\u001b[39m\u001b[39m'\u001b[39m)\n\u001b[1;32m    209\u001b[0m \u001b[39mif\u001b[39;00m \u001b[39mself\u001b[39m\u001b[39m.\u001b[39m_exe_file \u001b[39mis\u001b[39;00m \u001b[39mNone\u001b[39;00m:\n\u001b[0;32m--> 210\u001b[0m     \u001b[39mraise\u001b[39;00m \u001b[39mValueError\u001b[39;00m(\n\u001b[1;32m    211\u001b[0m         \u001b[39m'\u001b[39m\u001b[39mUnable to compile Stan model file: \u001b[39m\u001b[39m{}\u001b[39;00m\u001b[39m.\u001b[39m\u001b[39m'\u001b[39m\u001b[39m.\u001b[39mformat(\n\u001b[1;32m    212\u001b[0m             \u001b[39mself\u001b[39m\u001b[39m.\u001b[39m_stan_file\n\u001b[1;32m    213\u001b[0m         )\n\u001b[1;32m    214\u001b[0m     )\n",
      "\u001b[0;31mValueError\u001b[0m: Unable to compile Stan model file: /home/project_repo/data_analytics_project/model2_ppc.stan."
     ]
    }
   ],
   "source": [
    "model_ppc=CmdStanModel(stan_file='model2_ppc.stan')\n",
    "\n",
    "sim=model_ppc.sample(data={\"N\": len(train_df), \"distance\": train_df[\"Normalized distances\"].values,\n",
    "                           \"meal_preparation_time\": train_df[\"Normalized mealprep\"].values,\n",
    "                           \"traffic_level\": train_df[\"Road_traffic_density\"].values,\n",
    "                           \"delivery_person_rating\": train_df[\"Normalized person_rating\"].values,\n",
    "                           \"number_of_deliveiers\": train_df[\"multiple_deliveries\"].values}, \n",
    "                     iter_sampling=1000,\n",
    "                     iter_warmup=0, \n",
    "                     chains=1, \n",
    "                     fixed_param=True,\n",
    "                     seed=20230613)\n",
    "ppc_df = sim.draws_pd()\n",
    "\n",
    "bins = np.linspace(0,100,100)\n",
    "\n",
    "# mean_for_gamma = ppc_df.filter(regex=\"temp1.*\")\n",
    "\n",
    "# delivery = ppc_df.filter(regex=\"delivery_time.*\")\n",
    "# display(mean_for_gamma.iloc[:,:].describe())\n",
    "# # delivery.iloc[:,:].apply(pd.DataFrame.describe, axis=1)\n",
    "# # delivery['value'].describe()\n",
    "# # display(speed.loc[0,:].min())\n",
    "# plt.hist(mean_for_gamma.values.flatten(), alpha=0.5, label=\"Mu\")\n",
    "# plt.title(\"Argument exponenty\")\n",
    "# plt.show()\n",
    "\n",
    "# # mean_for_gamma = ppc_df.filter(regex=\"temp2.*\")\n",
    "\n",
    "# # delivery = ppc_df.filter(regex=\"delivery_time.*\")\n",
    "# # display(mean_for_gamma.iloc[0,:].describe())\n",
    "# # # delivery.iloc[:,:].apply(pd.DataFrame.describe, axis=1)\n",
    "# # # delivery['value'].describe()\n",
    "# # # display(speed.loc[0,:].min())\n",
    "# # plt.hist(mean_for_gamma.values.flatten(), alpha=0.5, label=\"Mu\")\n",
    "# # plt.title(\"Exponenta bez dodawania meal prepa\")\n",
    "# # plt.show()\n",
    "\n",
    "mean_for_gamma1 = ppc_df.filter(regex=\"mu.*\")\n",
    "\n",
    "# delivery = ppc_df.filter(regex=\"delivery_time.*\")\n",
    "display(mean_for_gamma1.iloc[0,:].describe())\n",
    "# delivery.iloc[:,:].apply(pd.DataFrame.describe, axis=1)\n",
    "# delivery['value'].describe()\n",
    "# display(speed.loc[0,:].min())\n",
    "plt.hist(mean_for_gamma1.values.flatten(), alpha=0.5, label=\"Mu\")\n",
    "plt.title(\"Wynik exponenty\")\n",
    "plt.show()\n",
    "\n",
    "# # sigma = ppc_df.filter(regex=\"sigma.*\")\n",
    "# # print(f\"Odchylenie =  {sigma.values}\")\n",
    "\n",
    "# sigma = ppc_df.filter(regex=\"sigma.*\")\n",
    "\n",
    "# # delivery = ppc_df.filter(regex=\"delivery_time.*\")\n",
    "# display(sigma.iloc[:,:].describe())\n",
    "# # delivery.iloc[:,:].apply(pd.DataFrame.describe, axis=1)\n",
    "# # delivery['value'].describe()\n",
    "# # display(speed.loc[0,:].min())\n",
    "# plt.hist(sigma.values.flatten(), alpha=0.5, label=\"sigma\")\n",
    "# plt.title(\"Odchylenie\")\n",
    "# plt.show()\n",
    "\n",
    "# sigma = ppc_df.filter(regex=\"person_rating_coeff.*\")\n",
    "\n",
    "# delivery = ppc_df.filter(regex=\"delivery_time.*\")\n",
    "# display(sigma.iloc[:,:].describe())\n",
    "# # delivery.iloc[:,:].apply(pd.DataFrame.describe, axis=1)\n",
    "# # delivery['value'].describe()\n",
    "# # display(speed.loc[0,:].min())\n",
    "# plt.hist(sigma.values.flatten(), alpha=0.5, label=\"sigma\")\n",
    "# plt.title(\"Delivery rating coeff\")\n",
    "# plt.show()\n",
    "\n",
    "# # sigma = ppc_df.filter(regex=\"distance_coeff.*\")\n",
    "# # print(f\"Wsp odległości =  {sigma.values}\")\n",
    "\n",
    "# # sigma = ppc_df.filter(regex=\"meal_prep_coeff.*\")\n",
    "# # print(f\"Wsp przygotowania posiłku =  {sigma.values}\")\n",
    "\n",
    "# # mean_for_gamma2 = ppc_df.filter(regex=\"gamma_alpha.*\")\n",
    "# # # delivery = ppc_df.filter(regex=\"delivery_time.*\")\n",
    "# # display(mean_for_gamma2.iloc[0,:].describe())\n",
    "# # # delivery.iloc[:,:].apply(pd.DataFrame.describe, axis=1)\n",
    "# # # delivery['value'].describe()\n",
    "# # # display(speed.loc[0,:].min())\n",
    "# # plt.hist(mean_for_gamma2.values.flatten(), alpha=0.5, label=\"Mu\")\n",
    "# # plt.title(\"gamma_alpha prior check\")\n",
    "# # plt.show()\n",
    "\n",
    "# # mean_for_gamma3 = ppc_df.filter(regex=\"gamma_beta.*\")\n",
    "# # # delivery = ppc_df.filter(regex=\"delivery_time.*\")\n",
    "# # display(mean_for_gamma3.iloc[0,:].describe())\n",
    "# # # delivery.iloc[:,:].apply(pd.DataFrame.describe, axis=1)\n",
    "# # # delivery['value'].describe()\n",
    "# # # display(speed.loc[0,:].min())\n",
    "# # plt.hist(mean_for_gamma3.values.flatten(), alpha=0.5, label=\"Mu\")\n",
    "# # plt.title(\"gamma_beta prior check\")\n",
    "# # plt.show()\n",
    "\n",
    "print(delivery.iloc[0,:].describe())\n",
    "plt.hist(train_df[\"Time_taken(min)\"],bins=bins ,alpha=0.5, label=\"Measured data\", density=True)\n",
    "plt.hist(delivery.values.flatten(),bins=bins, alpha=0.5, label=\"Simulated data\", density=True)\n",
    "plt.title(\"Time prior check\")\n",
    "plt.legend()\n",
    "plt.show()\n",
    "\n",
    "\n",
    "# print(f\"distance_coef {ppc_df.filter(regex='distance_coeff.*')}\")"
   ]
  },
  {
   "cell_type": "code",
   "execution_count": null,
   "metadata": {},
   "outputs": [
    {
     "name": "stderr",
     "output_type": "stream",
     "text": [
      "INFO:cmdstanpy:compiling stan file /home/project_repo/data_analytics_project/model2_fit.stan to exe file /home/project_repo/data_analytics_project/model2_fit\n",
      "INFO:cmdstanpy:compiled model executable: /home/project_repo/data_analytics_project/model2_fit\n",
      "INFO:cmdstanpy:CmdStan start processing\n",
      "chain 1 |\u001b[33m          \u001b[0m| 00:00 Status\n",
      "\u001b[A\n",
      "\n",
      "chain 1 |\u001b[33m▍         \u001b[0m| 00:00 Status\n",
      "\u001b[A\n",
      "\n",
      "\u001b[A\u001b[A\n",
      "\u001b[A\n",
      "\n",
      "chain 1 |\u001b[33m█▎        \u001b[0m| 00:27 Iteration:  100 / 2000 [  5%]  (Warmup)\n",
      "\n",
      "\u001b[A\u001b[A\n",
      "\u001b[A\n",
      "\n",
      "chain 1 |\u001b[33m█▊        \u001b[0m| 00:48 Iteration:  200 / 2000 [ 10%]  (Warmup)\n",
      "chain 1 |\u001b[33m██▎       \u001b[0m| 01:01 Iteration:  300 / 2000 [ 15%]  (Warmup)\n",
      "\n",
      "\u001b[A\u001b[A\n",
      "chain 1 |\u001b[33m██▋       \u001b[0m| 01:19 Iteration:  400 / 2000 [ 20%]  (Warmup)\n",
      "\n",
      "\u001b[A\u001b[A\n",
      "chain 1 |\u001b[33m███▏      \u001b[0m| 01:37 Iteration:  500 / 2000 [ 25%]  (Warmup)\n",
      "\n",
      "\u001b[A\u001b[A\n",
      "chain 1 |\u001b[33m███▋      \u001b[0m| 01:51 Iteration:  600 / 2000 [ 30%]  (Warmup)\n",
      "\n",
      "chain 1 |\u001b[33m████      \u001b[0m| 02:05 Iteration:  700 / 2000 [ 35%]  (Warmup)\n",
      "\u001b[A\n",
      "\n",
      "chain 1 |\u001b[33m████▌     \u001b[0m| 02:22 Iteration:  800 / 2000 [ 40%]  (Warmup)\n",
      "\u001b[A\n",
      "\n",
      "\u001b[A\u001b[A\n",
      "chain 1 |\u001b[34m█████▍    \u001b[0m| 02:48 Iteration: 1000 / 2000 [ 50%]  (Warmup)\n",
      "\n",
      "\u001b[A\u001b[A\n",
      "\n",
      "chain 1 |\u001b[34m█████▉    \u001b[0m| 03:13 Iteration: 1001 / 2000 [ 50%]  (Sampling)\n",
      "\u001b[A\n",
      "\u001b[A\n",
      "\n",
      "chain 1 |\u001b[34m██████▎   \u001b[0m| 03:36 Iteration: 1100 / 2000 [ 55%]  (Sampling)\n",
      "chain 1 |\u001b[34m██████▊   \u001b[0m| 03:59 Iteration: 1200 / 2000 [ 60%]  (Sampling)\n",
      "\n",
      "\u001b[A\u001b[A\n",
      "chain 1 |\u001b[34m███████▎  \u001b[0m| 04:20 Iteration: 1300 / 2000 [ 65%]  (Sampling)\n",
      "\n",
      "chain 1 |\u001b[34m███████▋  \u001b[0m| 04:44 Iteration: 1400 / 2000 [ 70%]  (Sampling)\n",
      "\u001b[A\n",
      "\n",
      "chain 1 |\u001b[34m████████▏ \u001b[0m| 05:01 Iteration: 1500 / 2000 [ 75%]  (Sampling)\n",
      "chain 1 |\u001b[34m████████▋ \u001b[0m| 05:23 Iteration: 1600 / 2000 [ 80%]  (Sampling)\n",
      "\n",
      "\u001b[A\u001b[A\n",
      "chain 1 |\u001b[34m█████████ \u001b[0m| 05:43 Iteration: 1700 / 2000 [ 85%]  (Sampling)\n",
      "\n",
      "chain 1 |\u001b[34m█████████▌\u001b[0m| 06:01 Iteration: 1800 / 2000 [ 90%]  (Sampling)\n",
      "\u001b[A\n",
      "\n",
      "chain 1 |\u001b[34m██████████\u001b[0m| 06:19 Iteration: 1900 / 2000 [ 95%]  (Sampling)\n",
      "\u001b[A\n",
      "\n",
      "\u001b[A\u001b[A\n",
      "\u001b[A\n",
      "\n",
      "\u001b[A\u001b[A\n",
      "\u001b[A\n",
      "\n",
      "\u001b[A\u001b[A\n",
      "chain 1 |\u001b[34m██████████\u001b[0m| 07:32 Sampling completed                       \n",
      "chain 2 |\u001b[34m██████████\u001b[0m| 07:32 Sampling completed                       \n",
      "chain 3 |\u001b[34m██████████\u001b[0m| 07:32 Sampling completed                       \n",
      "chain 4 |\u001b[34m██████████\u001b[0m| 07:32 Sampling completed                       "
     ]
    },
    {
     "name": "stdout",
     "output_type": "stream",
     "text": [
      "                                                                                                                                                                                                                                                                                                                                "
     ]
    },
    {
     "name": "stderr",
     "output_type": "stream",
     "text": [
      "\n",
      "INFO:cmdstanpy:CmdStan done processing.\n"
     ]
    },
    {
     "name": "stdout",
     "output_type": "stream",
     "text": [
      "\n"
     ]
    }
   ],
   "source": [
    "model2_fit=CmdStanModel(stan_file='model2_fit.stan')\n",
    "\n",
    "model2_sample=model2_fit.sample(data={\"N\": len(train_df), \n",
    "                                    \"distance\": train_df[\"Normalized distances\"].values,\n",
    "                                    \"meal_preparation_time\": train_df[\"Normalized mealprep\"].values, \n",
    "                                    \"delivery_times\": train_df[\"Time_taken(min)\"].values, \n",
    "                                    \"traffic_level\" :train_df[\"Road_traffic_density\"].values,\n",
    "                                    \"delivery_person_rating\": train_df[\"Normalized person_rating\"].values,\n",
    "                                    \"number_of_deliveiers\": train_df[\"multiple_deliveries\"].values}, \n",
    "                     iter_sampling=1000,\n",
    "                     iter_warmup=1000, \n",
    "                     chains=4,\n",
    "                         )\n",
    "\n",
    "\n",
    "df_fit = model2_sample.draws_pd()\n",
    "# display(df_fit)\n",
    "\n",
    "# traffib_level = df_fit.filter(regex=\"distance_coef.*\")\n",
    "# # df_fit.iloc[:, 8:]\n",
    "# # plt.hist(train_df[\"Time_taken(min)\"], bins=bins, alpha=0.5, label=\"Measured data\")\n",
    "# plt.hist(traffib_level.values.flatten(), alpha=0.5, label=\"Simulated data\")\n",
    "# plt.title(\"distance coef\")\n",
    "# plt.legend()\n",
    "# plt.show()\n",
    "\n",
    "# traffib_level = df_fit.filter(regex=\"meal_prep_coef.*\")\n",
    "# # df_fit.iloc[:, 8:]\n",
    "# # plt.hist(train_df[\"Time_taken(min)\"], bins=bins, alpha=0.5, label=\"Measured data\")\n",
    "# plt.hist(traffib_level.values.flatten(), alpha=0.5, label=\"Simulated data\")\n",
    "# plt.title(\"meal prep coef\")\n",
    "# plt.legend()\n",
    "# plt.show()\n",
    "\n",
    "# traffib_level = df_fit.filter(regex=\"deliveries_number_coef.*\")\n",
    "# # df_fit.iloc[:, 8:]\n",
    "# # plt.hist(train_df[\"Time_taken(min)\"], bins=bins, alpha=0.5, label=\"Measured data\")\n",
    "# plt.hist(traffib_level.values.flatten(), alpha=0.5, label=\"Simulated data\")\n",
    "# plt.title(\"Deliveries number coef\")\n",
    "# plt.legend()\n",
    "# plt.show()\n",
    "\n",
    "# traffib_level = df_fit.filter(regex=\"person_rating_coef.*\")\n",
    "# # df_fit.iloc[:, 8:]\n",
    "# # plt.hist(train_df[\"Time_taken(min)\"], bins=bins, alpha=0.5, label=\"Measured data\")\n",
    "# plt.hist(traffib_level.values.flatten(), alpha=0.5, label=\"Simulated data\")\n",
    "# plt.title(\"Delivery rating coef\")\n",
    "# plt.legend()\n",
    "# plt.show()\n",
    "\n",
    "\n",
    "# traffib_level = df_fit.filter(regex=\"traffic_level_coef.*\")\n",
    "# # df_fit.iloc[:, 8:]\n",
    "# # plt.hist(train_df[\"Time_taken(min)\"], bins=bins, alpha=0.5, label=\"Measured data\")\n",
    "# plt.hist(traffib_level.values.flatten(), alpha=0.5, label=\"Simulated data\")\n",
    "# plt.title(\"traffic level coef\")\n",
    "# plt.legend()\n",
    "# plt.show()\n",
    "\n",
    "# epx_argument = df_fit.filter(regex=\"exp_argument.*\")\n",
    "# # df_fit.iloc[:, 8:]\n",
    "# # plt.hist(train_df[\"Time_taken(min)\"], bins=bins, alpha=0.5, label=\"Measured data\")\n",
    "# plt.hist(epx_argument.values.flatten(), alpha=0.5, label=\"Simulated data\")\n",
    "# plt.title(\"exp_argument\")\n",
    "# plt.legend()\n",
    "# plt.show()\n",
    "\n",
    "# epx_argument = df_fit.filter(regex=\"exp_argument_with.*\")\n",
    "# # df_fit.iloc[:, 8:]\n",
    "# # plt.hist(train_df[\"Time_taken(min)\"], bins=bins, alpha=0.5, label=\"Measured data\")\n",
    "# plt.hist(epx_argument.values.flatten(), alpha=0.5, label=\"Simulated data\")\n",
    "# plt.title(\"exp_argument with meal\")\n",
    "# plt.legend()\n",
    "# plt.show()\n",
    "\n",
    "# mu = df_fit.filter(regex=\"mu.*\")\n",
    "# # df_fit.iloc[:, 8:]\n",
    "# # plt.hist(train_df[\"Time_taken(min)\"], bins=bins, alpha=0.5, label=\"Measured data\")\n",
    "# plt.hist(mu.values.flatten(),bins=bins, alpha=0.5, label=\"Simulated data\")\n",
    "# plt.title(\"mu\")\n",
    "# plt.legend()\n",
    "# plt.show()\n",
    "\n",
    "# # travel_time = df_fit.filter(regex=\"travel_time.*\")\n",
    "# # # df_fit.iloc[:, 8:]\n",
    "# # # plt.hist(train_df[\"Time_taken(min)\"], bins=bins, alpha=0.5, label=\"Measured data\")\n",
    "# # plt.hist(travel_time.values.flatten(),bins=np.linspace(0,100,100), alpha=0.5, label=\"Simulated data\")\n",
    "# # plt.title(\"travel time\")\n",
    "# # plt.legend()\n",
    "# # plt.show()\n",
    "\n",
    "# sigma = df_fit.filter(regex=\"sigma.*\")\n",
    "# # df_fit.iloc[:, 8:]\n",
    "# # plt.hist(train_df[\"Time_taken(min)\"], bins=bins, alpha=0.5, label=\"Measured data\")\n",
    "# plt.hist(sigma.values.flatten(), alpha=0.5, label=\"Simulated data\")\n",
    "# plt.title(\"sigma\")\n",
    "# plt.legend()\n",
    "# plt.show()\n",
    "\n",
    "\n",
    "\n",
    "# delivery_fit = df_fit.filter(regex=\"delivery_time.*\")\n",
    "# # df_fit.iloc[:, 8:]\n",
    "# plt.hist(train_df[\"Time_taken(min)\"], bins=bins,density=True, alpha=0.5, label=\"Measured data\")\n",
    "# plt.hist(delivery_fit.values.flatten(),bins=bins,density=True, alpha=0.5, label=\"Simulated data\")\n",
    "# plt.title(\"delivery time\")\n",
    "# plt.legend()\n",
    "# plt.show()\n",
    "\n",
    "# # print(f\"meal_prep_ceof {df_fit.filter(regex='meal_prep_coef.*')}\")\n",
    "# # print(f\"distance_coef {df_fit.filter(regex='distance_coeff.*')}\")\n",
    "temp=model2_sample.diagnose()\n",
    "with open(\"output2.txt\", \"w\") as file:\n",
    "    file.write(temp)"
   ]
  },
  {
   "attachments": {},
   "cell_type": "markdown",
   "metadata": {},
   "source": [
    "# Plots"
   ]
  },
  {
   "cell_type": "code",
   "execution_count": null,
   "metadata": {},
   "outputs": [
    {
     "data": {
      "image/png": "[encoded data removed]",
      "text/plain": [
       "<Figure size 432x288 with 1 Axes>"
      ]
     },
     "metadata": {
      "needs_background": "light"
     },
     "output_type": "display_data"
    },
    {
     "data": {
      "image/png": "[encoded data removed]",
      "text/plain": [
       "<Figure size 432x288 with 1 Axes>"
      ]
     },
     "metadata": {
      "needs_background": "light"
     },
     "output_type": "display_data"
    }
   ],
   "source": [
    "model1_fit = basic_sample.draws_pd()\n",
    "model2_fit = model2_sample.draws_pd()\n",
    "\n",
    "bins = np.linspace(1,100,100)\n",
    "\n",
    "delivery_fit = model1_fit.filter(regex=\"delivery_time.*\")\n",
    "# df_fit.iloc[:, 8:]\n",
    "plt.hist(train_df[\"Time_taken(min)\"], bins=bins,density=True, alpha=0.5, label=\"Measured data\")\n",
    "plt.hist(delivery_fit.values.flatten(),bins=bins,density=True, alpha=0.5, label=\"Simulated data\")\n",
    "plt.title(\"delivery time\")\n",
    "plt.legend()\n",
    "plt.show()\n",
    "\n",
    "delivery_fit = model2_fit.filter(regex=\"delivery_time.*\")\n",
    "# df_fit.iloc[:, 8:]\n",
    "plt.hist(train_df[\"Time_taken(min)\"], bins=bins,density=True, alpha=0.5, label=\"Measured data\")\n",
    "plt.hist(delivery_fit.values.flatten(),bins=bins,density=True, alpha=0.5, label=\"Simulated data\")\n",
    "plt.title(\"delivery time\")\n",
    "plt.legend()\n",
    "plt.show()"
   ]
  },
  {
   "attachments": {},
   "cell_type": "markdown",
   "metadata": {},
   "source": [
    "# Comparison"
   ]
  },
  {
   "cell_type": "code",
   "execution_count": null,
   "metadata": {},
   "outputs": [],
   "source": [
    "model1_az = az.from_cmdstanpy(\n",
    "    posterior=basic_sample,\n",
    ")\n",
    "\n",
    "model2_az = az.from_cmdstanpy(\n",
    "    posterior=model2_sample,\n",
    ")"
   ]
  },
  {
   "cell_type": "code",
   "execution_count": null,
   "metadata": {},
   "outputs": [
    {
     "data": {
      "text/html": [
       "<div>\n",
       "<style scoped>\n",
       "    .dataframe tbody tr th:only-of-type {\n",
       "        vertical-align: middle;\n",
       "    }\n",
       "\n",
       "    .dataframe tbody tr th {\n",
       "        vertical-align: top;\n",
       "    }\n",
       "\n",
       "    .dataframe thead th {\n",
       "        text-align: right;\n",
       "    }\n",
       "</style>\n",
       "<table border=\"1\" class=\"dataframe\">\n",
       "  <thead>\n",
       "    <tr style=\"text-align: right;\">\n",
       "      <th></th>\n",
       "      <th>rank</th>\n",
       "      <th>loo</th>\n",
       "      <th>p_loo</th>\n",
       "      <th>d_loo</th>\n",
       "      <th>weight</th>\n",
       "      <th>se</th>\n",
       "      <th>dse</th>\n",
       "      <th>warning</th>\n",
       "      <th>loo_scale</th>\n",
       "    </tr>\n",
       "  </thead>\n",
       "  <tbody>\n",
       "    <tr>\n",
       "      <th>model2_1</th>\n",
       "      <td>0</td>\n",
       "      <td>-10157.466341</td>\n",
       "      <td>15.563251</td>\n",
       "      <td>0.000000</td>\n",
       "      <td>0.98785</td>\n",
       "      <td>43.842468</td>\n",
       "      <td>0.000000</td>\n",
       "      <td>False</td>\n",
       "      <td>log</td>\n",
       "    </tr>\n",
       "    <tr>\n",
       "      <th>model_1</th>\n",
       "      <td>1</td>\n",
       "      <td>-10652.505444</td>\n",
       "      <td>8.560998</td>\n",
       "      <td>495.039103</td>\n",
       "      <td>0.01215</td>\n",
       "      <td>39.463108</td>\n",
       "      <td>28.546822</td>\n",
       "      <td>False</td>\n",
       "      <td>log</td>\n",
       "    </tr>\n",
       "  </tbody>\n",
       "</table>\n",
       "</div>"
      ],
      "text/plain": [
       "          rank           loo      p_loo       d_loo   weight         se  \\\n",
       "model2_1     0 -10157.466341  15.563251    0.000000  0.98785  43.842468   \n",
       "model_1      1 -10652.505444   8.560998  495.039103  0.01215  39.463108   \n",
       "\n",
       "                dse  warning loo_scale  \n",
       "model2_1   0.000000    False       log  \n",
       "model_1   28.546822    False       log  "
      ]
     },
     "metadata": {},
     "output_type": "display_data"
    },
    {
     "data": {
      "text/plain": [
       "Text(0.5, 1.0, 'Comparison of models with LOO criterion')"
      ]
     },
     "execution_count": 25,
     "metadata": {},
     "output_type": "execute_result"
    },
    {
     "data": {
      "image/png": "[encoded data removed]",
      "text/plain": [
       "<Figure size 432x144 with 1 Axes>"
      ]
     },
     "metadata": {
      "needs_background": "light"
     },
     "output_type": "display_data"
    }
   ],
   "source": [
    "compare_dict = {\"model_1\": model1_az, \"model2_1\": model2_az}\n",
    "\n",
    "loo_diff = az.compare(compare_dict=compare_dict, ic=\"loo\")\n",
    "display(loo_diff)\n",
    "\n",
    "ax = az.plot_compare(loo_diff)\n",
    "ax.set_title(\"Comparison of models with LOO criterion\")"
   ]
  },
  {
   "cell_type": "code",
   "execution_count": null,
   "metadata": {},
   "outputs": [
    {
     "name": "stderr",
     "output_type": "stream",
     "text": [
      "/usr/local/lib/python3.9/site-packages/arviz/stats/stats.py:1635: UserWarning: For one or more samples the posterior variance of the log predictive densities exceeds 0.4. This could be indication of WAIC starting to fail. \n",
      "See http://arxiv.org/abs/1507.04544 for details\n",
      "  warnings.warn(\n"
     ]
    },
    {
     "data": {
      "text/html": [
       "<div>\n",
       "<style scoped>\n",
       "    .dataframe tbody tr th:only-of-type {\n",
       "        vertical-align: middle;\n",
       "    }\n",
       "\n",
       "    .dataframe tbody tr th {\n",
       "        vertical-align: top;\n",
       "    }\n",
       "\n",
       "    .dataframe thead th {\n",
       "        text-align: right;\n",
       "    }\n",
       "</style>\n",
       "<table border=\"1\" class=\"dataframe\">\n",
       "  <thead>\n",
       "    <tr style=\"text-align: right;\">\n",
       "      <th></th>\n",
       "      <th>rank</th>\n",
       "      <th>waic</th>\n",
       "      <th>p_waic</th>\n",
       "      <th>d_waic</th>\n",
       "      <th>weight</th>\n",
       "      <th>se</th>\n",
       "      <th>dse</th>\n",
       "      <th>warning</th>\n",
       "      <th>waic_scale</th>\n",
       "    </tr>\n",
       "  </thead>\n",
       "  <tbody>\n",
       "    <tr>\n",
       "      <th>model2_1</th>\n",
       "      <td>0</td>\n",
       "      <td>-10157.403675</td>\n",
       "      <td>15.500584</td>\n",
       "      <td>0.000000</td>\n",
       "      <td>0.98786</td>\n",
       "      <td>43.830842</td>\n",
       "      <td>0.000000</td>\n",
       "      <td>True</td>\n",
       "      <td>log</td>\n",
       "    </tr>\n",
       "    <tr>\n",
       "      <th>model_1</th>\n",
       "      <td>1</td>\n",
       "      <td>-10652.505105</td>\n",
       "      <td>8.560660</td>\n",
       "      <td>495.101431</td>\n",
       "      <td>0.01214</td>\n",
       "      <td>39.463109</td>\n",
       "      <td>28.530552</td>\n",
       "      <td>False</td>\n",
       "      <td>log</td>\n",
       "    </tr>\n",
       "  </tbody>\n",
       "</table>\n",
       "</div>"
      ],
      "text/plain": [
       "          rank          waic     p_waic      d_waic   weight         se  \\\n",
       "model2_1     0 -10157.403675  15.500584    0.000000  0.98786  43.830842   \n",
       "model_1      1 -10652.505105   8.560660  495.101431  0.01214  39.463109   \n",
       "\n",
       "                dse  warning waic_scale  \n",
       "model2_1   0.000000     True        log  \n",
       "model_1   28.530552    False        log  "
      ]
     },
     "metadata": {},
     "output_type": "display_data"
    },
    {
     "data": {
      "text/plain": [
       "Text(0.5, 1.0, 'Comparison of models with WAIC criterion')"
      ]
     },
     "execution_count": 27,
     "metadata": {},
     "output_type": "execute_result"
    },
    {
     "data": {
      "image/png": "[encoded data removed]",
      "text/plain": [
       "<Figure size 432x144 with 1 Axes>"
      ]
     },
     "metadata": {
      "needs_background": "light"
     },
     "output_type": "display_data"
    }
   ],
   "source": [
    "compare_dict = {\"model_1\": model1_az, \"model2_1\": model2_az}\n",
    "\n",
    "loo_diff = az.compare(compare_dict=compare_dict, ic=\"waic\")\n",
    "display(loo_diff)\n",
    "\n",
    "ax = az.plot_compare(loo_diff)\n",
    "ax.set_title(\"Comparison of models with WAIC criterion\")"
   ]
  }
 ],
 "metadata": {
  "kernelspec": {
   "display_name": "Python 3",
   "language": "python",
   "name": "python3"
  },
  "language_info": {
   "codemirror_mode": {
    "name": "ipython",
    "version": 3
   },
   "file_extension": ".py",
   "mimetype": "text/x-python",
   "name": "python",
   "nbconvert_exporter": "python",
   "pygments_lexer": "ipython3",
   "version": "3.9.11"
  },
  "orig_nbformat": 4
 },
 "nbformat": 4,
 "nbformat_minor": 2
}
