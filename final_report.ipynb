{
 "cells": [
  {
   "attachments": {},
   "cell_type": "markdown",
   "metadata": {},
   "source": [
    "# Delivery time prediction\n",
    "\n",
    "Justyna Gibas 403122 <br>\n",
    "Jan Pomykacz"
   ]
  },
  {
   "attachments": {},
   "cell_type": "markdown",
   "metadata": {},
   "source": [
    "## Introduction\n",
    "The goal of our project is to predict food delivery time. Model can be used by companies to estimate delivery time based on distance, order time etc, and notify their customers when food should arrive. Such notification are implemented in services (e.g Pyszne.pl), but often they're incorrect."
   ]
  },
  {
   "attachments": {},
   "cell_type": "markdown",
   "metadata": {},
   "source": [
    "## Dataset\n",
    "In project we use data from Kaggle only from file train.csv (https://www.kaggle.com/datasets/gauravmalik26/food-delivery-dataset?select=train.csv).  Both numerical and categorical variable are available. Data comes from orders in India. Dataset contain information about:\n",
    "-\torder ID and delivery person ID,\n",
    "-\tdelivery person age and rating,\n",
    "-\tcoordinates of restaurant,\n",
    "-\tcoordinates of delivery location,\n",
    "-\torder date and time,\n",
    "-\tpickup time (by delivery person),\n",
    "-\tweather conditions,\n",
    "-\ttraffic,\n",
    "-\tvehicle type and it’s condition,\n",
    "-\ttype of food ordered,\n",
    "-\tcity type, \n",
    "-\tinformation if there is a festival,\n",
    "-\tnumber of deliveries,\n",
    "-\tnumber of simultaneously delivered orders,\n",
    "-\tdelivery time (in minutes). <br><br>\n",
    "\n",
    "We don’t take into consideration IDs, information about festivals (are very rare 1-2% of data) and vehicle condition (values aren’t described)\n",
    "\n"
   ]
  },
  {
   "attachments": {},
   "cell_type": "markdown",
   "metadata": {},
   "source": [
    "## DAG"
   ]
  },
  {
   "attachments": {},
   "cell_type": "markdown",
   "metadata": {},
   "source": [
    "## Possible cofoundings"
   ]
  },
  {
   "attachments": {},
   "cell_type": "markdown",
   "metadata": {},
   "source": [
    "## Data Preprocessing\n",
    "\n",
    "To prepare data for modelling and better them understand we take the following  steps:\n",
    "1.\tdelete wrong coordinates – Some records contain coordinates that don’t belong to India e.g. ocean point. We remove them due to we can't create road paths between this points.\n",
    "2.\tremove records containing nulls – We don’t consider missing or corrupted predictors/data, because they make prediction impossible.\n",
    "3.\tcalculate meal preparation time – There was only date and time for of order and pick up by delivery person. We calculate time in minutes to simplified modelling.\n",
    "4.\tdelete impossible delivery times – Some records contain delivery time that is lower or equal to meal preparation time. We assumed that meal preparation time is part of delivery time so those records would have negative travel time.\n",
    "5.\tconverting coordinates to road distance – We mapped the coordinates to a distance to better match the actual delivery route.  We used OpenStreetMaps API.  Some created routes have incorrect distances or failed to create.\n",
    "6.\tremoving corrupted routes – There were some issue with routing – road distances was lower that straight line distance, returned distance was abnormal (90 km) ???. \n",
    "7.\tfiltering data – We assumed that maximum delivery distance is around 20 km.  In modelling we used records that have distances lower or equal to 20.\n",
    "8.\tmapping categorical (string) data to numerical – In our models we used categorical value about traffic level, but models cannot use non-numerical predictors. \n",
    "\n",
    "Note that only filtering and mapping are done in this notebook.  You can find data after preprocessing (steps 1-6) in file delivery_time_data.csv. \n"
   ]
  },
  {
   "attachments": {},
   "cell_type": "markdown",
   "metadata": {},
   "source": [
    "# Models description\n",
    "\n",
    "We designed two models  to make a delivery time prediction. Both models using inverse gamma distribution to model the delivery time. In second model we additionally take into account parameters describing delivery person – his/her rating and number of deliveries.\n",
    "\n",
    "\n",
    "\n",
    "## Model 1\n",
    "\n",
    "$$ delivery\\_time_{i} \\sim InvGamma(\\alpha_{i}, \\beta_{i})$$\n",
    "$$ \\alpha_i=\\frac{\\mu_i^2}{\\sigma_i^2}+2$$\n",
    "$$ \\beta=\\frac{\\mu_i^3}{\\sigma_i^2}+\\mu_i $$\n",
    "$$ \\sigma_i \\sim Exponential\\left(0.5\\right)$$\n",
    "$$ \\mu_i = exp(distance\\_coeff_{i} \\cdot distance_{i} +  traffic\\_level\\_coeff[traffic\\_level_{i}]\\ + meal\\_prep\\_coeff_{i}\\ \\cdot  meal\\_prep\\_time_{i}) $$ \n",
    "$$ distance\\_coeff_{i}  \\sim Normal(0,0.3)$$ \n",
    "$$ meal\\_prep\\_coeff_{i} \\sim Normal(0,0.3)$$\n",
    "$$ traffic\\_level\\_coeff_{i} \\sim Normal(0,0.3)$$\n",
    "$$ traffic\\_level\\_coeff[1] \\sim Normal(0,0.3)$$\n",
    "$$ traffic\\_level\\_coeff[2] \\sim Normal(0,0.3)$$\n",
    "$$ traffic\\_level\\_coeff[3] \\sim Normal(0,0.3)$$\n",
    "$$ traffic\\_level\\_coeff[4] \\sim Normal(0,0.3)$$\n",
    "\n",
    "## Model 2\n",
    "\n",
    "\n",
    "$$ delivery\\_time_{i} \\sim InvGamma(\\alpha_{i}, \\beta_{i})$$\n",
    "$$ \\alpha_i=\\frac{\\mu_i^2}{\\sigma_i^2}+2$$\n",
    "$$ \\beta=\\frac{\\mu_i^3}{\\sigma_i^2}+\\mu_i $$\n",
    "$$ \\sigma_i \\sim Exponential\\left(0.5\\right)$$\n",
    "$$ \\mu_i = exp(distance\\_coeff_{i} \\cdot distance_{i}+traffic\\_level\\_coeff[traffic\\_level_{i}]\\ + meal\\_prep\\_coeff_{i}\\ \\cdot  meal\\_prep\\_time_{i} + \\\\ + person\\_raiting\\_coeff_{i} \\cdot person\\_raiting_{i} +  deliveries\\_number\\_coeff[number\\_of\\_deliveiers_{i}])$$ \n",
    "$$ distance\\_coeff_{i}  \\sim Normal(0,0.3)$$ \n",
    "$$ meal\\_prep\\_coeff_{i} \\sim Normal(0,0.3)$$\n",
    "$$ traffic\\_level\\_coeff_{i} \\sim Normal(0,0.3)$$\n",
    "$$ person\\_raiting\\_coeff_{i} \\sim Normal(0,0.3)$$\n",
    "$$ traffic\\_level\\_coeff[1] \\sim Normal(0,0.3)$$\n",
    "$$ traffic\\_level\\_coeff[2] \\sim Normal(0,0.3)$$\n",
    "$$ traffic\\_level\\_coeff[3] \\sim Normal(0,0.3)$$\n",
    "$$ traffic\\_level\\_coeff[4] \\sim Normal(0,0.3)$$\n",
    "$$ deliveries\\_number\\_coeff[1] \\sim Normal(0,0.3)$$\n",
    "$$ deliveries\\_number\\_coeff[2] \\sim Normal(0,0.3)$$\n",
    "$$ deliveries\\_number\\_coeff[3] \\sim Normal(0,0.3)$$\n",
    "$$ deliveries\\_number\\_coeff[4] \\sim Normal(0,0.3)$$"
   ]
  }
 ],
 "metadata": {
  "language_info": {
   "name": "python"
  },
  "orig_nbformat": 4
 },
 "nbformat": 4,
 "nbformat_minor": 2
}
