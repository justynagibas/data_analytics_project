{
 "cells": [
  {
   "attachments": {},
   "cell_type": "markdown",
   "metadata": {},
   "source": [
    "# Delivery time prediction\n",
    "\n",
    "Justyna Gibas 403122 <br>\n",
    "Jan Pomykacz"
   ]
  },
  {
   "attachments": {},
   "cell_type": "markdown",
   "metadata": {},
   "source": [
    "## Introduction\n",
    "The goal of our project is to predict food delivery time. Model can be used by companies to estimate delivery time based on distance, order time etc, and notify their customers when food should arrive."
   ]
  },
  {
   "attachments": {},
   "cell_type": "markdown",
   "metadata": {},
   "source": [
    "## Dataset\n",
    "In project we use data from Kaggle only from file train.csv (https://www.kaggle.com/datasets/gauravmalik26/food-delivery-dataset?select=train.csv).  Both numerical and categorical variable are available. Data comes from orders in India. Dataset contain information about:\n",
    "-\torder ID and delivery person ID,\n",
    "-\tdelivery person age and rating,\n",
    "-\tcoordinates of restaurant,\n",
    "-\tcoordinates of delivery location,\n",
    "-\torder date and time,\n",
    "-\tpickup time (by delivery person),\n",
    "-\tweather conditions,\n",
    "-\ttraffic,\n",
    "-\tvehicle type and it’s condition,\n",
    "-\ttype of food ordered,\n",
    "-\tcity type, \n",
    "-\tinformation if there is a festival,\n",
    "-\tnumber of deliveries,\n",
    "-\tnumber of simultaneously delivered orders,\n",
    "-\tdelivery time (in minutes). <br><br>\n",
    "\n",
    "We don’t take into consideration IDs, information about festivals (are very rare 1-2% of data) and vehicle condition (values aren’t described)\n",
    "\n"
   ]
  },
  {
   "attachments": {},
   "cell_type": "markdown",
   "metadata": {},
   "source": [
    "## DAG"
   ]
  },
  {
   "attachments": {},
   "cell_type": "markdown",
   "metadata": {},
   "source": [
    "## Possible cofoundings"
   ]
  },
  {
   "attachments": {},
   "cell_type": "markdown",
   "metadata": {},
   "source": [
    "## Data Preprocessing"
   ]
  },
  {
   "attachments": {},
   "cell_type": "markdown",
   "metadata": {},
   "source": [
    "# Models description\n",
    "\n",
    "## Model 1\n",
    "\n",
    "## Model 2"
   ]
  }
 ],
 "metadata": {
  "language_info": {
   "name": "python"
  },
  "orig_nbformat": 4
 },
 "nbformat": 4,
 "nbformat_minor": 2
}
