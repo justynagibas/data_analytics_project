{
 "cells": [
  {
   "cell_type": "markdown",
   "metadata": {},
   "source": [
    "# Dataset\n",
    "Daatset includes various data regarding: delivery person, restaurant and deliry location, date and time, weather traffic. Dataset contains around 45.5 k deliveries. "
   ]
  },
  {
   "cell_type": "code",
   "execution_count": 1,
   "metadata": {},
   "outputs": [],
   "source": [
    "import pandas as pd\n",
    "df = pd.read_csv(\"raw_data.csv\", na_values=\"NaN \")\n",
    "# print(len(df))"
   ]
  },
  {
   "cell_type": "markdown",
   "metadata": {},
   "source": [
    "# Dataset clearing\n",
    "Firstly, deliveries with missing data and incorrect geographical coordinates (outside of India) were filltered and deleted. There are 4225 rows with missing values. Additionally there are 3450 rows where restaurant or delivery location are outside India. After initial preprocessing almost 38k deliveries are suitable for further processing."
   ]
  },
  {
   "cell_type": "code",
   "execution_count": 2,
   "metadata": {},
   "outputs": [
    {
     "name": "stdout",
     "output_type": "stream",
     "text": [
      "4225\n"
     ]
    }
   ],
   "source": [
    "india_bbox = (68.1766451354, 7.96553477623, 97.4025614766, 35.4940095078)\n",
    "india_high_lat, india_low_lat = 35.4940095078, 7.96553477623\n",
    "india_high_long, india_low_long = 97.4025614766, 68.1766451354\n",
    "\n",
    "df.dropna(inplace=True)\n",
    "\n",
    "print(45593-len(df))\n"
   ]
  },
  {
   "cell_type": "code",
   "execution_count": 3,
   "metadata": {},
   "outputs": [
    {
     "name": "stdout",
     "output_type": "stream",
     "text": [
      "3450\n",
      "37918\n"
     ]
    }
   ],
   "source": [
    "outside_locations_df = df.loc[(df['Restaurant_latitude'] < india_low_lat) |\n",
    "                              (df['Restaurant_latitude'] > india_high_lat) |\n",
    "                              (df['Restaurant_longitude'] < india_low_long) |\n",
    "                              (df['Restaurant_longitude'] > india_high_long) |\n",
    "                              (df['Delivery_location_latitude'] < india_low_lat) |\n",
    "                              (df['Delivery_location_latitude'] > india_high_lat) |\n",
    "                              (df['Delivery_location_longitude'] < india_low_long) |\n",
    "                              (df['Delivery_location_longitude'] > india_high_long)]\n",
    "print(len(outside_locations_df))\n",
    "\n",
    "df.drop(outside_locations_df.index, inplace=True)\n",
    "print(len(df))"
   ]
  },
  {
   "cell_type": "markdown",
   "metadata": {},
   "source": [
    "# Preprocessing using OSRM API\n",
    "Next step is to map geographic coordinates onto road distance. To produse routes we used OSRM API that allows to find the fastest route between coordinates (not sure if we use route service ot trip service) via HTTP request. API is prefered as in contrast to library based clients as it produces higher quality data (less errors such impossible routes, incorrect distance etc.). Created OSRM client uses asynchnonic HTTP request to produce route biteewn restaurant and delivery location and if response is successful it save the route in csv file. Additionally logger was creates which save information about unsuccessful request and its reason. While genereting routes only one type of error occured - \"Too many request\". This indicates that server was reached max numer of request per minute (5000). Request limit is common to all users."
   ]
  },
  {
   "cell_type": "code",
   "execution_count": 4,
   "metadata": {},
   "outputs": [
    {
     "data": {
      "text/html": [
       "<div>\n",
       "<style scoped>\n",
       "    .dataframe tbody tr th:only-of-type {\n",
       "        vertical-align: middle;\n",
       "    }\n",
       "\n",
       "    .dataframe tbody tr th {\n",
       "        vertical-align: top;\n",
       "    }\n",
       "\n",
       "    .dataframe thead th {\n",
       "        text-align: right;\n",
       "    }\n",
       "</style>\n",
       "<table border=\"1\" class=\"dataframe\">\n",
       "  <thead>\n",
       "    <tr style=\"text-align: right;\">\n",
       "      <th></th>\n",
       "      <th>Og-data-row-number</th>\n",
       "      <th>Route-coordinates</th>\n",
       "      <th>Distance [km]</th>\n",
       "    </tr>\n",
       "  </thead>\n",
       "  <tbody>\n",
       "    <tr>\n",
       "      <th>0</th>\n",
       "      <td>0</td>\n",
       "      <td>[[(22.745049, 75.892472), (22.745074, 75.89247...</td>\n",
       "      <td>4.1606</td>\n",
       "    </tr>\n",
       "    <tr>\n",
       "      <th>1</th>\n",
       "      <td>1</td>\n",
       "      <td>[[(12.913096, 77.682969), (12.911958, 77.68272...</td>\n",
       "      <td>28.9704</td>\n",
       "    </tr>\n",
       "    <tr>\n",
       "      <th>2</th>\n",
       "      <td>2</td>\n",
       "      <td>[[(12.914273, 77.678365), (12.913841, 77.67824...</td>\n",
       "      <td>5.1441</td>\n",
       "    </tr>\n",
       "    <tr>\n",
       "      <th>3</th>\n",
       "      <td>3</td>\n",
       "      <td>[[(11.00363, 76.975974), (11.004857, 76.975877...</td>\n",
       "      <td>13.1787</td>\n",
       "    </tr>\n",
       "    <tr>\n",
       "      <th>4</th>\n",
       "      <td>5</td>\n",
       "      <td>[[(17.431655, 78.408324), (17.431691, 78.40848...</td>\n",
       "      <td>9.6564</td>\n",
       "    </tr>\n",
       "  </tbody>\n",
       "</table>\n",
       "</div>"
      ],
      "text/plain": [
       "   Og-data-row-number                                  Route-coordinates  \\\n",
       "0                   0  [[(22.745049, 75.892472), (22.745074, 75.89247...   \n",
       "1                   1  [[(12.913096, 77.682969), (12.911958, 77.68272...   \n",
       "2                   2  [[(12.914273, 77.678365), (12.913841, 77.67824...   \n",
       "3                   3  [[(11.00363, 76.975974), (11.004857, 76.975877...   \n",
       "4                   5  [[(17.431655, 78.408324), (17.431691, 78.40848...   \n",
       "\n",
       "   Distance [km]  \n",
       "0         4.1606  \n",
       "1        28.9704  \n",
       "2         5.1441  \n",
       "3        13.1787  \n",
       "4         9.6564  "
      ]
     },
     "execution_count": 4,
     "metadata": {},
     "output_type": "execute_result"
    }
   ],
   "source": [
    "routes_df = pd.read_csv(\"routes2.csv\")\n",
    "routes_df.head(5)"
   ]
  },
  {
   "cell_type": "markdown",
   "metadata": {},
   "source": [
    "# Final preprocessing\n",
    "Final processing includes merging results from OSRM API and dataset into one and removing unused collumns (like IDs, festivals, vehicle). Then to simplify modeling meal preparation time is calculated."
   ]
  },
  {
   "cell_type": "code",
   "execution_count": 35,
   "metadata": {},
   "outputs": [
    {
     "data": {
      "text/html": [
       "<div>\n",
       "<style scoped>\n",
       "    .dataframe tbody tr th:only-of-type {\n",
       "        vertical-align: middle;\n",
       "    }\n",
       "\n",
       "    .dataframe tbody tr th {\n",
       "        vertical-align: top;\n",
       "    }\n",
       "\n",
       "    .dataframe thead th {\n",
       "        text-align: right;\n",
       "    }\n",
       "</style>\n",
       "<table border=\"1\" class=\"dataframe\">\n",
       "  <thead>\n",
       "    <tr style=\"text-align: right;\">\n",
       "      <th></th>\n",
       "      <th>Delivery_person_Ratings</th>\n",
       "      <th>Time_Orderd</th>\n",
       "      <th>Time_Order_picked</th>\n",
       "      <th>Road_traffic_density</th>\n",
       "      <th>multiple_deliveries</th>\n",
       "      <th>Time_taken(min)</th>\n",
       "      <th>Distance [km]</th>\n",
       "    </tr>\n",
       "  </thead>\n",
       "  <tbody>\n",
       "    <tr>\n",
       "      <th>0</th>\n",
       "      <td>4.9</td>\n",
       "      <td>11:30:00</td>\n",
       "      <td>11:45:00</td>\n",
       "      <td>High</td>\n",
       "      <td>0.0</td>\n",
       "      <td>(min) 24</td>\n",
       "      <td>4.1606</td>\n",
       "    </tr>\n",
       "    <tr>\n",
       "      <th>1</th>\n",
       "      <td>4.5</td>\n",
       "      <td>19:45:00</td>\n",
       "      <td>19:50:00</td>\n",
       "      <td>Jam</td>\n",
       "      <td>1.0</td>\n",
       "      <td>(min) 33</td>\n",
       "      <td>28.9704</td>\n",
       "    </tr>\n",
       "    <tr>\n",
       "      <th>2</th>\n",
       "      <td>4.4</td>\n",
       "      <td>08:30:00</td>\n",
       "      <td>08:45:00</td>\n",
       "      <td>Low</td>\n",
       "      <td>1.0</td>\n",
       "      <td>(min) 26</td>\n",
       "      <td>5.1441</td>\n",
       "    </tr>\n",
       "    <tr>\n",
       "      <th>3</th>\n",
       "      <td>4.7</td>\n",
       "      <td>18:00:00</td>\n",
       "      <td>18:10:00</td>\n",
       "      <td>Medium</td>\n",
       "      <td>1.0</td>\n",
       "      <td>(min) 21</td>\n",
       "      <td>13.1787</td>\n",
       "    </tr>\n",
       "    <tr>\n",
       "      <th>5</th>\n",
       "      <td>4.6</td>\n",
       "      <td>13:30:00</td>\n",
       "      <td>13:45:00</td>\n",
       "      <td>High</td>\n",
       "      <td>1.0</td>\n",
       "      <td>(min) 30</td>\n",
       "      <td>8.8685</td>\n",
       "    </tr>\n",
       "  </tbody>\n",
       "</table>\n",
       "</div>"
      ],
      "text/plain": [
       "   Delivery_person_Ratings Time_Orderd Time_Order_picked Road_traffic_density  \\\n",
       "0                      4.9    11:30:00          11:45:00                High    \n",
       "1                      4.5    19:45:00          19:50:00                 Jam    \n",
       "2                      4.4    08:30:00          08:45:00                 Low    \n",
       "3                      4.7    18:00:00          18:10:00              Medium    \n",
       "5                      4.6    13:30:00          13:45:00                High    \n",
       "\n",
       "   multiple_deliveries Time_taken(min)  Distance [km]  \n",
       "0                  0.0        (min) 24         4.1606  \n",
       "1                  1.0        (min) 33        28.9704  \n",
       "2                  1.0        (min) 26         5.1441  \n",
       "3                  1.0        (min) 21        13.1787  \n",
       "5                  1.0        (min) 30         8.8685  "
      ]
     },
     "execution_count": 35,
     "metadata": {},
     "output_type": "execute_result"
    }
   ],
   "source": [
    "full_data = df.merge(routes_df, left_index=True, right_on=\"Og-data-row-number\", how=\"inner\")\n",
    "full_data.drop(columns=[\"ID\", \"Delivery_person_ID\",\"Delivery_person_ID\",\"Type_of_vehicle\",\"Festival\",\"City\",\"Vehicle_condition\",\"Og-data-row-number\", \"Delivery_person_Age\", \"Restaurant_latitude\",\n",
    "                        \"Restaurant_longitude\", \"Delivery_location_latitude\", \"Delivery_location_longitude\", \"Order_Date\", \"Weatherconditions\", \"Type_of_order\", \"Route-coordinates\"],inplace=True)\n",
    "full_data.head(5)"
   ]
  },
  {
   "cell_type": "code",
   "execution_count": 43,
   "metadata": {},
   "outputs": [
    {
     "data": {
      "text/html": [
       "<div>\n",
       "<style scoped>\n",
       "    .dataframe tbody tr th:only-of-type {\n",
       "        vertical-align: middle;\n",
       "    }\n",
       "\n",
       "    .dataframe tbody tr th {\n",
       "        vertical-align: top;\n",
       "    }\n",
       "\n",
       "    .dataframe thead th {\n",
       "        text-align: right;\n",
       "    }\n",
       "</style>\n",
       "<table border=\"1\" class=\"dataframe\">\n",
       "  <thead>\n",
       "    <tr style=\"text-align: right;\">\n",
       "      <th></th>\n",
       "      <th>Delivery_person_Ratings</th>\n",
       "      <th>Road_traffic_density</th>\n",
       "      <th>multiple_deliveries</th>\n",
       "      <th>Time_taken(min)</th>\n",
       "      <th>Distance [km]</th>\n",
       "      <th>Meal_preparation_time</th>\n",
       "    </tr>\n",
       "  </thead>\n",
       "  <tbody>\n",
       "    <tr>\n",
       "      <th>0</th>\n",
       "      <td>4.9</td>\n",
       "      <td>High</td>\n",
       "      <td>0.0</td>\n",
       "      <td>24</td>\n",
       "      <td>4.1606</td>\n",
       "      <td>15.0</td>\n",
       "    </tr>\n",
       "    <tr>\n",
       "      <th>1</th>\n",
       "      <td>4.5</td>\n",
       "      <td>Jam</td>\n",
       "      <td>1.0</td>\n",
       "      <td>33</td>\n",
       "      <td>28.9704</td>\n",
       "      <td>5.0</td>\n",
       "    </tr>\n",
       "    <tr>\n",
       "      <th>2</th>\n",
       "      <td>4.4</td>\n",
       "      <td>Low</td>\n",
       "      <td>1.0</td>\n",
       "      <td>26</td>\n",
       "      <td>5.1441</td>\n",
       "      <td>15.0</td>\n",
       "    </tr>\n",
       "    <tr>\n",
       "      <th>3</th>\n",
       "      <td>4.7</td>\n",
       "      <td>Medium</td>\n",
       "      <td>1.0</td>\n",
       "      <td>21</td>\n",
       "      <td>13.1787</td>\n",
       "      <td>10.0</td>\n",
       "    </tr>\n",
       "    <tr>\n",
       "      <th>5</th>\n",
       "      <td>4.6</td>\n",
       "      <td>High</td>\n",
       "      <td>1.0</td>\n",
       "      <td>30</td>\n",
       "      <td>8.8685</td>\n",
       "      <td>15.0</td>\n",
       "    </tr>\n",
       "  </tbody>\n",
       "</table>\n",
       "</div>"
      ],
      "text/plain": [
       "   Delivery_person_Ratings Road_traffic_density  multiple_deliveries  \\\n",
       "0                      4.9                High                   0.0   \n",
       "1                      4.5                 Jam                   1.0   \n",
       "2                      4.4                 Low                   1.0   \n",
       "3                      4.7              Medium                   1.0   \n",
       "5                      4.6                High                   1.0   \n",
       "\n",
       "  Time_taken(min)  Distance [km]  Meal_preparation_time  \n",
       "0              24         4.1606                   15.0  \n",
       "1              33        28.9704                    5.0  \n",
       "2              26         5.1441                   15.0  \n",
       "3              21        13.1787                   10.0  \n",
       "5              30         8.8685                   15.0  "
      ]
     },
     "execution_count": 43,
     "metadata": {},
     "output_type": "execute_result"
    }
   ],
   "source": [
    "full_data[\"Time_taken(min)\"] = full_data[\"Time_taken(min)\"].str.removeprefix(\"(min) \")\n",
    "full_data[[\"Time_Orderd\",\"Time_Order_picked\"]] = full_data[[\"Time_Orderd\",\"Time_Order_picked\"]] .apply(pd.to_datetime, format=\"%H:%M:%S\")\n",
    "full_data[\"Meal_preparation_time\"] = full_data[\"Time_Order_picked\"]-full_data[\"Time_Orderd\"]\n",
    "full_data[\"Meal_preparation_time\"] = full_data[\"Meal_preparation_time\"].dt.total_seconds()/60\n",
    "full_data.loc[full_data[\"Meal_preparation_time\"]<0, \"Meal_preparation_time\"] = full_data[\"Meal_preparation_time\"] + 1440\n",
    "model_data = full_data.drop(columns=[\"Time_Orderd\",\"Time_Order_picked\"])\n",
    "model_data.head(5)\n"
   ]
  },
  {
   "cell_type": "markdown",
   "metadata": {},
   "source": [
    "Check if delivery is possible considering Time taken and Meal preparation time. Arounf 1600 deliveries are impossible (total time is equal or smaller than time of preparing the meal)."
   ]
  },
  {
   "cell_type": "code",
   "execution_count": 48,
   "metadata": {},
   "outputs": [
    {
     "data": {
      "text/html": [
       "<div>\n",
       "<style scoped>\n",
       "    .dataframe tbody tr th:only-of-type {\n",
       "        vertical-align: middle;\n",
       "    }\n",
       "\n",
       "    .dataframe tbody tr th {\n",
       "        vertical-align: top;\n",
       "    }\n",
       "\n",
       "    .dataframe thead th {\n",
       "        text-align: right;\n",
       "    }\n",
       "</style>\n",
       "<table border=\"1\" class=\"dataframe\">\n",
       "  <thead>\n",
       "    <tr style=\"text-align: right;\">\n",
       "      <th></th>\n",
       "      <th>Delivery_person_Ratings</th>\n",
       "      <th>Road_traffic_density</th>\n",
       "      <th>multiple_deliveries</th>\n",
       "      <th>Time_taken(min)</th>\n",
       "      <th>Distance [km]</th>\n",
       "      <th>Meal_preparation_time</th>\n",
       "    </tr>\n",
       "  </thead>\n",
       "  <tbody>\n",
       "    <tr>\n",
       "      <th>0</th>\n",
       "      <td>4.9</td>\n",
       "      <td>High</td>\n",
       "      <td>0.0</td>\n",
       "      <td>24</td>\n",
       "      <td>4.1606</td>\n",
       "      <td>15.0</td>\n",
       "    </tr>\n",
       "    <tr>\n",
       "      <th>1</th>\n",
       "      <td>4.5</td>\n",
       "      <td>Jam</td>\n",
       "      <td>1.0</td>\n",
       "      <td>33</td>\n",
       "      <td>28.9704</td>\n",
       "      <td>5.0</td>\n",
       "    </tr>\n",
       "    <tr>\n",
       "      <th>2</th>\n",
       "      <td>4.4</td>\n",
       "      <td>Low</td>\n",
       "      <td>1.0</td>\n",
       "      <td>26</td>\n",
       "      <td>5.1441</td>\n",
       "      <td>15.0</td>\n",
       "    </tr>\n",
       "    <tr>\n",
       "      <th>3</th>\n",
       "      <td>4.7</td>\n",
       "      <td>Medium</td>\n",
       "      <td>1.0</td>\n",
       "      <td>21</td>\n",
       "      <td>13.1787</td>\n",
       "      <td>10.0</td>\n",
       "    </tr>\n",
       "    <tr>\n",
       "      <th>5</th>\n",
       "      <td>4.6</td>\n",
       "      <td>High</td>\n",
       "      <td>1.0</td>\n",
       "      <td>30</td>\n",
       "      <td>8.8685</td>\n",
       "      <td>15.0</td>\n",
       "    </tr>\n",
       "  </tbody>\n",
       "</table>\n",
       "</div>"
      ],
      "text/plain": [
       "   Delivery_person_Ratings Road_traffic_density  multiple_deliveries  \\\n",
       "0                      4.9                High                   0.0   \n",
       "1                      4.5                 Jam                   1.0   \n",
       "2                      4.4                 Low                   1.0   \n",
       "3                      4.7              Medium                   1.0   \n",
       "5                      4.6                High                   1.0   \n",
       "\n",
       "   Time_taken(min)  Distance [km]  Meal_preparation_time  \n",
       "0               24         4.1606                   15.0  \n",
       "1               33        28.9704                    5.0  \n",
       "2               26         5.1441                   15.0  \n",
       "3               21        13.1787                   10.0  \n",
       "5               30         8.8685                   15.0  "
      ]
     },
     "execution_count": 48,
     "metadata": {},
     "output_type": "execute_result"
    }
   ],
   "source": [
    "model_data[\"Time_taken(min)\"] = model_data[\"Time_taken(min)\"].astype(int)\n",
    "impossible_deliery = model_data.loc[model_data[\"Time_taken(min)\"] <= model_data[\"Meal_preparation_time\"]]\n",
    "model_data.drop(impossible_deliery.index, inplace=True)\n",
    "model_data.head(5)"
   ]
  },
  {
   "cell_type": "markdown",
   "metadata": {},
   "source": [
    "# Additional preparation for model\n",
    "To be able to use categorical data like traffic level or multiple deliveries we mapped non-numerical values to index variable in range 1-4 to use it in stan model. Also standarization for road distances, meal preparation and delivery person rating was made as data was to widely spread which cause problems inmodeling. This also simplified interpretation of model and its parts. \n",
    "\n",
    "Filtering data to manualy set maximum distance of the delivery still is a vaiable option."
   ]
  },
  {
   "cell_type": "code",
   "execution_count": 51,
   "metadata": {},
   "outputs": [
    {
     "data": {
      "text/plain": [
       "121.8955"
      ]
     },
     "execution_count": 51,
     "metadata": {},
     "output_type": "execute_result"
    }
   ],
   "source": [
    "# Standardization\n",
    "model_data[\"Distance [km]\"].max()\n",
    "# model_data[\"Normalized Distance\"] = (model_data[\"Distance [km]\"] - model_data[\"Distance [km]\"].mean())/ model_data"
   ]
  }
 ],
 "metadata": {
  "kernelspec": {
   "display_name": "Python 3",
   "language": "python",
   "name": "python3"
  },
  "language_info": {
   "codemirror_mode": {
    "name": "ipython",
    "version": 3
   },
   "file_extension": ".py",
   "mimetype": "text/x-python",
   "name": "python",
   "nbconvert_exporter": "python",
   "pygments_lexer": "ipython3",
   "version": "3.9.13"
  }
 },
 "nbformat": 4,
 "nbformat_minor": 2
}
